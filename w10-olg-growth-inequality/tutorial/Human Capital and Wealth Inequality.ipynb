{
 "cells": [
  {
   "cell_type": "markdown",
   "metadata": {
    "collapsed": true,
    "slideshow": {
     "slide_type": "slide"
    }
   },
   "source": [
    "# Public versus Private Funding of Education: Growth vs. Inequality\n",
    "\n",
    "Author: [Timothy Kam](https://github.com/phantomachine) | [Twitter](https://twitter.com/machinafantasma)\n"
   ]
  },
  {
   "cell_type": "markdown",
   "metadata": {
    "slideshow": {
     "slide_type": "subslide"
    }
   },
   "source": [
    "\n",
    "\n",
    "**Key Learning Points - Economics**\n",
    "\n",
    "* Optimal saving and consumption\n",
    "\n",
    "* General (Walrasian) Equilibrium (in OLG setting) - as a Recursive Equilibrium Map\n",
    "\n",
    "* Cross-sectional heterogeneity in wealth\n",
    "\n",
    "* Dynamics of wealth inequality\n",
    "\n",
    "* Education and tax policy"
   ]
  },
  {
   "cell_type": "markdown",
   "metadata": {
    "slideshow": {
     "slide_type": "subslide"
    }
   },
   "source": [
    "**Key Learning Points - Skills**\n",
    "\n",
    "\n",
    "* Recursive maps: Difference equation system, Boundary value problem\n",
    "\n",
    "* Python:\n",
    "\n",
    "    * Loops, conditional statements, NumPy arrays, Defining custom functions (``def``)\n"
   ]
  },
  {
   "cell_type": "code",
   "execution_count": 1,
   "metadata": {
    "slideshow": {
     "slide_type": "skip"
    }
   },
   "outputs": [],
   "source": [
    "import numpy as np\n",
    "import matplotlib.pyplot as plt\n",
    "import scipy as sp\n",
    "from scipy.stats import norm, lognorm"
   ]
  },
  {
   "cell_type": "code",
   "execution_count": 2,
   "metadata": {
    "slideshow": {
     "slide_type": "skip"
    }
   },
   "outputs": [],
   "source": [
    "%matplotlib inline"
   ]
  },
  {
   "cell_type": "markdown",
   "metadata": {
    "slideshow": {
     "slide_type": "slide"
    }
   },
   "source": [
    "# MOTIVATION"
   ]
  },
  {
   "cell_type": "markdown",
   "metadata": {
    "slideshow": {
     "slide_type": "subslide"
    }
   },
   "source": [
    "## Data\n",
    "\n",
    "Let's look at some observed data\n",
    "\n",
    "* Source: https://ourworldindata.org/income-inequality"
   ]
  },
  {
   "cell_type": "markdown",
   "metadata": {
    "slideshow": {
     "slide_type": "subslide"
    }
   },
   "source": [
    "**Empirical observation 1**\n",
    "    \n",
    "* *Income inequality* in English-speaking countries follow a *U shape*: rising since late 1970s\n",
    "\n",
    "* In continental Europe and Japan, it follows more of an *L shape*: fall and remains roughly constant since 1950s"
   ]
  },
  {
   "cell_type": "markdown",
   "metadata": {
    "slideshow": {
     "slide_type": "subslide"
    }
   },
   "source": [
    "<a href=\"https://ourworldindata.org/uploads/2018/07/Top-Incomes.png\" target=\"_blank\"><img src=\"figures/topincomes.png\" width=800px/></a>\n"
   ]
  },
  {
   "cell_type": "markdown",
   "metadata": {},
   "source": [
    "**Empirical observation 2**\n",
    "\n",
    "* In all countries there is *less inequality* after redistributive taxes and transfers\n",
    "\n",
    "* But ... reductions in inequality vary between countries\n",
    "\n",
    "* Substantial cross-country heterogeneity in inequality remains after redistribution"
   ]
  },
  {
   "cell_type": "markdown",
   "metadata": {},
   "source": [
    "<a href=\"https://ourworldindata.org/uploads/2013/12/inequality-of-incomes-before-and-after-taxes-and-transfers.png\" target=\"_blank\"><img src=\"figures/inequality-of-incomes-before-and-after-taxes-and-transfers.png\" width=800px/></a>"
   ]
  },
  {
   "cell_type": "markdown",
   "metadata": {
    "slideshow": {
     "slide_type": "slide"
    }
   },
   "source": [
    "# SIMPLE MODEL: ENDOGENOUS GROWTH AND INEQUALITY"
   ]
  },
  {
   "cell_type": "markdown",
   "metadata": {
    "slideshow": {
     "slide_type": "subslide"
    }
   },
   "source": [
    "## A structure for interpretation and narrative\n",
    "\n",
    "Now let's try to (qualitatively) rationalize some of the facts using a simple model (a *parable* if you will)\n",
    "\n",
    "* Abstract from many factors and details\n",
    "\n",
    "* Focus on the role of Human Capital accumulation as a driver for endogenous growth (like in Lucas, 1988)\n",
    "\n",
    "* But how Human Capital investment financing is done matters for inequality\n",
    "\n",
    "More advanced work may allow us to also explain these facts more accurately or quantitatively"
   ]
  },
  {
   "cell_type": "markdown",
   "metadata": {
    "slideshow": {
     "slide_type": "subslide"
    }
   },
   "source": [
    "Why overlapping generations (OLG) growth model?\n",
    "\n",
    "* Useful starting point to think about *optimal consumption/saving* behavior in a *general equilibrium* setting\n",
    "\n",
    "* A model with a natural notion of *heterogeneity*:\n",
    "\n",
    "    * Heterogeneity implies individual-level differences in marginal propensities to consumption, hence potentially heterogeneous response to public policy\n",
    "    \n",
    "    * Useful for thinking about inequality, redistributive and intergenerational policies (e.g., pensions, education, environment, demographic change, aging and healthcare)\n",
    "    \n",
    "* **This week**: Example on public education policy and long run wealth inequality vs. growth"
   ]
  },
  {
   "cell_type": "markdown",
   "metadata": {
    "slideshow": {
     "slide_type": "subslide"
    }
   },
   "source": [
    "## Agenda\n",
    "\n",
    "So far ...\n",
    "    \n",
    "* A simple OLG setup due to [Peter Diamond](https://en.wikipedia.org/wiki/Peter_Diamond) ...\n",
    "\n",
    "* Diamond, in turn, built on [Paul Samuelson's exact consumption-loan model](https://www.jstor.org/stable/1826989).\n",
    "\n",
    "* This model --- via the computable policy model of [Auerbach and Kotlikoff](https://www.nber.org/papers/w6684) --- has since become a backbone for many large-scale, quantitative fiscal policy models:\n",
    "    * U.S. Congressional Budget Office\n",
    "    * Australian Treasury\n",
    "  \n"
   ]
  },
  {
   "cell_type": "markdown",
   "metadata": {
    "slideshow": {
     "slide_type": "subslide"
    }
   },
   "source": [
    "## Agenda (continued)\n",
    "\n",
    "Today ...\n",
    "\n",
    "* Now consider adding human capital investment (education):\n",
    "\n",
    "    * role in endogenously driving long-run growth in technology and living standard\n",
    "    \n",
    "    * but ... how it's financed may affect inequality of wealth and opportunity too!"
   ]
  },
  {
   "cell_type": "markdown",
   "metadata": {
    "slideshow": {
     "slide_type": "slide"
    }
   },
   "source": [
    "# HUMAN CAPITAL, GROWTH AND INEQUALITY"
   ]
  },
  {
   "cell_type": "markdown",
   "metadata": {
    "slideshow": {
     "slide_type": "subslide"
    }
   },
   "source": [
    "## Reference\n",
    "\n",
    "* Gerhard Glomm and B. Ravikumar, \"Public versus Private Investment in Human Capital: Endogenous Growth and Income Inequality\", [*Journal of Political Economy* Vol. 100, No. 4 (Aug., 1992), pp. 818-834](https://www.jstor.org/stable/2138689). The University of Chicago Press \n",
    "\n",
    "* David de la Croix and Phillipe Michel, [*A Theory of Economic Growth: Dynamics and Policy in Overlapping Generations*](https://www.amazon.com/Theory-Economic-Growth-Overlapping-Generations/dp/0521001153), Cambridge University Press (Nov., 2002)."
   ]
  },
  {
   "cell_type": "markdown",
   "metadata": {
    "slideshow": {
     "slide_type": "subslide"
    }
   },
   "source": [
    "## Notation\n",
    "\n",
    "* $t \\in \\mathbb{N} := \\{0,1,2, ...\\}$ : Date / time \n",
    "\n",
    "* $c_{t}$ : Consumption outcome of a $y$oung agent in date $t$\n",
    "\n",
    "* $d_{t}$ : Consumption outcome of an $o$ld agent in date $t$\n",
    "\n",
    "* $s_{t}$ : Savings by a young agent in date $t$\n",
    "\n",
    "* $w_{t}$ : Real wage rate (in units of date $t$ consumption)\n",
    "\n",
    "* $R_{t+1}$ : Relative price of date-$(t+1)$ consumption (in units of date $t$ consumption) \n",
    "\n",
    "* $k_{t}$, ($y_{t}$) : Per-worker capital stock (output) in terms of \"efficient\" worker units"
   ]
  },
  {
   "cell_type": "markdown",
   "metadata": {
    "slideshow": {
     "slide_type": "subslide"
    }
   },
   "source": [
    "## Notation (continued)\n",
    "\n",
    "* $e_{t}$ : Education expenditure\n",
    "\n",
    "* $h_{t}$ : Individual's stock of human capital\n",
    "\n",
    "* $H_{t}$ : Aggregate stock of human capital\n",
    "\n",
    "* $l_{t}$ : $\\ln(h_{t})$ \n",
    "\n",
    "* $1$ : Normalized individual time endowment"
   ]
  },
  {
   "cell_type": "markdown",
   "metadata": {
    "slideshow": {
     "slide_type": "subslide"
    }
   },
   "source": [
    "## Human capital evolution\n",
    "\n",
    "Assumptions:\n",
    "\n",
    "* It takes time for current educational investment $e_{t}$ to be embodied in next-period children. \n",
    "\n",
    "* A child's human capital ($h_{t+1}$) will also inherit from her parents' human capital ($h_{t}$). \n",
    "\n",
    "<a id='evo_h'>Evolution (or production) of within-household human capital</a>:\n",
    "\n",
    "\\begin{equation}\n",
    "\th_{t+1} =  Ae_{t}^{\\theta}h_{t}^{1-\\theta}, \\qquad \\theta \\in (0,1), A > 0.\n",
    "\t\\label{eq:OLG human capital production}\n",
    "\\end{equation}\n",
    "\n"
   ]
  },
  {
   "cell_type": "markdown",
   "metadata": {
    "slideshow": {
     "slide_type": "subslide"
    }
   },
   "source": [
    "## Household (agent)\n",
    "\n",
    "* Constant population of young people of size one. \n",
    "\n",
    "* For each household cohort born at date $t$, their lifetime payoff depends on:\n",
    "\n",
    "    1. their own consumption when young $c_{t}$ \n",
    "    \n",
    "    2. own consumption when old $d_{t+1}$, and \n",
    "    \n",
    "    3. expenditure on their children's education $e_{t}$\n",
    "\n",
    "\n"
   ]
  },
  {
   "cell_type": "markdown",
   "metadata": {
    "slideshow": {
     "slide_type": "subslide"
    }
   },
   "source": [
    "Lifetime utility:\n",
    "\n",
    "\\begin{equation}\n",
    "\tU(c_t) + \\beta U(d_{t+1}) + \\gamma U(e_{t})\n",
    "\t\\label{eq: OLG lifetime utility}\n",
    "\\end{equation}\n",
    "\n",
    "\n",
    "* $\\beta \\in (0,1)$ (household impatience)\n",
    "\n",
    "* $\\gamma > 0$ (degree of altruism towards one's own children)\n",
    "\n",
    "Assume $U(x) = \\ln (x)$.\n",
    "\n"
   ]
  },
  {
   "cell_type": "markdown",
   "metadata": {
    "slideshow": {
     "slide_type": "subslide"
    }
   },
   "source": [
    "## Case 1. Private funding of education\n",
    "\n",
    "The date $t$ household faces these budget constraints over their lifetime:\n",
    "\\begin{equation}\n",
    "\tc_{t} + s_{t} + e_{t} = w_t h_{t},\n",
    "\t\\label{eq: OLG young BC}\n",
    "\\end{equation}\n",
    "and,\n",
    "\\begin{equation}\n",
    "\td_{t+1}  = R_{t+1}s_t\n",
    "\t\\label{eq: OLG old BC}\n",
    "\\end{equation}\n"
   ]
  },
  {
   "cell_type": "markdown",
   "metadata": {
    "slideshow": {
     "slide_type": "subslide"
    }
   },
   "source": [
    "**Exercise! (Case 1: private education funding)**\n",
    "\n",
    "Show that the <a id='private_s'>optimal saving function</a> is\n",
    "\n",
    "$$\n",
    "s_{t} = \\underbrace{\\frac{\\beta}{1+\\beta+\\gamma}}_{\\text{mps}}w_{t}h_{t},\n",
    "$$\n",
    "\n",
    "and, <a id='private_e'>optimal private education expenditure</a> is\n",
    "\n",
    "$$\n",
    "\\qquad e_{t} = \\underbrace{\\frac{\\gamma}{1+\\beta+\\gamma}}_{\\text{mpe}}w_{t}h_{t}.\n",
    "$$\n",
    "\n"
   ]
  },
  {
   "cell_type": "markdown",
   "metadata": {
    "slideshow": {
     "slide_type": "subslide"
    }
   },
   "source": [
    "**Pause ... and think ...!**\n",
    "\n",
    "All else constant:\n",
    "\n",
    "* if agents less impatient (higher $\\beta$) the marginal propensity to save is higher: $\\partial mps/\\partial \\beta > 0$\n",
    "\n",
    "* if agents are more altruistic toward their children (higher $\\gamma$) the marginal propensity to privately spend on education is higher: $\\partial mpe/\\partial \\gamma > 0$"
   ]
  },
  {
   "cell_type": "markdown",
   "metadata": {
    "slideshow": {
     "slide_type": "subslide"
    }
   },
   "source": [
    "## Firm\n",
    "\n",
    "A representative firm produces a per-person final good using the technology:\n",
    "\n",
    "\\begin{equation}\n",
    "\tf(k_{t}) := Z k_{t}^{\\alpha}, \\qquad \\alpha \\in (0,1), Z >0.\n",
    "\t\\label{eq: OLG final goods production}\n",
    "\\end{equation}\n",
    "\n",
    "The variable $k_{t} := K_{t}/H_{t}$ is the aggregate capital-to-efficient-labor ratio.\n",
    "\n",
    "    \n"
   ]
  },
  {
   "cell_type": "markdown",
   "metadata": {
    "slideshow": {
     "slide_type": "subslide"
    }
   },
   "source": [
    "Assume capital depreciates fully each period.\n",
    "\n",
    "Profit maximization gives the firm's <a id='labor-cap-demand'>optimal demand for effective labor and capital</a>, respectively, as\n",
    "\n",
    "\\begin{equation}\n",
    "\tw_{t} =  (1-\\alpha)Zk_{t}^{\\alpha},\n",
    "\t\\label{eq: OLG labor demand}\n",
    "\\end{equation}\n",
    "\n",
    "and,\n",
    "\n",
    "\\begin{equation}\n",
    "\tR_{t} =  \\alpha Zk_{t}^{\\alpha - 1}.\n",
    "\t\\label{eq: OLG capital demand}\n",
    "\\end{equation}\n",
    "\n",
    "\n"
   ]
  },
  {
   "cell_type": "markdown",
   "metadata": {
    "slideshow": {
     "slide_type": "subslide"
    }
   },
   "source": [
    "## Aggregation and market clearing\n",
    "\n",
    "* Let the cumulative probability distribution function over $h_{t}$ at date $t$ be $M_{t}: \\mathbb{R}_{++} \\mapsto [0,1]$. \n",
    "\n",
    "    * The function $M_{t}$ is non-decreasing, \n",
    "    \n",
    "    * $M_{t}(0^{+}) = 0$ and $M_{t}(+\\infty) = 1$, where $0^{+} := \\lim_{h \\searrow 0} h$.  \n",
    "    \n",
    "* Let the distribution of the logarithm of $h_{t}$ be given by the c.d.f. $\\mu_{t}$. Note:\n",
    "\n",
    "    $$\n",
    "    \\mu_{t}(\\ln (h_{t})) = M_{t}(h_{t}).\n",
    "    $$\n",
    "\n",
    "* Assume initially, $\\mu_{0}$, has variance $\\sigma_0 > 0$.\n",
    "\n"
   ]
  },
  {
   "cell_type": "markdown",
   "metadata": {
    "slideshow": {
     "slide_type": "subslide"
    }
   },
   "source": [
    "Thus, we can account for the aggregate level of human capital through <a id='H_clearing'>labor market clearing</a>:\n",
    "$$\n",
    "\tH_{t} := \\int \\underbrace{e^{\\ln (h_{t})}}_{\\text{Individual } h_{t}} \\text{d}\\mu_{t}(\\ln (h_{t})).\n",
    "\t\\label{eq: OLG aggregate H capital}\n",
    "$$\n",
    "\n",
    "<a id='K_clearing'>Capital market clearing</a> is summarized by\n",
    "\\begin{equation}\n",
    "\t\\underbrace{K_{t+1}}_{\\text{Aggregate capital for next period}} = \\int \\underbrace{e^{\\ln (s_{t})}}_{\\text{Individual } s_{t}} \\text{d}\\mu_{t}(\\ln (h_{t})).\n",
    "\t\\label{eq: OLG capital clearing}\n",
    "\\end{equation} \n",
    "\n"
   ]
  },
  {
   "cell_type": "markdown",
   "metadata": {
    "slideshow": {
     "slide_type": "subslide"
    }
   },
   "source": [
    "Plug [optimal education demand](#private_e) into the [evolution of individual human capital](#evo_h), we get:\n",
    "\n",
    "$$\n",
    "\\frac{h_{t+1}}{h_{t}} = A\\left[\\frac{\\gamma}{1+\\beta+\\gamma}w_{t}\\right]^{\\theta}.\n",
    "$$\n",
    "\n",
    "<a id='evo_indiv_h_private'>Growth rate in *individual household's* human capital</a> is a positive-valued function of the aggregate outcome."
   ]
  },
  {
   "cell_type": "markdown",
   "metadata": {
    "slideshow": {
     "slide_type": "subslide"
    }
   },
   "source": [
    "In equilibrium $w_{t} = (1-\\alpha)Zk_{t}^{\\alpha}$ is known (as $k_{t}$ is already fixed at date $t$).\n",
    "\n",
    "So the <a id='H_growth_private'>growth rate in *average/aggregate* human capital</a> must be the same as that for individuals:\n",
    "\n",
    "$$\n",
    "\\frac{H_{t+1}}{H_{t}} \\equiv \\frac{h_{t+1}}{h_{t}} = A\\left[\\frac{\\gamma}{1+\\beta+\\gamma}w_{t}\\right]^{\\theta}.\n",
    "$$"
   ]
  },
  {
   "cell_type": "markdown",
   "metadata": {
    "slideshow": {
     "slide_type": "slide"
    }
   },
   "source": [
    "## Consequence for living-standard growth"
   ]
  },
  {
   "cell_type": "markdown",
   "metadata": {
    "slideshow": {
     "slide_type": "subslide"
    }
   },
   "source": [
    "\n",
    "\n",
    "For equilibrium, we can combine the [optimal saving function](#private_s) and [capital market clearing condition](#K_clearing) to get\n",
    "\n",
    "$$\n",
    "\\begin{split}\n",
    "K_{t+1} &= \\int \\underbrace{\\frac{\\beta}{1+\\beta +\\gamma}w_{t}h_{t}}_{=s_t} \\text{d}M_{t}(h_{t})\n",
    "\\\\\n",
    "&= \\frac{\\beta}{1+\\beta +\\gamma}w_{t}H_{t}\n",
    "\\end{split}\n",
    "$$\n",
    "\n",
    "The second line uses the [labor market clearing condition](#H_clearing)"
   ]
  },
  {
   "cell_type": "markdown",
   "metadata": {
    "slideshow": {
     "slide_type": "subslide"
    }
   },
   "source": [
    "Now, dividing through by $H_{t+1}$ on both sides,\n",
    "\n",
    "$$\n",
    "\\frac{K_{t+1}}{H_{t+1}} = \\frac{\\beta}{1+\\beta +\\gamma}w_{t}\\frac{H_{t}}{H_{t+1}}\n",
    "$$\n",
    "\n",
    "Using the result on the [growth rate of aggregate human capital](#H_growth_private), we can write\n",
    "\n",
    "$$\n",
    "\\frac{K_{t+1}}{H_{t+1}} = \\frac{\\beta \\kappa^{-1}}{1+\\beta +\\gamma}w_{t}^{1-\\theta}, \\qquad \\kappa := A\\left(\\frac{\\gamma}{1+\\beta+\\gamma}\\right)^{\\theta}.\n",
    "$$"
   ]
  },
  {
   "cell_type": "markdown",
   "metadata": {
    "slideshow": {
     "slide_type": "subslide"
    }
   },
   "source": [
    "Define capital per efficiency units of worker as the physical-capital-to-human-capital ratio, $k_{t} = K_{t}/H_{t}$.\n",
    "\n",
    "We can write, using the [labor demand equation](labor-cap-demand) to replace $w_{t}$:\n",
    "\n",
    "$$\n",
    "k_{t+1} = \\frac{\\beta \\kappa^{-1}}{1+\\beta +\\gamma}\\left[(1-\\alpha)Zk_{t}^{\\alpha}\\right]^{1-\\theta} \\equiv g_p(k_t),\n",
    "$$\n",
    "\n",
    "where $\\kappa := A\\left(\\frac{\\gamma}{1+\\beta+\\gamma}\\right)^{\\theta}$."
   ]
  },
  {
   "cell_type": "markdown",
   "metadata": {
    "slideshow": {
     "slide_type": "subslide"
    }
   },
   "source": [
    "### Pause ... and think ...\n",
    "\n",
    "Since $\\alpha (1-\\theta) \\in (0,1)$ ...\n",
    "\n",
    "* the equilibrium recursive map $k_{t} \\mapsto g_p(k_{t}) = k_{t+1}$ looks qualitatively similar to that of the Diamond OLG model and the Solow-Swan growth model.\n",
    "\n",
    "    * **Warning**: $k := K/H$ is aggregate capital scaled by total human capital stock (effective labor)\n",
    "\n",
    "* We expect the dynamic equilibrium $k_{t}$ to be monotonically convergent onto a unique (non-trivial) steady state point.\n",
    "\n"
   ]
  },
  {
   "cell_type": "markdown",
   "metadata": {
    "slideshow": {
     "slide_type": "slide"
    }
   },
   "source": [
    "## Consequence for distribution of wealth/income\n",
    "\n"
   ]
  },
  {
   "cell_type": "markdown",
   "metadata": {
    "slideshow": {
     "slide_type": "subslide"
    }
   },
   "source": [
    "### Pause ... and think ...\n",
    "\n",
    "* *Individual* labor income is $w_{t}h_{t}$\n",
    "\n",
    "* *Individual* wealth is just $s_{t}$ \n",
    "\n",
    "* *Individual* capital income is $R_{t+1}s_{t}$\n",
    "\n",
    "$s_{t}$ is a function of $w_{t}h_{t}$ in equilibrium\n",
    "\n",
    "So the equilibrium distribution of (i.e., heterogeneity in) $h_{t}$ will drive inequality in labor and capital incomes, and, in wealth\n"
   ]
  },
  {
   "cell_type": "markdown",
   "metadata": {
    "slideshow": {
     "slide_type": "subslide"
    }
   },
   "source": [
    "Take logs of the [equilibrium growth process for individual human capital](#evo_indiv_h_private).\n",
    "\n",
    "The <a id='log_h_process_private'>logarithm of equilibrium human capital accumulation process</a> is:\n",
    "\n",
    "$$\n",
    "\\ln (h_{t+1}) = \\ln (h_{t}) + \\ln \\left\\{ \\kappa w_{t}^\\theta\\right\\}.\n",
    "$$\n",
    "\n",
    "Note that for some number $\\ell := \\ln(h)$ the probability that next period log-human-capital is no more than $\\ell$ is:\n",
    "\n",
    "$$\n",
    "\\begin{split}\n",
    "\\mu_{t+1}(\\ell) &= \\Pr\\left\\{ \\ln (h_{t+1}) \\leq \\ell \\right\\}\n",
    "\\\\\n",
    "&= \\Pr\\left\\{ \\ln (h_{t}) \\leq \\ell - \\ln \\left( \\kappa w_{t}^\\theta\\right) \\right\\}\n",
    "\\\\\n",
    "&= \\mu_{t}\\left(\\ell - \\ln \\left( \\kappa w_{t}^\\theta\\right)\\right)\n",
    "\\end{split}\n",
    "$$\n",
    "\n",
    "This describes the transition dynamics of the cross-sectional distribution of heterogenous (young) agents, each indexed by $h_{t}$."
   ]
  },
  {
   "cell_type": "markdown",
   "metadata": {
    "slideshow": {
     "slide_type": "subslide"
    }
   },
   "source": [
    "### Special case (Log-Normally distributed $h_{t}$)\n",
    "\n",
    "Suppose the *initial distribution* of *log human capital*, $\\mu_0$, is Normal: $\\mathcal{N}\\left(\\bar{l}_0, \\sigma_{0}^{2}\\right)$ \n",
    "\n",
    "* Many observed distributions in nature and economics can be well-approximated by a log-Normal distribution\n",
    "\n",
    "From [the last step](#log_h_process_private), a linear transformation of a Normal random variable still yields a Normal random variable. That is for each $t \\geq 0$:\n",
    "\n",
    "* $\\ln \\left\\{ \\kappa w_{t}^\\theta\\right\\}$ is constant/known at $t$\n",
    "\n",
    "* If $\\ln(h_{t}) \\sim \\mu_{t} \\equiv \\mathcal{N}\\left(\\bar{l}_t, \\sigma_{t}^{2}\\right)$, then, \n",
    "\n",
    "    $$\\ln (h_{t+1}) = \\ln (h_{t}) + \\ln \\left\\{ \\kappa w_{t}^\\theta\\right\\} \\sim \\mu_{t+1} \\equiv \\mathcal{N}\\left(\\bar{l}_{t+1}, \\sigma_{t+1}^{2}\\right)\n",
    "    $$\n",
    "\n"
   ]
  },
  {
   "cell_type": "markdown",
   "metadata": {
    "slideshow": {
     "slide_type": "subslide"
    }
   },
   "source": [
    "So we can write the Normal density function of $\\ln(h_{t})$ ...\n",
    "\n",
    "... as $\\mu_{t}^{\\prime}$, where\n",
    "\n",
    "$$\n",
    "\\mu^{\\prime}_{t}(\\ell) = \\frac{1}{\\sigma_{t}\\sqrt{2\\pi}}\\exp\\left\\{-\\frac{\\left(\\ell - \\bar{l}_{t}\\right)^{2}}{2\\sigma_{t}^{2}}\\right\\}\n",
    "$$\n",
    "for any random variable $\\ell$ in the support of this distribution, i.e., $\\ell \\equiv \\ln(h) \\in \\text{supp}(\\mu_{t})$"
   ]
  },
  {
   "cell_type": "markdown",
   "metadata": {
    "slideshow": {
     "slide_type": "subslide"
    }
   },
   "source": [
    "Equivalently, we [can derive the log-Normal density function](https://en.wikipedia.org/wiki/Log-normal_distribution) of $h_{t}$ as $M_{t}^{\\prime}$, where\n",
    "\n",
    "$$\n",
    "M^{\\prime}_{t}(h) = \\frac{1}{h\\sigma_{t}\\sqrt{2\\pi}}\\exp\\left\\{-\\frac{\\left(\\ln(h) - \\bar{l}_{t}\\right)^{2}}{2\\sigma_{t}^{2}}\\right\\}\n",
    "$$\n",
    "\n",
    "for any $h \\in \\text{supp}(M_{t})$"
   ]
  },
  {
   "cell_type": "markdown",
   "metadata": {
    "slideshow": {
     "slide_type": "subslide"
    }
   },
   "source": [
    "Let $\\bar{l}_{t+1} = \\mathbb{E}_{t}\\ln (h_{t+1})$ and $\\bar{l}_{t} = \\mathbb{E}_{t}\\ln (h_{t})$ (expectations conditional on $w_{t}$).\n",
    "\n",
    "Taking conditional expectations of the [evolution of log human capital](#log_h_process_private), the <a id='evo_mean_private'>mean of the distribution of human capital</a> follows:\n",
    "\n",
    "$$\n",
    "\\bar{l}_{t+1} = \\bar{l}_{t} + v_{t}, \\qquad v_{t} := \\ln (\\kappa) + \\theta \\ln(w_{t}),\n",
    "$$\n",
    "\t\t\t\n"
   ]
  },
  {
   "cell_type": "markdown",
   "metadata": {
    "slideshow": {
     "slide_type": "subslide"
    }
   },
   "source": [
    "Remarks:\n",
    "    \n",
    "* For the model to be interesting, we would like to study cases where $\\bar{l}_{t+1} - \\bar{l}_{t} = \\nu_{t} > 0$.\n",
    "\n",
    "* That is human capital growth rate is positive.\n",
    "\n",
    "* A sufficient condition on parameters is: \n",
    "\n",
    "    $$\n",
    "    \\kappa w_{0}^{\\theta} > 1 \\qquad \\Longleftarrow \\qquad A > A_{min} := \\left(\\frac{\\gamma w_0}{1+\\beta+\\gamma}\\right)^{-\\theta}\n",
    "    $$\n",
    "    \n",
    "    where $w_0 = (1-\\alpha)(k_0)^{\\alpha}$ is the initial RCE wage rate, given initial $k_0$."
   ]
  },
  {
   "cell_type": "markdown",
   "metadata": {
    "slideshow": {
     "slide_type": "subslide"
    }
   },
   "source": [
    "The <a id='evo_variance_private'>evolution of the distributions' variances</a> follows:\n",
    "\n",
    "$$\n",
    "\\mathbb{E}_{t}(\\ln (h_{t+1}) - \\bar{l}_{t+1})^{2} = \\mathbb{E}_{t}\\left[ (\\ln (h_{t}) + \\nu_{t}) - (\\bar{l}_{t} + \\nu_{t})\\right]^{2}\n",
    "$$\n",
    "\n",
    "Or we can denote this as:\n",
    "\n",
    "$$\n",
    "\\sigma_{t+1}^{2} = \\sigma_{t}^{2} = \\sigma_{0}^{2}.\n",
    "$$"
   ]
  },
  {
   "cell_type": "markdown",
   "metadata": {
    "slideshow": {
     "slide_type": "subslide"
    }
   },
   "source": [
    "### Pause ... and think ...\n",
    "\n",
    "* So it turns out, we have a convenient way to keep track of the dynamics of the distribution of the *logarithm* of individuals' human capital stock $\\ln(h_{t})$.\n",
    "\n",
    "* If, for example, the initial distribution of $h_{0}$ is log-Normal (i.e., $\\mu_0$ is Normal), then it suffices for us to iterate on linear recursions on the distributions' [mean](#evo_mean_private) and [variance](#evo_variance_private)) statistics.\n",
    "\n",
    "    * This suffices to keep track of the sequence of equilibrium distributions of income and wealth:\n",
    "\n",
    "* In equilibrium, individual income and wealth is a function of $h_{t}$. \n",
    "\n",
    "    * So this also pins down the equilibrium distribution of income and wealth."
   ]
  },
  {
   "cell_type": "markdown",
   "metadata": {
    "slideshow": {
     "slide_type": "slide"
    }
   },
   "source": [
    "## Recursive competitive equilibrium I"
   ]
  },
  {
   "cell_type": "markdown",
   "metadata": {
    "slideshow": {
     "slide_type": "subslide"
    }
   },
   "source": [
    "\n",
    "\n",
    "**DEFINITION**. Given initial conditions $(k_0, M_0 := (\\bar{l}_0, \\sigma_{0}))$, a *recursive competitive equilibrium* in this economy *with private funding of education* is \n",
    "\n",
    "* an aggregate allocation $\\{k_{t+1}\\}_{t=0}^{\\infty}$, \n",
    "\n",
    "* a sequence of human-capital distributions* $\\{h_{t} \\sim M_{t} := (\\bar{l}_{t}, \\sigma_{t})\\}_{t=0}^{\\infty}$, and, \n",
    "\n",
    "* a pricing system $\\{ w_{t}, R_{t} \\}_{t=0}^{\\infty}$, \n",
    "\n",
    "such that for all $t \\geq 0$:\n"
   ]
  },
  {
   "cell_type": "markdown",
   "metadata": {
    "slideshow": {
     "slide_type": "subslide"
    }
   },
   "source": [
    "1. $k_{t+1} = \\frac{\\beta \\kappa^{-1}}{1+\\beta +\\gamma}\\left[(1-\\alpha)Zk_{t}^{\\alpha}\\right]^{1-\\theta} \\equiv g_p(k_t)$\n",
    "\n",
    "2. $w_{t} =  (1-\\alpha)Zk_{t}^{\\alpha}$\n",
    "\n",
    "3. $R_{t} =  \\alpha Zk_{t}^{\\alpha - 1}$\n",
    "\n",
    "4. $\\bar{l}_{t+1} = \\bar{l}_{t} + \\ln (\\kappa) + \\theta \\ln(w_{t})$\n",
    "\t\t\t\n",
    "5. $\\sigma_{t+1}^{2} = \\sigma_{t}^{2}$"
   ]
  },
  {
   "cell_type": "markdown",
   "metadata": {
    "slideshow": {
     "slide_type": "subslide"
    }
   },
   "source": [
    "**Note**: $M_{t}$ sufficiently described by\n",
    "\n",
    "* Mean: \n",
    "    \n",
    "    $$\n",
    "    H_{t} := \\mathbb{E}_{M_{t}}(h_t) = \\int h_{t} \\text{d}M_{t}(h_{t}) = \\exp\\left(\\bar{l}_{t}+\\frac{\\sigma_{t}^{2}}{2}\\right)\n",
    "    $$ \n",
    "\n",
    "* Variance: \n",
    "\n",
    "    $$\n",
    "    \\text{var}(h_{t}) = \\exp\\left( 2\\bar{l}_{t} + \\sigma_{t}^{2}\\right) \\left[\\exp\\left(\\sigma_{t}^{2}\\right) - 1\\right]\n",
    "    $$"
   ]
  },
  {
   "cell_type": "markdown",
   "metadata": {
    "slideshow": {
     "slide_type": "subslide"
    }
   },
   "source": [
    "Observe that the log-Normal distribution for $h_{t}$ has:\n",
    "\n",
    "* time varying mean $H_{t}$\n",
    "\n",
    "* time varying variance $\\text{var}(h_{t})$\n",
    "\n",
    "They depend on both the mean of the Normal distribution of $\\ln(h_{t}) \\equiv \\bar{l}_{t}$ and its variance $\\sigma_{t}$.\n",
    "\n",
    "The time-dependency in $H_{t}$ and $\\text{var}(h_{t})$ in this case is due to a growing $\\bar{l}_{t}$."
   ]
  },
  {
   "cell_type": "code",
   "execution_count": 3,
   "metadata": {
    "slideshow": {
     "slide_type": "subslide"
    }
   },
   "outputs": [],
   "source": [
    "# Parameters - these are just arbitrary values\n",
    "α = 0.33\n",
    "β = 1.0/(1.0+0.04**35.)\n",
    "γ = 0.8\n",
    "θ = 0.25\n",
    "A = 1.0\n",
    "Z = 1.0"
   ]
  },
  {
   "cell_type": "code",
   "execution_count": 4,
   "metadata": {
    "slideshow": {
     "slide_type": "subslide"
    }
   },
   "outputs": [],
   "source": [
    "# Parameters - Initial k, lbar0\n",
    "k0 = 0.01\n",
    "lbar0 = 0.0\n",
    "w0 = (1.0-α)*k0**α # initial w"
   ]
  },
  {
   "cell_type": "code",
   "execution_count": 5,
   "metadata": {
    "slideshow": {
     "slide_type": "skip"
    }
   },
   "outputs": [
    {
     "name": "stdout",
     "output_type": "stream",
     "text": [
      "Your current A = 1.000\n",
      "Resetting value for A ... to A = 2.221\n",
      "This is to ensure positive growth in human-capital accumulation\n"
     ]
    }
   ],
   "source": [
    "# Define min(A) for positive growth in H\n",
    "A_min = (γ*w0/(1+β+γ))**(-θ)\n",
    "\n",
    "print(\"Your current A =%6.3f\" %(A))\n",
    "if A <= A_min:\n",
    "    A = A_min + 0.01\n",
    "    print(\"Resetting value for A ... to A =%6.3f\" %(A))\n",
    "    print(\"This is to ensure positive growth in human-capital accumulation\")"
   ]
  },
  {
   "cell_type": "code",
   "execution_count": 6,
   "metadata": {
    "slideshow": {
     "slide_type": "subslide"
    }
   },
   "outputs": [],
   "source": [
    "# Pack into a Python dictionary\n",
    "parameters = { \"A\"     : A,\n",
    "               \"alpha\" : α,\n",
    "               \"beta\"  : β,\n",
    "               \"gamma\" : γ,\n",
    "               \"theta\" : θ,\n",
    "               \"Z\"     : Z,\n",
    "               \"kappa\" : A*(γ/(1+β+γ))**θ  \n",
    "             }"
   ]
  },
  {
   "cell_type": "code",
   "execution_count": 7,
   "metadata": {
    "slideshow": {
     "slide_type": "subslide"
    }
   },
   "outputs": [],
   "source": [
    "def f(k, parameters):\n",
    "    \"\"\"Cobb-Douglas production in k = K/H and related \n",
    "    (shadow) prices (100% capital depreciation case)\"\"\"    \n",
    "    # Extract specific parameters from dictionary\n",
    "    α = parameters[\"alpha\"]\n",
    "    Z = parameters[\"Z\"]    \n",
    "    # output per efficiency unit of workers\n",
    "    y = Z*k**α   \n",
    "    # Associated equilibrium relative price\n",
    "    R = α*Z*k**(α-1.0)\n",
    "    w = (1.0-α)*Z*k**α\n",
    "    # Pack results into a dictionary\n",
    "    out = {\"y\" : y, \n",
    "           \"R\" : R, \n",
    "           \"w\": w}\n",
    "    return out"
   ]
  },
  {
   "cell_type": "code",
   "execution_count": 8,
   "metadata": {
    "slideshow": {
     "slide_type": "subslide"
    }
   },
   "outputs": [],
   "source": [
    "def g_prive(k, parameters):\n",
    "    \"\"\"RCE map in k - private provision of education case\"\"\"        \n",
    "    # Extract specific parameters from dictionary\n",
    "    A = parameters[\"A\"]\n",
    "    α = parameters[\"alpha\"]\n",
    "    β = parameters[\"beta\"]\n",
    "    γ = parameters[\"gamma\"]\n",
    "    θ = parameters[\"theta\"]\n",
    "    Z = parameters[\"Z\"]  \n",
    "    κ = parameters[\"kappa\"]\n",
    "    # Recursive competitive eqm map k --> g_p(k)\n",
    "    knext = ((β/κ)/(1+β+γ))*((1.0-α)*Z*(k**α))**(1.0-θ)\n",
    "    return knext"
   ]
  },
  {
   "cell_type": "code",
   "execution_count": 9,
   "metadata": {
    "slideshow": {
     "slide_type": "subslide"
    }
   },
   "outputs": [],
   "source": [
    "def distro_logh_prive(k, lbar, sigma2, parameters):\n",
    "    \"\"\"Recursion on Normal distribution for log-h \n",
    "                        - mean and variance\"\"\"\n",
    "    θ = parameters[\"theta\"]  \n",
    "    κ = parameters[\"kappa\"] \n",
    "    w = f(k, parameters)[\"w\"]\n",
    "    # Mean and variance of Normal dist. of log(h)\n",
    "    lbar_next = lbar + np.log(κ) + θ*np.log(w)\n",
    "    sigma2_next = sigma2\n",
    "    # Define Normal dist function at date t\n",
    "    dist = norm(loc=lbar, scale=np.sqrt(sigma2))\n",
    "    out = {\"lbarnext\" : lbar_next, \n",
    "           \"sigma2next\" : sigma2_next, \n",
    "           \"lbar\" : lbar, \n",
    "           \"sigma2\" : sigma2, \n",
    "           \"distribution\" : dist}\n",
    "    return out"
   ]
  },
  {
   "cell_type": "code",
   "execution_count": 10,
   "metadata": {
    "slideshow": {
     "slide_type": "subslide"
    }
   },
   "outputs": [],
   "source": [
    "def distro_log2level(k, lbar, sigma2, parameters):\n",
    "    \"\"\"Transform unique Normal distribution of log-h \n",
    "       indexed by moments (lbar, sigma2) into\n",
    "       implied log-Normal distribution M of level of h.\n",
    "       Also calculate distribution of auxiliary \n",
    "       variables: labor income, capital income and wealth.\"\"\"\n",
    "    \n",
    "    mean_h = np.exp(lbar + sigma2/2.0)\n",
    "    var_h = np.exp(2.0*lbar + sigma2)*(np.exp(sigma2) - 1.0)\n",
    "    # Define log-Normal dist function of h at date t\n",
    "    mean_h = np.exp(lbar)\n",
    "    dist = lognorm(s=np.sqrt(sigma2), loc=lbar, scale=mean_h) \n",
    "    \n",
    "    # Aggregate prices\n",
    "    w = f(k, parameters)[\"w\"]\n",
    "    lw = np.log(w)\n",
    "    # Distribution of labor income\n",
    "    mean_wage = np.exp(lbar+lw)\n",
    "    dist_wageincome = lognorm(s=np.sqrt(sigma2), \n",
    "                                       loc=mean_wage,\n",
    "                                       scale=mean_wage)\n",
    "    \n",
    "    # Distribution of Wealth\n",
    "    β = parameters[\"beta\"]\n",
    "    γ = parameters[\"gamma\"]\n",
    "    constant = np.log(β/(1+β+γ))\n",
    "    mean_wealth = np.exp(lbar+lw+constant)\n",
    "    dist_wealth = lognorm(s=np.sqrt(sigma2), \n",
    "                                   loc=mean_wealth,\n",
    "                                   scale=mean_wealth)\n",
    "    \n",
    "    # Distribution of capital income\n",
    "    knext = g_prive(k, parameters)\n",
    "    Rnext = f(knext, parameters)[\"R\"]\n",
    "    lRnext = np.log(Rnext)\n",
    "    mean_capincome = np.exp(lRnext+lbar+lw+constant)\n",
    "    dist_capincome = lognorm(s=np.sqrt(sigma2), \n",
    "                                   loc=mean_capincome,\n",
    "                                   scale=mean_capincome)\n",
    "    \n",
    "    # Store in out dictionary\n",
    "    out = {\"mean\" : mean_h, \n",
    "           \"variance\" : var_h, \n",
    "           \"distribution\" : dist,\n",
    "           \"distribution_wageincome\" : dist_wageincome,\n",
    "           \"distribution_wealth\" : dist_wealth,\n",
    "           \"distribution_capincome\" : dist_capincome,\n",
    "          }\n",
    "    return out"
   ]
  },
  {
   "cell_type": "code",
   "execution_count": 11,
   "metadata": {
    "slideshow": {
     "slide_type": "subslide"
    }
   },
   "outputs": [],
   "source": [
    "def G_prive(k, lbar, sigma2, parameters):\n",
    "    \"\"\"Overall RCE system - private provision of education case\n",
    "                          - see definition above\"\"\"\n",
    "    # Evolution of k = K/H\n",
    "    knext = g_prive(k, parameters)\n",
    "    # Distribution - Normal - log(h)\n",
    "    distout_logh = distro_logh_prive(k, lbar, sigma2, parameters)\n",
    "    # Distribution - log-Normal - h\n",
    "    distout_h = distro_log2level(k, lbar, sigma2, parameters)\n",
    "    # Static relations - get values: y, R, w\n",
    "    y, R, w = f(k, parameters).values()\n",
    "    # Bento box\n",
    "    out = {\"k\"           : k,\n",
    "           \"knext\"       : knext, \n",
    "           \"distro_logh\" : distout_logh, \n",
    "           \"distro_h\"    : distout_h, \n",
    "           \"y\"           : y, \n",
    "           \"R\"           : R, \n",
    "           \"w\"           : w\n",
    "          }\n",
    "    return out"
   ]
  },
  {
   "cell_type": "code",
   "execution_count": 12,
   "metadata": {
    "slideshow": {
     "slide_type": "subslide"
    }
   },
   "outputs": [],
   "source": [
    "def sim_prive(parameters, k, lbar=1.0, sigma2=0.25, T=15):\n",
    "    \"\"\"Simulate RCE outcomes given initial conditions\"\"\"\n",
    "    results = []   \n",
    "    for t in range(T):\n",
    "        # Given date t states, store RCE outcome ...\n",
    "        out = G_prive(k, lbar, sigma2, parameters)\n",
    "        results.append(out)\n",
    "        # Update states for t+1 ...\n",
    "        k = out[\"knext\"]\n",
    "        lbar = out[\"distro_logh\"][\"lbarnext\"]\n",
    "        sigma2 = out[\"distro_logh\"][\"sigma2next\"]\n",
    "    return results"
   ]
  },
  {
   "cell_type": "code",
   "execution_count": 13,
   "metadata": {
    "slideshow": {
     "slide_type": "subslide"
    }
   },
   "outputs": [],
   "source": [
    "# Simulate a RCE trajectory\n",
    "results = sim_prive(parameters, k=k0, lbar=0.0, sigma2=0.231, T=15)"
   ]
  },
  {
   "cell_type": "code",
   "execution_count": 14,
   "metadata": {
    "slideshow": {
     "slide_type": "subslide"
    }
   },
   "outputs": [],
   "source": [
    "T = len(results)"
   ]
  },
  {
   "cell_type": "code",
   "execution_count": 15,
   "metadata": {
    "slideshow": {
     "slide_type": "subslide"
    }
   },
   "outputs": [],
   "source": [
    "def plot_aggregate_path(results, variable_name=\"k\", \n",
    "                                 variable_label=\"$k_{t}$\"):\n",
    "    \"\"\"Plot trajectory (time path) of aggregate variables:\n",
    "       k, w, R, y\"\"\"\n",
    "    T = len(results)\n",
    "    plt.figure()\n",
    "    for t in range(T):\n",
    "        plt.plot(t, results[t][variable_name], 'o')\n",
    "    plt.xlabel(\"Date, $t$\")\n",
    "    plt.ylabel(variable_label)\n",
    "    plt.show()"
   ]
  },
  {
   "cell_type": "markdown",
   "metadata": {
    "slideshow": {
     "slide_type": "subslide"
    }
   },
   "source": [
    "## RCE path of $k = K/H$"
   ]
  },
  {
   "cell_type": "code",
   "execution_count": 16,
   "metadata": {
    "slideshow": {
     "slide_type": "subslide"
    }
   },
   "outputs": [
    {
     "data": {
      "image/png": "[encoded data removed]",
      "text/plain": [
       "<Figure size 432x288 with 1 Axes>"
      ]
     },
     "metadata": {
      "needs_background": "light"
     },
     "output_type": "display_data"
    }
   ],
   "source": [
    "plot_aggregate_path(results)"
   ]
  },
  {
   "cell_type": "markdown",
   "metadata": {
    "slideshow": {
     "slide_type": "subslide"
    }
   },
   "source": [
    "## RCE path of $w_t$"
   ]
  },
  {
   "cell_type": "code",
   "execution_count": 17,
   "metadata": {
    "scrolled": false,
    "slideshow": {
     "slide_type": "subslide"
    }
   },
   "outputs": [
    {
     "data": {
      "image/png": "[encoded data removed]",
      "text/plain": [
       "<Figure size 432x288 with 1 Axes>"
      ]
     },
     "metadata": {
      "needs_background": "light"
     },
     "output_type": "display_data"
    }
   ],
   "source": [
    "plot_aggregate_path(results, variable_name=\"w\", \n",
    "                             variable_label=\"$w_{t}$\")"
   ]
  },
  {
   "cell_type": "markdown",
   "metadata": {
    "slideshow": {
     "slide_type": "subslide"
    }
   },
   "source": [
    "## RCE path of $R_t$"
   ]
  },
  {
   "cell_type": "code",
   "execution_count": 18,
   "metadata": {
    "scrolled": true,
    "slideshow": {
     "slide_type": "subslide"
    }
   },
   "outputs": [
    {
     "data": {
      "image/png": "[encoded data removed]",
      "text/plain": [
       "<Figure size 432x288 with 1 Axes>"
      ]
     },
     "metadata": {
      "needs_background": "light"
     },
     "output_type": "display_data"
    }
   ],
   "source": [
    "plot_aggregate_path(results, variable_name=\"R\", \n",
    "                             variable_label=\"$R_{t}$\")"
   ]
  },
  {
   "cell_type": "markdown",
   "metadata": {
    "slideshow": {
     "slide_type": "subslide"
    }
   },
   "source": [
    "## RCE path of $\\overline{l}_t$"
   ]
  },
  {
   "cell_type": "code",
   "execution_count": 19,
   "metadata": {
    "slideshow": {
     "slide_type": "subslide"
    }
   },
   "outputs": [
    {
     "data": {
      "image/png": "[encoded data removed]",
      "text/plain": [
       "<Figure size 432x288 with 1 Axes>"
      ]
     },
     "metadata": {
      "needs_background": "light"
     },
     "output_type": "display_data"
    }
   ],
   "source": [
    "plt.figure()\n",
    "for t in range(T):\n",
    "    plt.plot(t, results[t][\"distro_logh\"][\"lbar\"], 'o')\n",
    "plt.xlabel(\"Date, $t$\")\n",
    "plt.ylabel(\"$\\overline{l}_{t}$\")\n",
    "plt.show()"
   ]
  },
  {
   "cell_type": "markdown",
   "metadata": {
    "slideshow": {
     "slide_type": "subslide"
    }
   },
   "source": [
    "## RCE path of $H_t$"
   ]
  },
  {
   "cell_type": "code",
   "execution_count": 20,
   "metadata": {
    "scrolled": true,
    "slideshow": {
     "slide_type": "subslide"
    }
   },
   "outputs": [
    {
     "data": {
      "image/png": "[encoded data removed]",
      "text/plain": [
       "<Figure size 432x288 with 1 Axes>"
      ]
     },
     "metadata": {
      "needs_background": "light"
     },
     "output_type": "display_data"
    }
   ],
   "source": [
    "plt.figure()\n",
    "for t in range(T):\n",
    "    plt.plot(t, results[t][\"distro_h\"][\"mean\"], 'o')\n",
    "plt.xlabel(\"Date, $t$\")\n",
    "plt.ylabel(\"$H_{t}$\")\n",
    "plt.show()"
   ]
  },
  {
   "cell_type": "markdown",
   "metadata": {
    "slideshow": {
     "slide_type": "subslide"
    }
   },
   "source": [
    "## RCE path of $\\mu_{t}$ and $M_{t}$"
   ]
  },
  {
   "cell_type": "markdown",
   "metadata": {
    "slideshow": {
     "slide_type": "subslide"
    }
   },
   "source": [
    "The next function ``plot_dist`` plots a date-$t$ density function (either from the unique Normal distribution over functions of log-human-capital, or, from the implied log-Normal distribution of the corresponding variable).\n",
    "\n"
   ]
  },
  {
   "cell_type": "code",
   "execution_count": 21,
   "metadata": {
    "slideshow": {
     "slide_type": "subslide"
    }
   },
   "outputs": [],
   "source": [
    "def plot_dist(t, results, \n",
    "                 dist_name, \n",
    "                 dist_class=\"lognormal\"):\n",
    "    \"\"\"dist_name is dictionary key defined in out\n",
    "    in the function distro_log2level() above\"\"\"\n",
    "    # Get current date-t distribution object\n",
    "    if dist_class == \"lognormal\":\n",
    "        dist = results[t]['distro_h'][dist_name]\n",
    "    elif dist_class == \"normal\":\n",
    "        dist = results[t]['distro_logh'][dist_name]\n",
    "    # Auto-set intervals containing 99.999% of distro mass\n",
    "    a, b = dist.interval(0.99999)\n",
    "    # Generate 2D plot\n",
    "    x=np.linspace(a, b, 100)\n",
    "    plt.plot(x, dist.pdf(x), label=str(\"$t$ = \") + str(t))"
   ]
  },
  {
   "cell_type": "markdown",
   "metadata": {
    "slideshow": {
     "slide_type": "subslide"
    }
   },
   "source": [
    "The next function ``plot_dist_sequence`` uses the last function ``plot_dist`` to do repeated plots of densities at different dates.\n",
    "\n",
    "You must consult the earlier function ``distro_log2level`` for how to:\n",
    "\n",
    "* input the correct string name for ``dist_name``:\n",
    "    * ``\"distribution\"`` (for either ``dist_class`` equalling ``\"normal\"`` or ``\"lognormal\"``)\n",
    "    * ``\"distribution_wealth\"`` (for ``dist_class`` equalling ``\"lognormal\"`` only)\n",
    "    * ``\"distribution_capincome\"`` (for ``dist_class`` equalling ``\"lognormal\"`` only)\n",
    "    * ``\"distribution_wage_income\"`` (for ``dist_class`` equalling ``\"lognormal\"`` only)\n",
    "\n",
    "You can name the figure $x$-axis label through the string input ``dist_label``"
   ]
  },
  {
   "cell_type": "code",
   "execution_count": 22,
   "metadata": {
    "slideshow": {
     "slide_type": "subslide"
    }
   },
   "outputs": [],
   "source": [
    "def plot_dist_sequence(results, dist_name, \n",
    "                                dist_label, \n",
    "                                dist_class=\"lognormal\", \n",
    "                                skip=4):\n",
    "    \"\"\"dist_name is key defined in distro_log2level() above\n",
    "       dist_label is string created by user for xlabel()\"\"\"\n",
    "    T = len(results)\n",
    "    plt.figure()\n",
    "    for t in range(0, T, skip):\n",
    "        plot_dist(t, results, dist_name, dist_class)\n",
    "    plt.legend()\n",
    "    plt.xlabel(dist_label)\n",
    "    plt.ylabel(\"Percent\")\n",
    "    plt.show()"
   ]
  },
  {
   "cell_type": "markdown",
   "metadata": {
    "slideshow": {
     "slide_type": "subslide"
    }
   },
   "source": [
    "Let's look at a few snapshots of the probability density functions $\\mu_{t}^{\\prime}$, at different dates (cohorts of families) $t$:"
   ]
  },
  {
   "cell_type": "code",
   "execution_count": 23,
   "metadata": {
    "scrolled": true,
    "slideshow": {
     "slide_type": "subslide"
    }
   },
   "outputs": [
    {
     "data": {
      "image/png": "[encoded data removed]",
      "text/plain": [
       "<Figure size 432x288 with 1 Axes>"
      ]
     },
     "metadata": {
      "needs_background": "light"
     },
     "output_type": "display_data"
    }
   ],
   "source": [
    "plot_dist_sequence(results, \"distribution\", \n",
    "                             dist_class=\"normal\",\n",
    "                             dist_label=\"Individual log human capital, $\\ln (h_{t})$\",\n",
    "                             skip=4)"
   ]
  },
  {
   "cell_type": "markdown",
   "metadata": {
    "slideshow": {
     "slide_type": "subslide"
    }
   },
   "source": [
    "Let's look at a few snapshots of the probability density function of $h_{t}$, $M_{t}^{\\prime}$, at different dates (cohorts of families) $t$:"
   ]
  },
  {
   "cell_type": "code",
   "execution_count": 24,
   "metadata": {
    "code_folding": [],
    "slideshow": {
     "slide_type": "subslide"
    }
   },
   "outputs": [
    {
     "data": {
      "image/png": "[encoded data removed]",
      "text/plain": [
       "<Figure size 432x288 with 1 Axes>"
      ]
     },
     "metadata": {
      "needs_background": "light"
     },
     "output_type": "display_data"
    }
   ],
   "source": [
    "plot_dist_sequence(results, \"distribution\", \n",
    "                             dist_class=\"lognormal\",\n",
    "                             dist_label=\"Individual human capital, $h_{t}$\",\n",
    "                             skip=4)"
   ]
  },
  {
   "cell_type": "markdown",
   "metadata": {
    "slideshow": {
     "slide_type": "subslide"
    }
   },
   "source": [
    "**Notes**. \n",
    "\n",
    "* While $k_{t} = K_{t}/H_{t}$ converges to a constant along a steady-state equilibrium path, per-person capital $K_{t}$ will still be growing. In fact, it is growing at the same rate as $H_{t}$ in the long run.\n",
    "\n",
    "* So there is perpetual growth in living standard, i.e., per-person output $Y_{t} = f(k_{t})\\times H_{t}$\n",
    "\n",
    "* There is also perpetual dispersion (inequality) in wealth and income, even if the mean of wealth and income are rising over time (generational cohorts).\n",
    "\n"
   ]
  },
  {
   "cell_type": "markdown",
   "metadata": {
    "slideshow": {
     "slide_type": "subslide"
    }
   },
   "source": [
    "Wealth and income are functions of aggregate prices $(w_{t}, R_{t+1})$ and $h_{t}$.\n",
    "\n",
    "(See agent's optimal saving function and definition of labor and capital incomes.)\n",
    "\n",
    "Se we can also plot the distributions of wealth, capital income and labor income of individuals at each cohort/date $t$."
   ]
  },
  {
   "cell_type": "code",
   "execution_count": 25,
   "metadata": {
    "scrolled": true,
    "slideshow": {
     "slide_type": "subslide"
    }
   },
   "outputs": [
    {
     "data": {
      "image/png": "[encoded data removed]",
      "text/plain": [
       "<Figure size 432x288 with 1 Axes>"
      ]
     },
     "metadata": {
      "needs_background": "light"
     },
     "output_type": "display_data"
    }
   ],
   "source": [
    "plot_dist_sequence(results, \"distribution_wealth\", \n",
    "                             dist_class=\"lognormal\",\n",
    "                             dist_label=\"Individual wealth, $s_{t}$\",\n",
    "                             skip=4)"
   ]
  },
  {
   "cell_type": "code",
   "execution_count": 26,
   "metadata": {
    "slideshow": {
     "slide_type": "subslide"
    }
   },
   "outputs": [
    {
     "data": {
      "image/png": "[encoded data removed]",
      "text/plain": [
       "<Figure size 432x288 with 1 Axes>"
      ]
     },
     "metadata": {
      "needs_background": "light"
     },
     "output_type": "display_data"
    }
   ],
   "source": [
    "plot_dist_sequence(results, \"distribution_capincome\", \n",
    "                             dist_class=\"lognormal\",\n",
    "                             dist_label=\"Individual capital income, $R_{t+1}s_{t}$\",\n",
    "                             skip=4)"
   ]
  },
  {
   "cell_type": "code",
   "execution_count": 27,
   "metadata": {
    "scrolled": true,
    "slideshow": {
     "slide_type": "subslide"
    }
   },
   "outputs": [
    {
     "data": {
      "image/png": "[encoded data removed]",
      "text/plain": [
       "<Figure size 432x288 with 1 Axes>"
      ]
     },
     "metadata": {
      "needs_background": "light"
     },
     "output_type": "display_data"
    }
   ],
   "source": [
    "plot_dist_sequence(results, \"distribution_wageincome\", \n",
    "                             dist_class=\"lognormal\",\n",
    "                             dist_label=\"Individual wage income, $w_{t}h_{t}$\",\n",
    "                             skip=4)"
   ]
  },
  {
   "cell_type": "markdown",
   "metadata": {
    "slideshow": {
     "slide_type": "slide"
    }
   },
   "source": [
    "# PUNCHLINE I: Wealth/talent begets wealth/talent"
   ]
  },
  {
   "cell_type": "markdown",
   "metadata": {
    "slideshow": {
     "slide_type": "subslide"
    }
   },
   "source": [
    "## Incentives and mechanism of inequality\n",
    "\n",
    "What explains dynamics of income/wealth distributions here? \n",
    "\n",
    "* (Young) agents, regardless of their $h_{t}$ outcome, have\n",
    "\n",
    "    * **constant** *marginal propensity to save* for their old age \n",
    "    \n",
    "    * **constant** *marginal propensity to spend on child's education* \n",
    "\n",
    "* So then it's not differences in $mps$ and $mpe$ that's driving inequality.\n",
    "\n"
   ]
  },
  {
   "cell_type": "markdown",
   "metadata": {
    "slideshow": {
     "slide_type": "subslide"
    }
   },
   "source": [
    "**Individual histories matter!** ... So what is generating inequality here?\n",
    "\n",
    "* It's the level of initial wealth (via initial human capital) of families!\n",
    "\n",
    "    * Higher (lower) human capital $h_{t}$ parent begets higher (lower) human capital $h_{t+1}$ children tommorrow\n",
    "    \n",
    "    * Additionally, a higher (lower) $h_{t}$ individual can afford \"more\" (\"less\") privately funded education $e_{t}$ which contributes to their children's $h_{t+1}$. \n",
    "\n"
   ]
  },
  {
   "cell_type": "markdown",
   "metadata": {
    "slideshow": {
     "slide_type": "subslide"
    }
   },
   "source": [
    "* So here, the level of initial wealth is driving the intertemporal/intergenerational immobility across the wealth distribution: \n",
    "\n",
    "    * the rich (poor) generate a persistent/perpetual dynasty of the rich (poor). \n",
    "    \n",
    "* So in the aggregate there is a long run persistence of inequality - i.e., dispersion of wealth.\n",
    "\n",
    "    * Since there is perpetual endogenous growth $\\bar{l}_{t+1}-\\bar{l}_{t} >0$, the right-skewness of the log-Normal distribution $M_{t}$ increases with $\\bar{l}_{t}$ through its mean."
   ]
  },
  {
   "cell_type": "markdown",
   "metadata": {
    "slideshow": {
     "slide_type": "slide"
    }
   },
   "source": [
    "# EDUCATION AS A PUBLIC GOOD"
   ]
  },
  {
   "cell_type": "markdown",
   "metadata": {
    "slideshow": {
     "slide_type": "subslide"
    }
   },
   "source": [
    "## Case 2. Public provision of education\n",
    "\n",
    "* Can public policy intervene?\n",
    "\n",
    "* What if education is not privately provided (i.e., not purchased with private/parents' resources) ?\n",
    "\n",
    "* What if society agrees to have a tax-and-redistribute policy?\n",
    "\n",
    "    * Tax (labor) income and provide a common level of education\n",
    "    \n",
    "* What is the consequence for economic growth in the long run?\n",
    "\n",
    "* What is the consequence for inequality of wealth and incomes?"
   ]
  },
  {
   "cell_type": "markdown",
   "metadata": {
    "slideshow": {
     "slide_type": "subslide"
    }
   },
   "source": [
    "Now, $e_{t}$ is now financed through taxation of aggregate wage income. The <a id='gbc'>government budget constraint</a> is:\n",
    "\n",
    "\\begin{equation}\n",
    "e_{t} = \\tau_{t}w_{t}H_{t}.\n",
    "\\label{eq: OLG tax on wage income}\n",
    "\\end{equation}\n",
    "\n",
    "**Note:** Education $e_{t}$ is no longer a private choice variable \n",
    "\n",
    "* So the young agent's budget constraint becomes\n",
    "\n",
    "    \\begin{equation}\n",
    "    c_{t} + s_{t} = (1-\\tau_{t})w_t h_{t}.\n",
    "    \\label{eq: OLG young BC - tax}\n",
    "    \\end{equation}"
   ]
  },
  {
   "cell_type": "markdown",
   "metadata": {
    "slideshow": {
     "slide_type": "subslide"
    }
   },
   "source": [
    "Solving each young agent's decision problem, now we get their optimal savings function as\n",
    "\n",
    "\\begin{equation}\n",
    "s_{t} = \\left(\\frac{\\beta}{1+\\beta}\\right)(1-\\tau_{t})w_{t}h_{t}.\n",
    "\\label{eq: OLG tax - saving}\n",
    "\\end{equation}\n",
    "\n",
    "**Pause ... think ...**: \n",
    "\n",
    "* Compare this with the optimal savings function in the first regime without public policy. \n",
    "* What's different? Notice the missing $\\gamma$ here? What did that parameter represent?"
   ]
  },
  {
   "cell_type": "markdown",
   "metadata": {
    "slideshow": {
     "slide_type": "subslide"
    }
   },
   "source": [
    "## How much public education to provide (i.e., tax)?\n",
    "\n",
    "We have to determine the tax rate $\\tau_{t}$ ...\n",
    "\n",
    "Suppose we let all the young agents vote\n",
    "\n",
    "* (We ignore the old agents for simplicity although in reality old voters are more active in voting! --- this can be generalized to the model)\n",
    "\n",
    "Each $h_{t}$-type young agent knows, for given tax rate and wage rate, their *valuation over policy*, i.e., their *indirect utility* is\n",
    "\n",
    "$$\n",
    "\\ln \\left[(1-\\tau_{t})w_{t}h_{t} - s_{t}\\right] + \\beta\\ln (R_{t+1}s_{t}) + \\gamma \\ln (\\tau_{t}w_{t}H_{t}).\n",
    "$$"
   ]
  },
  {
   "cell_type": "markdown",
   "metadata": {
    "slideshow": {
     "slide_type": "subslide"
    }
   },
   "source": [
    "Plugging in agents' optimal saving function, and evaluating the logs utilities, we get each agent's valuation of any tax policy as:\n",
    "\n",
    "$$\n",
    "W(\\tau_{t}|k_{t}, h_t, H_{t}) := (1+\\beta)\\ln(1-\\tau_{t}) + \\gamma \\ln (\\tau_{t}) + t.i.p.(k_{t}, h_t)\n",
    "$$\n",
    "\n",
    "where the aggregate terms independent of tax policy (t.i.p.) are:\n",
    "\n",
    "$$\n",
    "t.i.p.(k_{t}, h_t, H_{t}) := \\ln \\left[ \\left(1 - \\frac{\\beta}{1+\\beta}\\right)w_{t}h_{t}\\right] + \\beta \\ln\\left(R_{t+1}\\frac{\\beta}{1+\\beta}w_{t}h_{t}\\right) + \\gamma \\ln (w_{t}H_{t})\n",
    "$$\n",
    "\n"
   ]
  },
  {
   "cell_type": "markdown",
   "metadata": {
    "slideshow": {
     "slide_type": "subslide"
    }
   },
   "source": [
    "Thus, each household, regardless of their heterogeneity $h_{t}$, will have an identical most-preferred tax rate, \n",
    "\n",
    "$$\n",
    "\\tau^{\\ast} = \\arg \\max_{\\tau_{t}} W(\\tau_{t}|k_{t})\n",
    "$$\n",
    "\n",
    "This maximizer is\n",
    "\n",
    "$$\n",
    "\\tau_{t} = \\tau^{\\ast} \\equiv \\frac{\\gamma}{1+\\beta + \\gamma} \\in (0,1).\n",
    "$$"
   ]
  },
  {
   "cell_type": "markdown",
   "metadata": {
    "slideshow": {
     "slide_type": "subslide"
    }
   },
   "source": [
    "### Pause ... and think ...\n",
    "\n",
    "* We have just shown than regardless of type $h_{t}$, all agents prefer the same tax rate. \n",
    "\n",
    "* Thus a median voter would too. Hence a voting-game equilibrium must also yield $\\tau_{t} \\equiv \\tau^{\\ast} = \\frac{\\gamma}{1+\\beta + \\gamma}$.\n",
    "\n",
    "* In short, a selfish voter would agree with all other voters in how to implement the policy. (A unanimous vote.)\n",
    "\n",
    "* In general the voting problem is not so simple! (Here: this is an artefact of the all-log utility function assumed.)"
   ]
  },
  {
   "cell_type": "markdown",
   "metadata": {
    "slideshow": {
     "slide_type": "slide"
    }
   },
   "source": [
    "## Consequence for distribution of wealth/income\n",
    "\n"
   ]
  },
  {
   "cell_type": "markdown",
   "metadata": {
    "slideshow": {
     "slide_type": "subslide"
    }
   },
   "source": [
    "### Evolution of individual human capital (wealth)\n",
    "\n",
    "Combine voting equilibrium $\\tau_{t} \\equiv \\tau^{\\ast} = \\frac{\\gamma}{1+\\beta + \\gamma}$ with the [government budget constraint](#gbc), and substitute into the [human capital production function](#evo_h), we get:\n",
    "\n",
    "$$\n",
    "h_{t+1} = \\kappa w_{t}^{\\theta}H_{t}^{\\theta}h_{t}^{1-\\theta}.\n",
    "$$"
   ]
  },
  {
   "cell_type": "markdown",
   "metadata": {
    "slideshow": {
     "slide_type": "subslide"
    }
   },
   "source": [
    "Taking logs, and letting $l_{t} := \\ln(h_{t})$, we have\n",
    "\n",
    "$$\n",
    "l_{t+1} = (1-\\theta)l_{t} + \\ln \\left[\\kappa \\left( w_{t}H_{t}\\right)^{\\theta}\\right].\n",
    "\\tag{$\\star$}\n",
    "\\label{eq: evolution of log h - tax }\n",
    "$$\n",
    "\n",
    "This is a log-linear process that works well with our log-Normal distributional assumption.\n",
    "\n"
   ]
  },
  {
   "cell_type": "markdown",
   "metadata": {
    "slideshow": {
     "slide_type": "subslide"
    }
   },
   "source": [
    "So the mean and variance of log-human-capital evolve, respectively, as\n",
    "\n",
    "$$\n",
    "\\bar{l}_{t+1} = (1-\\theta)\\bar{l}_{t} + \\ln \\left[\\kappa \\left( w_{t}H_{t}\\right)^{\\theta}\\right],\n",
    "\\tag{$\\maltese$}\n",
    "\\label{eq: evolution of mean of log h - tax }\n",
    "$$\n",
    "\n",
    "and,\n",
    "\n",
    "$$\n",
    "\\sigma_{t+1}^{2} = (1-\\theta)^{2}\\sigma_{t}^{2},\n",
    "\\tag{$\\star\\star$}\n",
    "\\label{eq: evolution of variance of log h - tax}\n",
    "$$\n",
    "given $\\sigma_0 > 0$."
   ]
  },
  {
   "cell_type": "markdown",
   "metadata": {
    "slideshow": {
     "slide_type": "subslide"
    }
   },
   "source": [
    "The evolution of the aggregate distribution of log human capital (under the public policy) is\n",
    "\n",
    "$$\n",
    "\\mu_{t+1}^{\\tau^{\\ast}}(\\ell) = \\mu_{t}^{\\tau^{\\ast}}\\left(\\frac{\\ell - \\ln \\left[\\kappa \\left( w_{t}H_{t}\\right)^{\\theta}\\right]}{(1-\\theta)}\\right)\n",
    "$$\n",
    "\n",
    "Again, we may assume $\\mu_{t}^{\\tau^{\\ast}} \\equiv \\mathcal{N}\\left(\\bar{l}_{t}, \\sigma_{t}^{2}\\right)$."
   ]
  },
  {
   "cell_type": "markdown",
   "metadata": {
    "slideshow": {
     "slide_type": "subslide"
    }
   },
   "source": [
    "### An analytical insight on inequality\n",
    "    \n",
    "* We can already deduce that with public funding, the long run distribution of wealth is degenerate\n",
    "\n",
    "* That is, under public education, the distribution of human capital, and hence wealth, will collapse to a single point mass (everyone becomes equal in the long run)\n",
    "\n",
    "    * Since $(1-\\theta)^{2} \\in (0,1)$, even if $\\sigma_{0} > 0$, we have\n",
    "    \n",
    "        $$\\lim_{t \\rightarrow \\infty}\\sigma_{t}^{2} = \\lim_{t \\rightarrow \\infty}[(1-\\theta)^{2}]^{t}\\sigma_{0}^{2} = 0\n",
    "        $$\n",
    "        \n",
    "* Here: an extreme example of what we saw in Empirical Observation 2!"
   ]
  },
  {
   "cell_type": "markdown",
   "metadata": {
    "slideshow": {
     "slide_type": "subslide"
    }
   },
   "source": [
    "After some algebra, we can show that the equilibrium process for aggregate capital per-efficiency units of workers (i.e., living standard) obeys the recursive function:\n",
    "\n",
    "$$\n",
    "k_{t+1} = \\left[ \\frac{\\beta (1-\\alpha)}{1+\\beta +\\gamma}\\right](k_{t})^{\\alpha}\\left(\\frac{H_{t+1}}{H_{t}}\\right)^{-1}.\n",
    "\\tag{$\\ast$}\n",
    "\\label{eq: evolution of log k - tax}\n",
    "$$\n",
    "\n",
    "But now, compared to the private funding of education case, this dynamic here is complicated by the growth in average human capital.\n",
    "\n",
    "The latter depends on the dynamics of the distribution of individual human capital ..."
   ]
  },
  {
   "cell_type": "markdown",
   "metadata": {
    "slideshow": {
     "slide_type": "subslide"
    }
   },
   "source": [
    "Describing the competitive equilibrium is a bit more complicated now ...\n",
    "\n",
    "* The average human capital $H_{t}$ complicates the dynamics of individual human capital production\n",
    "\n",
    "* The aggregate distribution $\\mu_{t}^{\\tau^{\\ast}}$ is also dependent of $H_t$, but $H_{t}$ also depend on $\\mu_{t}^{\\tau^{\\ast}}$\n",
    "\n",
    "* We'll just have to jointly solve for these objects as part of the equilibrium\n",
    "\n",
    "* With more mathematical analysis  can show that ($\\ast$) is still a monotone map with convergent sequence of $k_{t}$ and $H_{t}$ (but that's for more advanced study!)\n",
    "\n",
    "* We'll instead compute an example equilbrium using the computer here!"
   ]
  },
  {
   "cell_type": "markdown",
   "metadata": {
    "slideshow": {
     "slide_type": "slide"
    }
   },
   "source": [
    "## Recursive competitive equilibrium II"
   ]
  },
  {
   "cell_type": "markdown",
   "metadata": {
    "slideshow": {
     "slide_type": "subslide"
    }
   },
   "source": [
    "\n",
    "\n",
    "**DEFINITION**. Given initial conditions $k_0$ and $\\mu_0 := \\mathcal{N}\\left(\\bar{l}_0, \\sigma_{0}\\right)$, a *recursive competitive equilibrium* with *publicly funded education* is \n",
    "\n",
    "* an aggregate allocation $\\{k_{t+1}, H_{t}\\}_{t=0}^{\\infty}$, \n",
    "\n",
    "* a sequence of human-capital distributions indexed by their mean and variance statistics $\\{h_{t} \\sim M_{t}^{\\tau^{\\ast}} := (\\bar{l}_{t}, \\sigma_{t})\\}_{t=0}^{\\infty}$, and, \n",
    "\n",
    "* a pricing system $\\{ w_{t}, R_{t} \\}_{t=0}^{\\infty}$, \n",
    "\n",
    "such that for all $t \\geq 0$:"
   ]
  },
  {
   "cell_type": "markdown",
   "metadata": {
    "slideshow": {
     "slide_type": "subslide"
    }
   },
   "source": [
    "1. $k_{t+1} = \\left[ \\frac{\\beta (1-\\alpha)}{1+\\beta +\\gamma}\\right]Zk_{t}^{\\alpha}\\left(\\frac{H_{t+1}}{H_{t}}\\right)^{-1} \\equiv g_{\\tau^{\\ast}}\\left(k_t, \\frac{H_{t+1}}{H_{t}}\\right)$\n",
    "\n",
    "2. $w_{t} =  (1-\\alpha)Zk_{t}^{\\alpha}$\n",
    "\n",
    "3. $R_{t} =  \\alpha Zk_{t}^{\\alpha - 1}$\n",
    "\n",
    "4. $\\bar{l}_{t+1} = (1-\\theta)\\bar{l}_{t} + \\ln \\left[\\kappa \\left( w_{t}H_{t}\\right)^{\\theta}\\right]$\n",
    "\t\t\t\n",
    "5. $\\sigma_{t+1}^{2} = (1-\\theta)^{2}\\sigma_{t}^{2}$\n",
    "\n"
   ]
  },
  {
   "cell_type": "markdown",
   "metadata": {
    "slideshow": {
     "slide_type": "subslide"
    }
   },
   "source": [
    "** *Note**: $M_{t}^{\\tau^{\\ast}}$ sufficiently described by\n",
    "\n",
    "* Mean: \n",
    "    \n",
    "    $$\n",
    "    H_{t} := \\mathbb{E}_{M_{t}^{\\tau^{\\ast}}}(h_t) = \\int h_{t} \\text{d}M_{t}^{\\tau^{\\ast}}(h_{t}) = \\exp\\left(\\bar{l}_{t}+\\frac{\\sigma_{t}^{2}}{2}\\right)\n",
    "    $$ \n",
    "\n",
    "* Variance: \n",
    "\n",
    "    $$\n",
    "    \\text{var}(h_{t}) = \\exp\\left( 2\\bar{l}_{t} + \\sigma_{t}^{2}\\right) \\left[\\exp\\left(\\sigma_{t}^{2}\\right) - 1\\right]\n",
    "    $$"
   ]
  },
  {
   "cell_type": "code",
   "execution_count": 28,
   "metadata": {
    "slideshow": {
     "slide_type": "subslide"
    }
   },
   "outputs": [],
   "source": [
    "def g_tau(k, H, Hnext, parameters):\n",
    "    \"\"\"RCE map in k - public provision of education case\n",
    "    under taxation rate $\\tau^{\\ast} = \\gamma/(1+\\beta+\\gamma)$\"\"\"        \n",
    "    # Extract specific parameters from dictionary\n",
    "    A = parameters[\"A\"]\n",
    "    α = parameters[\"alpha\"]\n",
    "    β = parameters[\"beta\"]\n",
    "    γ = parameters[\"gamma\"]\n",
    "    θ = parameters[\"theta\"]\n",
    "    Z = parameters[\"Z\"]  \n",
    "    κ = parameters[\"kappa\"]\n",
    "    # Recursive competitive eqm map k --> g_public(k)\n",
    "    knext = ((β)/(1+β+γ))*((1.0-α)*Z*(k**α))*(H/Hnext)\n",
    "    return knext"
   ]
  },
  {
   "cell_type": "code",
   "execution_count": 29,
   "metadata": {
    "slideshow": {
     "slide_type": "subslide"
    }
   },
   "outputs": [],
   "source": [
    "def distro_logh_public(k, lbar, sigma2, parameters):\n",
    "    \"\"\"Recursion on Normal distribution for log-h \n",
    "                        - mean and variance\"\"\"\n",
    "    θ = parameters[\"theta\"]  \n",
    "    κ = parameters[\"kappa\"] \n",
    "    w = f(k, parameters)[\"w\"]\n",
    "    H = np.exp(lbar + sigma2/2.0)\n",
    "    # Mean and variance of Normal dist. of log(h)\n",
    "    lbar_next = (1.0-θ)*lbar + np.log(κ) + θ*np.log(w*H)\n",
    "    sigma2_next = ((1.0-θ)**2.0)*sigma2\n",
    "    Hnext = np.exp(lbar_next + sigma2_next/2.0)\n",
    "    # Define Normal dist function at date t\n",
    "    dist = norm(loc=lbar, scale=np.sqrt(sigma2))\n",
    "    out = {\"lbarnext\" : lbar_next, \n",
    "           \"sigma2next\" : sigma2_next, \n",
    "           \"lbar\" : lbar, \n",
    "           \"sigma2\" : sigma2, \n",
    "           \"H\" : H,\n",
    "           \"Hnext\" : Hnext,\n",
    "           \"distribution\" : dist}\n",
    "    return out"
   ]
  },
  {
   "cell_type": "code",
   "execution_count": 30,
   "metadata": {
    "slideshow": {
     "slide_type": "subslide"
    }
   },
   "outputs": [],
   "source": [
    "def distro_log2level_public(k, lbar, sigma2, parameters):\n",
    "    \"\"\"Public funding case:\n",
    "       Transform unique Normal distribution of log-h \n",
    "       indexed by moments (lbar, sigma2) into\n",
    "       implied log-Normal distribution M of level of h.\n",
    "       Also calculate distribution of auxiliary \n",
    "       variables: labor income, capital income and wealth.\"\"\"\n",
    "    \n",
    "    mean_h = np.exp(lbar + sigma2/2.0)\n",
    "    var_h = np.exp(2.0*lbar + sigma2)*(np.exp(sigma2) - 1.0)\n",
    "    # Define log-Normal dist function of h at date t\n",
    "    mean_h = np.exp(lbar)\n",
    "    dist = lognorm(s=np.sqrt(sigma2), loc=lbar, scale=mean_h) \n",
    "    \n",
    "    # Aggregate prices\n",
    "    w = f(k, parameters)[\"w\"]\n",
    "    lw = np.log(w)\n",
    "    # Distribution of labor income\n",
    "    mean_wage = np.exp(lbar+lw)\n",
    "    dist_wageincome = lognorm(s=np.sqrt(sigma2), \n",
    "                                       loc=mean_wage,\n",
    "                                       scale=mean_wage)\n",
    "    \n",
    "    # Distribution of Wealth\n",
    "    β = parameters[\"beta\"]\n",
    "    γ = parameters[\"gamma\"]\n",
    "    τ = γ/(1.0+β+γ)\n",
    "    constant = np.log(β*(1.0-τ)/(1+β))\n",
    "    mean_wealth = np.exp(lbar+lw+constant)\n",
    "    dist_wealth = lognorm(s=np.sqrt(sigma2), \n",
    "                                   loc=mean_wealth,\n",
    "                                   scale=mean_wealth)\n",
    "    \n",
    "    # Distribution of capital income\n",
    "    distout = distro_logh_public(k, lbar, sigma2, parameters)\n",
    "    H, Hnext = distout[\"H\"], distout[\"Hnext\"]\n",
    "    knext = g_tau(k, H, Hnext, parameters)\n",
    "    Rnext = f(knext, parameters)[\"R\"]\n",
    "    lRnext = np.log(Rnext)\n",
    "    mean_capincome = np.exp(lRnext+lbar+lw+constant)\n",
    "    dist_capincome = lognorm(s=np.sqrt(sigma2), \n",
    "                                   loc=mean_capincome,\n",
    "                                   scale=mean_capincome)\n",
    "    \n",
    "    # Store in out dictionary\n",
    "    out = {\"mean\" : mean_h, \n",
    "           \"variance\" : var_h, \n",
    "           \"distribution\" : dist,\n",
    "           \"distribution_wageincome\" : dist_wageincome,\n",
    "           \"distribution_wealth\" : dist_wealth,\n",
    "           \"distribution_capincome\" : dist_capincome,\n",
    "          }\n",
    "    return out"
   ]
  },
  {
   "cell_type": "code",
   "execution_count": 31,
   "metadata": {
    "slideshow": {
     "slide_type": "subslide"
    }
   },
   "outputs": [],
   "source": [
    "def G_public(k, lbar, sigma2, parameters):\n",
    "    \"\"\"Overall RCE system - private provision of education case\n",
    "                          - see definition above\"\"\"\n",
    "    # Distribution - Normal - log(h)\n",
    "    distout_logh = distro_logh_public(k, lbar, sigma2, parameters)\n",
    "    # Evolution of k = K/H\n",
    "    H = distout_logh[\"H\"]\n",
    "    Hnext = distout_logh[\"Hnext\"]\n",
    "    knext = g_tau(k, H, Hnext, parameters)\n",
    "    # Distribution - log-Normal - h\n",
    "    distout_h = distro_log2level_public(k, lbar, sigma2, parameters)\n",
    "    # Static relations - get values: y, R, w\n",
    "    y, R, w = f(k, parameters).values()\n",
    "    # Bento box\n",
    "    out = {\"k\"           : k,\n",
    "           \"knext\"       : knext, \n",
    "           \"distro_logh\" : distout_logh, \n",
    "           \"distro_h\"    : distout_h, \n",
    "           \"y\"           : y, \n",
    "           \"R\"           : R, \n",
    "           \"w\"           : w\n",
    "          }\n",
    "    return out"
   ]
  },
  {
   "cell_type": "code",
   "execution_count": 32,
   "metadata": {
    "slideshow": {
     "slide_type": "subslide"
    }
   },
   "outputs": [],
   "source": [
    "def sim_public(parameters, k, lbar=1.0, sigma2=0.25, T=15):\n",
    "    \"\"\"Simulate RCE outcomes given initial conditions\"\"\"\n",
    "    results = []   \n",
    "    for t in range(T):\n",
    "        # Given date t states, store RCE outcome ...\n",
    "        out = G_public(k, lbar, sigma2, parameters)\n",
    "        results.append(out)\n",
    "        # Update states for t+1 ...\n",
    "        k = out[\"knext\"]\n",
    "        lbar = out[\"distro_logh\"][\"lbarnext\"]\n",
    "        sigma2 = out[\"distro_logh\"][\"sigma2next\"]\n",
    "    return results"
   ]
  },
  {
   "cell_type": "code",
   "execution_count": 33,
   "metadata": {
    "slideshow": {
     "slide_type": "subslide"
    }
   },
   "outputs": [],
   "source": [
    "# Simulate a RCE trajectory\n",
    "T = 15\n",
    "results_pub = sim_public(parameters, k=k0, lbar=0.0, sigma2=0.231, T=T)"
   ]
  },
  {
   "cell_type": "markdown",
   "metadata": {
    "slideshow": {
     "slide_type": "subslide"
    }
   },
   "source": [
    "## RCE path of $k = K/H$ under public education"
   ]
  },
  {
   "cell_type": "code",
   "execution_count": 34,
   "metadata": {
    "scrolled": true,
    "slideshow": {
     "slide_type": "subslide"
    }
   },
   "outputs": [
    {
     "data": {
      "image/png": "[encoded data removed]",
      "text/plain": [
       "<Figure size 432x288 with 1 Axes>"
      ]
     },
     "metadata": {
      "needs_background": "light"
     },
     "output_type": "display_data"
    }
   ],
   "source": [
    "plot_aggregate_path(results_pub)"
   ]
  },
  {
   "cell_type": "markdown",
   "metadata": {
    "slideshow": {
     "slide_type": "subslide"
    }
   },
   "source": [
    "## RCE path of $w_t$ under public education"
   ]
  },
  {
   "cell_type": "code",
   "execution_count": 35,
   "metadata": {
    "scrolled": false,
    "slideshow": {
     "slide_type": "subslide"
    }
   },
   "outputs": [
    {
     "data": {
      "image/png": "[encoded data removed]",
      "text/plain": [
       "<Figure size 432x288 with 1 Axes>"
      ]
     },
     "metadata": {
      "needs_background": "light"
     },
     "output_type": "display_data"
    }
   ],
   "source": [
    "plot_aggregate_path(results_pub, variable_name=\"w\", \n",
    "                             variable_label=\"$w_{t}$\")"
   ]
  },
  {
   "cell_type": "markdown",
   "metadata": {
    "slideshow": {
     "slide_type": "subslide"
    }
   },
   "source": [
    "## RCE path of $R_t$ under public education"
   ]
  },
  {
   "cell_type": "code",
   "execution_count": 36,
   "metadata": {
    "scrolled": true,
    "slideshow": {
     "slide_type": "subslide"
    }
   },
   "outputs": [
    {
     "data": {
      "image/png": "[encoded data removed]",
      "text/plain": [
       "<Figure size 432x288 with 1 Axes>"
      ]
     },
     "metadata": {
      "needs_background": "light"
     },
     "output_type": "display_data"
    }
   ],
   "source": [
    "plot_aggregate_path(results_pub, variable_name=\"R\", \n",
    "                             variable_label=\"$R_{t}$\")"
   ]
  },
  {
   "cell_type": "markdown",
   "metadata": {
    "slideshow": {
     "slide_type": "subslide"
    }
   },
   "source": [
    "## RCE path of $\\overline{l}_t$ under public education"
   ]
  },
  {
   "cell_type": "code",
   "execution_count": 37,
   "metadata": {
    "slideshow": {
     "slide_type": "subslide"
    }
   },
   "outputs": [
    {
     "data": {
      "image/png": "[encoded data removed]",
      "text/plain": [
       "<Figure size 432x288 with 1 Axes>"
      ]
     },
     "metadata": {
      "needs_background": "light"
     },
     "output_type": "display_data"
    }
   ],
   "source": [
    "plt.figure()\n",
    "for t in range(T):\n",
    "    plt.plot(t, results_pub[t][\"distro_logh\"][\"lbar\"], 'o')\n",
    "plt.xlabel(\"Date, $t$\")\n",
    "plt.ylabel(\"$\\overline{l}_{t}$\")\n",
    "plt.show()"
   ]
  },
  {
   "cell_type": "markdown",
   "metadata": {
    "slideshow": {
     "slide_type": "subslide"
    }
   },
   "source": [
    "## RCE path of $H_t$ under public education"
   ]
  },
  {
   "cell_type": "code",
   "execution_count": 38,
   "metadata": {
    "scrolled": true,
    "slideshow": {
     "slide_type": "subslide"
    }
   },
   "outputs": [
    {
     "data": {
      "image/png": "[encoded data removed]",
      "text/plain": [
       "<Figure size 432x288 with 1 Axes>"
      ]
     },
     "metadata": {
      "needs_background": "light"
     },
     "output_type": "display_data"
    }
   ],
   "source": [
    "plt.figure()\n",
    "for t in range(T):\n",
    "    plt.plot(t, results_pub[t][\"distro_h\"][\"mean\"], 'o')\n",
    "plt.xlabel(\"Date, $t$\")\n",
    "plt.ylabel(\"$H_{t}$\")\n",
    "plt.show()"
   ]
  },
  {
   "cell_type": "markdown",
   "metadata": {
    "slideshow": {
     "slide_type": "subslide"
    }
   },
   "source": [
    "## RCE path of $\\mu_{t}$ and $M_{t}$ under public education"
   ]
  },
  {
   "cell_type": "code",
   "execution_count": 39,
   "metadata": {
    "scrolled": true,
    "slideshow": {
     "slide_type": "subslide"
    }
   },
   "outputs": [
    {
     "data": {
      "image/png": "[encoded data removed]",
      "text/plain": [
       "<Figure size 432x288 with 1 Axes>"
      ]
     },
     "metadata": {
      "needs_background": "light"
     },
     "output_type": "display_data"
    }
   ],
   "source": [
    "plot_dist_sequence(results_pub, \"distribution\", \n",
    "                             dist_class=\"normal\",\n",
    "                             dist_label=\"Individual log human capital, $\\ln (h_{t})$\",\n",
    "                             skip=4)"
   ]
  },
  {
   "cell_type": "markdown",
   "metadata": {
    "slideshow": {
     "slide_type": "subslide"
    }
   },
   "source": [
    "Let's look at a few snapshots of the probability density function of $h_{t}$, $M_{t}^{\\prime}$, at different dates (cohorts of families) $t$:"
   ]
  },
  {
   "cell_type": "code",
   "execution_count": 40,
   "metadata": {
    "slideshow": {
     "slide_type": "subslide"
    }
   },
   "outputs": [
    {
     "data": {
      "image/png": "[encoded data removed]",
      "text/plain": [
       "<Figure size 432x288 with 1 Axes>"
      ]
     },
     "metadata": {
      "needs_background": "light"
     },
     "output_type": "display_data"
    }
   ],
   "source": [
    "plot_dist_sequence(results_pub, \"distribution\", \n",
    "                             dist_class=\"lognormal\",\n",
    "                             dist_label=\"Individual human capital, $h_{t}$\",\n",
    "                             skip=4)"
   ]
  },
  {
   "cell_type": "markdown",
   "metadata": {
    "slideshow": {
     "slide_type": "subslide"
    }
   },
   "source": [
    "**Notes**. \n",
    "\n",
    "\n",
    "* While $k_{t} = K_{t}/H_{t}$ converges to a constant along a steady-state equilibrium path, per-person capital $K_{t}$ will eventually grow at the same rate as $H_{t}$ in the long run.\n",
    "\n",
    "* In contrast to the laissez-faire economy, now with public financing of education there is no inequality in the long run. \n",
    "\n",
    "* We can prove that there is perpetual growth in living standard (per-capita income) in the long run. This is the same rate as that in the long run economy under private education!"
   ]
  },
  {
   "cell_type": "markdown",
   "metadata": {
    "slideshow": {
     "slide_type": "subslide"
    }
   },
   "source": [
    "Wealth and income are functions of aggregate prices $(w_{t}, R_{t+1})$ and $h_{t}$.\n",
    "\n",
    "(See agent's optimal saving function and definition of labor and capital incomes.)\n",
    "\n",
    "Se we can also plot the distributions of wealth, capital income and labor income of invidivuals at each cohort/date $t$."
   ]
  },
  {
   "cell_type": "code",
   "execution_count": 41,
   "metadata": {
    "scrolled": true,
    "slideshow": {
     "slide_type": "subslide"
    }
   },
   "outputs": [
    {
     "data": {
      "image/png": "[encoded data removed]",
      "text/plain": [
       "<Figure size 432x288 with 1 Axes>"
      ]
     },
     "metadata": {
      "needs_background": "light"
     },
     "output_type": "display_data"
    }
   ],
   "source": [
    "plot_dist_sequence(results_pub, \"distribution_wealth\", \n",
    "                             dist_class=\"lognormal\",\n",
    "                             dist_label=\"Individual wealth, $s_{t}$\",\n",
    "                             skip=4)"
   ]
  },
  {
   "cell_type": "code",
   "execution_count": 42,
   "metadata": {
    "slideshow": {
     "slide_type": "subslide"
    }
   },
   "outputs": [
    {
     "data": {
      "image/png": "[encoded data removed]",
      "text/plain": [
       "<Figure size 432x288 with 1 Axes>"
      ]
     },
     "metadata": {
      "needs_background": "light"
     },
     "output_type": "display_data"
    }
   ],
   "source": [
    "plot_dist_sequence(results_pub, \"distribution_capincome\", \n",
    "                             dist_class=\"lognormal\",\n",
    "                             dist_label=\"Individual capital income, $R_{t+1}s_{t}$\",\n",
    "                             skip=4)"
   ]
  },
  {
   "cell_type": "code",
   "execution_count": 43,
   "metadata": {
    "scrolled": true,
    "slideshow": {
     "slide_type": "subslide"
    }
   },
   "outputs": [
    {
     "data": {
      "image/png": "[encoded data removed]",
      "text/plain": [
       "<Figure size 432x288 with 1 Axes>"
      ]
     },
     "metadata": {
      "needs_background": "light"
     },
     "output_type": "display_data"
    }
   ],
   "source": [
    "plot_dist_sequence(results_pub, \"distribution_wageincome\", \n",
    "                             dist_class=\"lognormal\",\n",
    "                             dist_label=\"Individual wage income, $w_{t}h_{t}$\",\n",
    "                             skip=4)"
   ]
  },
  {
   "cell_type": "markdown",
   "metadata": {
    "slideshow": {
     "slide_type": "slide"
    }
   },
   "source": [
    "# PUNCHLINE II: Taxation and public education reduces inequality"
   ]
  },
  {
   "cell_type": "markdown",
   "metadata": {
    "slideshow": {
     "slide_type": "subslide"
    }
   },
   "source": [
    "### Pause ... and think ... Inequality vs. Growth trade-off\n",
    "\n",
    "* Since $(\\maltese)$ and $(\\star\\star)$ induce convergent sequences $\\bar{l}_{t} \\rightarrow \\bar{l}$ and $\\sigma_{t} \\rightarrow 0$, we can deduce that public financing of education here eliminates dispersion in individual human capital completely. \n",
    "\n",
    "* As a result wealth, labor and capital income inequality also disappears completely in the long run. However there is no perpetual aggregate growth since $H_{t}$ converges to a constant in the long run.\n",
    "\n",
    "* This contrasts with the self-funded case where there is perpetual inequality in these measures, but as a trade-off, there is perpetual growth in $H_{t}$, and thus living standard $K_{t}$ (per-person capital stock).\n",
    "\n"
   ]
  },
  {
   "cell_type": "markdown",
   "metadata": {
    "slideshow": {
     "slide_type": "subslide"
    }
   },
   "source": [
    "\n",
    "* So what's going on here? \n",
    "\n",
    "    * In the previous economy, the rich stay richer, the poor stay poorer. \n",
    "    \n",
    "    * That is because the richer (poorer) households are self-providing a higher (lower) level of $e_{t}$. \n",
    "    \n",
    "    * Combining that with a higher (lower) level of initial human capital of the parents, the children continue to be richer (poorer) in a relative sense. \n",
    "    \n",
    "    * Note, at the margin, their investment rates are the same though!\n",
    "\n"
   ]
  },
  {
   "cell_type": "markdown",
   "metadata": {
    "slideshow": {
     "slide_type": "subslide"
    }
   },
   "source": [
    "* Now with public education, this here, is a story a politician like [Bernie Sanders would like](https://feelthebern.org/bernie-sanders-on-education/):\n",
    "    * Take education out of private hands. \n",
    "    \n",
    "    * Impose a higher burden of tax on the rich in terms of tax revenue/volume (although the marginal tax rate is the same). \n",
    "    \n",
    "    * The poorer people bear a lower incidence of income tax. \n",
    "    \n",
    "* The difference here is that everyone, rich or poor, gets the *same level of public education*. \n",
    "\n",
    "* As a result, the public policy helps generate intergenerational income and wealth mobility. The poor converge upward and the rich downward, toward a degenerate distribution of wealth and income."
   ]
  },
  {
   "cell_type": "markdown",
   "metadata": {
    "slideshow": {
     "slide_type": "subslide"
    }
   },
   "source": [
    "* The difference here is that:\n",
    "\n",
    "    * With public provision of education, regardless of income/wealth class, every child gets the *same* level of $e_{t}$\n",
    "    \n",
    "    * With private funding of education, each child's $e_{t}$ is *idiosyncratic*. It depends on the wealth (and thus income) of the parent.\n",
    "    \n",
    "        * The richer ones buy more $e_{t}$\n",
    "        \n",
    "        * The poorer ones have less $e_{t}$\n",
    "       \n",
    "* So in the private provision case, there is also distribution of $e_{t}$! That's part of the symptom why there is no reduction of inequality in that economic environment."
   ]
  },
  {
   "cell_type": "markdown",
   "metadata": {
    "slideshow": {
     "slide_type": "slide"
    }
   },
   "source": [
    "# Postscript - Exercise!\n",
    "\n",
    "* Do you think reality is as stark as these two examples?\n",
    "\n",
    "* Can public education alone close the income and wealth gap in reality?\n",
    "\n",
    "    * If not, why not? What is potentially missing in these two  model stories?\n",
    "    \n",
    "    * How do your results above depend on $\\theta$ (a measure of how effective the education system/investment is)?"
   ]
  }
 ],
 "metadata": {
  "celltoolbar": "Slideshow",
  "kernelspec": {
   "display_name": "Python 3",
   "language": "python",
   "name": "python3"
  },
  "language_info": {
   "codemirror_mode": {
    "name": "ipython",
    "version": 3
   },
   "file_extension": ".py",
   "mimetype": "text/x-python",
   "name": "python",
   "nbconvert_exporter": "python",
   "pygments_lexer": "ipython3",
   "version": "3.6.10"
  },
  "latex_envs": {
   "LaTeX_envs_menu_present": true,
   "autoclose": false,
   "autocomplete": false,
   "bibliofile": "biblio.bib",
   "cite_by": "apalike",
   "current_citInitial": 1,
   "eqLabelWithNumbers": true,
   "eqNumInitial": 1,
   "hotkeys": {
    "equation": "Ctrl-E",
    "itemize": "Ctrl-I"
   },
   "labels_anchors": false,
   "latex_user_defs": false,
   "report_style_numbering": true,
   "user_envs_cfg": true
  }
 },
 "nbformat": 4,
 "nbformat_minor": 2
}
