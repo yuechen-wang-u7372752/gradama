{
 "cells": [
  {
   "cell_type": "markdown",
   "id": "c16e4e21",
   "metadata": {
    "slideshow": {
     "slide_type": "skip"
    },
    "toc": true
   },
   "source": [
    "<h1>Table of Contents<span class=\"tocSkip\"></span></h1>\n",
    "<div class=\"toc\"><ul class=\"toc-item\"><li><span><a href=\"#Functions\" data-toc-modified-id=\"Functions-1\"><span class=\"toc-item-num\">1&nbsp;&nbsp;</span>Functions</a></span><ul class=\"toc-item\"><li><span><a href=\"#Application:-Production-Functions\" data-toc-modified-id=\"Application:-Production-Functions-1.1\"><span class=\"toc-item-num\">1.1&nbsp;&nbsp;</span>Application: Production Functions</a></span><ul class=\"toc-item\"><li><span><a href=\"#Factors-of-Production\" data-toc-modified-id=\"Factors-of-Production-1.1.1\"><span class=\"toc-item-num\">1.1.1&nbsp;&nbsp;</span>Factors of Production</a></span></li><li><span><a href=\"#An-Example-Production-Function\" data-toc-modified-id=\"An-Example-Production-Function-1.1.2\"><span class=\"toc-item-num\">1.1.2&nbsp;&nbsp;</span>An Example Production Function</a></span></li></ul></li><li><span><a href=\"#What-are-(Python)-Functions?\" data-toc-modified-id=\"What-are-(Python)-Functions?-1.2\"><span class=\"toc-item-num\">1.2&nbsp;&nbsp;</span>What are (Python) Functions?</a></span></li><li><span><a href=\"#How-to-Define-(Python)-Functions?\" data-toc-modified-id=\"How-to-Define-(Python)-Functions?-1.3\"><span class=\"toc-item-num\">1.3&nbsp;&nbsp;</span>How to Define (Python) Functions?</a></span><ul class=\"toc-item\"><li><span><a href=\"#Scope\" data-toc-modified-id=\"Scope-1.3.1\"><span class=\"toc-item-num\">1.3.1&nbsp;&nbsp;</span>Scope</a></span></li><li><span><a href=\"#Re-using-Functions\" data-toc-modified-id=\"Re-using-Functions-1.3.2\"><span class=\"toc-item-num\">1.3.2&nbsp;&nbsp;</span>Re-using Functions</a></span></li><li><span><a href=\"#Exercise\" data-toc-modified-id=\"Exercise-1.3.3\"><span class=\"toc-item-num\">1.3.3&nbsp;&nbsp;</span>Exercise</a></span></li><li><span><a href=\"#Exercise\" data-toc-modified-id=\"Exercise-1.3.4\"><span class=\"toc-item-num\">1.3.4&nbsp;&nbsp;</span>Exercise</a></span></li><li><span><a href=\"#Multiple-Returns\" data-toc-modified-id=\"Multiple-Returns-1.3.5\"><span class=\"toc-item-num\">1.3.5&nbsp;&nbsp;</span>Multiple Returns</a></span></li><li><span><a href=\"#Documentation\" data-toc-modified-id=\"Documentation-1.3.6\"><span class=\"toc-item-num\">1.3.6&nbsp;&nbsp;</span>Documentation</a></span></li><li><span><a href=\"#Exercise\" data-toc-modified-id=\"Exercise-1.3.7\"><span class=\"toc-item-num\">1.3.7&nbsp;&nbsp;</span>Exercise</a></span></li><li><span><a href=\"#Default-and-Keyword-Arguments\" data-toc-modified-id=\"Default-and-Keyword-Arguments-1.3.8\"><span class=\"toc-item-num\">1.3.8&nbsp;&nbsp;</span>Default and Keyword Arguments</a></span></li><li><span><a href=\"#Exercise\" data-toc-modified-id=\"Exercise-1.3.9\"><span class=\"toc-item-num\">1.3.9&nbsp;&nbsp;</span>Exercise</a></span></li><li><span><a href=\"#Aside:-Methods\" data-toc-modified-id=\"Aside:-Methods-1.3.10\"><span class=\"toc-item-num\">1.3.10&nbsp;&nbsp;</span>Aside: Methods</a></span></li></ul></li><li><span><a href=\"#More-on-Scope-(Optional)\" data-toc-modified-id=\"More-on-Scope-(Optional)-1.4\"><span class=\"toc-item-num\">1.4&nbsp;&nbsp;</span>More on Scope (Optional)</a></span></li><li><span><a href=\"#Exercises\" data-toc-modified-id=\"Exercises-1.5\"><span class=\"toc-item-num\">1.5&nbsp;&nbsp;</span>Exercises</a></span><ul class=\"toc-item\"><li><span><a href=\"#Exercise-1\" data-toc-modified-id=\"Exercise-1-1.5.1\"><span class=\"toc-item-num\">1.5.1&nbsp;&nbsp;</span>Exercise 1</a></span></li><li><span><a href=\"#Exercise-2\" data-toc-modified-id=\"Exercise-2-1.5.2\"><span class=\"toc-item-num\">1.5.2&nbsp;&nbsp;</span>Exercise 2</a></span></li><li><span><a href=\"#Exercise-3\" data-toc-modified-id=\"Exercise-3-1.5.3\"><span class=\"toc-item-num\">1.5.3&nbsp;&nbsp;</span>Exercise 3</a></span></li><li><span><a href=\"#Exercise-4\" data-toc-modified-id=\"Exercise-4-1.5.4\"><span class=\"toc-item-num\">1.5.4&nbsp;&nbsp;</span>Exercise 4</a></span></li></ul></li></ul></li></ul></div>"
   ]
  },
  {
   "cell_type": "markdown",
   "id": "b32986c4",
   "metadata": {
    "slideshow": {
     "slide_type": "slide"
    }
   },
   "source": [
    "# Functions\n",
    "\n",
    "**Prerequisites**\n",
    "\n",
    "- [Getting Started](https://datascience.quantecon.org/../introduction/getting_started.html)  \n",
    "- [Basics](https://datascience.quantecon.org/basics.html)  \n",
    "- [Collections](https://datascience.quantecon.org/collections.html)  \n",
    "- [Control Flow](https://datascience.quantecon.org/control_flow.html)  \n"
   ]
  },
  {
   "cell_type": "markdown",
   "id": "1a4f068c",
   "metadata": {
    "slideshow": {
     "slide_type": "subslide"
    }
   },
   "source": [
    "**Outcomes**\n",
    "\n",
    "- Economic Production Functions  \n",
    "  - Understand the basics of production functions in economics  \n",
    "- Functions  \n",
    "  - Know how to define your own function  \n",
    "  - Know how to find and write your own function documentation  \n",
    "  - Know why we use functions  \n",
    "  - Understand scoping rules and blocks  \n",
    "\n",
    "\n",
    "\n",
    "<a id='production-functions'></a>"
   ]
  },
  {
   "cell_type": "markdown",
   "id": "f41b8389",
   "metadata": {
    "slideshow": {
     "slide_type": "slide"
    }
   },
   "source": [
    "## Application: Production Functions\n",
    "\n",
    "Production functions are useful when modeling the economics of firms producing\n",
    "goods or the aggregate output in an economy.\n",
    "\n",
    "Though the term “function” is used in a mathematical sense here, we will be making\n",
    "tight connections between the programming of mathematical functions and Python\n",
    "functions."
   ]
  },
  {
   "cell_type": "markdown",
   "id": "43b763fe",
   "metadata": {
    "slideshow": {
     "slide_type": "subslide"
    }
   },
   "source": [
    "### Factors of Production\n",
    "\n",
    "The [factors of production](https://en.wikipedia.org/wiki/Factors_of_production)\n",
    "are the inputs used in the production of some sort of output.\n",
    "\n",
    "Some example factors of production include\n",
    "\n",
    "- [Physical capital](https://en.wikipedia.org/wiki/Physical_capital), e.g.\n",
    "  machines, buildings, computers, and power stations.  \n",
    "- Labor, e.g. all of the hours of work from different types of employees of a\n",
    "  firm.  \n",
    "- [Human Capital](https://en.wikipedia.org/wiki/Human_capital), e.g. the\n",
    "  knowledge of employees within a firm.  "
   ]
  },
  {
   "cell_type": "markdown",
   "id": "1c6ee9e7",
   "metadata": {
    "slideshow": {
     "slide_type": "subslide"
    }
   },
   "source": [
    "A [production function](https://en.wikipedia.org/wiki/Production_function)\n",
    "maps a set of inputs to the output, e.g. the amount of wheat produced by a\n",
    "farm, or widgets produced in a factory.\n",
    "\n",
    "As an example of the notation, we denote the total units of labor and\n",
    "physical capital used in a factory as $ L $ and $ K $ respectively.\n",
    "\n",
    "If we denote the physical output of the factory as $ Y $, then a production\n",
    "function $ F $ that transforms labor and capital into output might have the\n",
    "form:\n",
    "\n",
    "$$\n",
    "Y = F(K, L)\n",
    "$$\n",
    "\n",
    "\n",
    "<a id='cobb-douglas-example'></a>"
   ]
  },
  {
   "cell_type": "markdown",
   "id": "b812ec39",
   "metadata": {
    "slideshow": {
     "slide_type": "subslide"
    }
   },
   "source": [
    "### An Example Production Function\n",
    "\n",
    "Throughout this lecture, we will use the\n",
    "[Cobb-Douglas](https://en.wikipedia.org/wiki/Cobb%E2%80%93Douglas_production_function)\n",
    "production function to help us understand how to create Python\n",
    "functions and why they are useful.\n",
    "\n",
    "The Cobb-Douglas production function has appealing statistical properties when brought to data.\n",
    "\n"
   ]
  },
  {
   "cell_type": "markdown",
   "id": "b5379b70",
   "metadata": {
    "slideshow": {
     "slide_type": "subslide"
    }
   },
   "source": [
    "This function is displayed below.\n",
    "\n",
    "$$\n",
    "Y = z K^{\\alpha} L^{1-\\alpha}\n",
    "$$\n",
    "\n",
    "The function is parameterized by:\n",
    "\n",
    "- A parameter $ \\alpha \\in [0,1] $, called the “output elasticity of\n",
    "  capital”.  \n",
    "- A value $ z $ called the [Total Factor Productivity](https://en.wikipedia.org/wiki/Total_factor_productivity) (TFP).  "
   ]
  },
  {
   "cell_type": "markdown",
   "id": "3b19bd05",
   "metadata": {
    "slideshow": {
     "slide_type": "slide"
    }
   },
   "source": [
    "## What are (Python) Functions?\n",
    "\n",
    "In this class, we will often talk about `function`s.\n",
    "\n",
    "So what is a function?\n",
    "\n",
    "We like to think of a function as a production line in a\n",
    "manufacturing plant: we pass zero or more things to it, operations take place in a\n",
    "set linear sequence, and zero or more things come out.\n",
    "\n"
   ]
  },
  {
   "cell_type": "markdown",
   "id": "23894523",
   "metadata": {
    "slideshow": {
     "slide_type": "subslide"
    }
   },
   "source": [
    "We use functions for the following purposes:\n",
    "\n",
    "- **Re-usability**: Writing code to do a specific task just once, and\n",
    "  reuse the code by calling the function.  \n",
    "- **Organization**: Keep the code for distinct operations separated and\n",
    "  organized.  \n",
    "- **Sharing/collaboration**: Sharing code across multiple projects or\n",
    "  sharing pieces of code with collaborators.  "
   ]
  },
  {
   "cell_type": "markdown",
   "id": "b4c7f9f5",
   "metadata": {
    "slideshow": {
     "slide_type": "slide"
    }
   },
   "source": [
    "## How to Define (Python) Functions?\n",
    "\n",
    "The basic syntax to create our own function is as follows:"
   ]
  },
  {
   "cell_type": "code",
   "execution_count": null,
   "id": "9f37e9e1",
   "metadata": {
    "hide-output": false,
    "slideshow": {
     "slide_type": "subslide"
    }
   },
   "outputs": [],
   "source": [
    "def function_name(inputs):\n",
    "    # step 1\n",
    "    # step 2\n",
    "    # ...\n",
    "    return outputs"
   ]
  },
  {
   "cell_type": "markdown",
   "id": "c7c6d531",
   "metadata": {
    "slideshow": {
     "slide_type": "subslide"
    }
   },
   "source": [
    "Here we see two new *keywords*: `def` and `return`.\n",
    "\n",
    "- `def` is used to tell Python we would like to define a new function.  \n",
    "- `return` is used to tell Python what we would like to **return** from a\n",
    "  function.  \n",
    "\n",
    "\n",
    "Let’s look at an example and then discuss each part:"
   ]
  },
  {
   "cell_type": "code",
   "execution_count": 1,
   "id": "fd6e7e1b",
   "metadata": {
    "hide-output": false,
    "slideshow": {
     "slide_type": "subslide"
    }
   },
   "outputs": [],
   "source": [
    "def mean(numbers):\n",
    "    total = sum(numbers)\n",
    "    N = len(numbers)\n",
    "    answer = total / N\n",
    "\n",
    "    return answer"
   ]
  },
  {
   "cell_type": "markdown",
   "id": "e7310a61",
   "metadata": {
    "slideshow": {
     "slide_type": "subslide"
    }
   },
   "source": [
    "Here we defined a function `mean` that has one input (`numbers`),\n",
    "does three steps, and has one output (`answer`).\n",
    "\n",
    "Let’s see what happens when we call this function on the list of numbers\n",
    "`[1, 2, 3, 4]`."
   ]
  },
  {
   "cell_type": "code",
   "execution_count": 2,
   "id": "e9451d79",
   "metadata": {
    "hide-output": false,
    "slideshow": {
     "slide_type": "subslide"
    }
   },
   "outputs": [
    {
     "data": {
      "text/plain": [
       "2.5"
      ]
     },
     "execution_count": 2,
     "metadata": {},
     "output_type": "execute_result"
    }
   ],
   "source": [
    "x = [1, 2, 3, 4]\n",
    "the_mean = mean(x)\n",
    "the_mean"
   ]
  },
  {
   "cell_type": "markdown",
   "id": "cb5c7f16",
   "metadata": {
    "slideshow": {
     "slide_type": "subslide"
    }
   },
   "source": [
    "Additionally, as we saw in the [control flow](https://datascience.quantecon.org/control_flow.html) lecture, indentation\n",
    "controls blocks of code (along with the [scope](#scope) rules).\n",
    "\n",
    "To see this, compare a function with no inputs or return values."
   ]
  },
  {
   "cell_type": "code",
   "execution_count": 3,
   "id": "e1ad21a0",
   "metadata": {
    "hide-output": false,
    "slideshow": {
     "slide_type": "subslide"
    }
   },
   "outputs": [
    {
     "name": "stdout",
     "output_type": "stream",
     "text": [
      "1\n",
      "2\n"
     ]
    }
   ],
   "source": [
    "def f():\n",
    "    print(\"1\")\n",
    "    print(\"2\")\n",
    "f()"
   ]
  },
  {
   "cell_type": "markdown",
   "id": "26fcb50b",
   "metadata": {
    "slideshow": {
     "slide_type": "subslide"
    }
   },
   "source": [
    "With the following change of indentation…"
   ]
  },
  {
   "cell_type": "code",
   "execution_count": 4,
   "id": "b01eb522",
   "metadata": {
    "hide-output": false,
    "slideshow": {
     "slide_type": "subslide"
    }
   },
   "outputs": [
    {
     "name": "stdout",
     "output_type": "stream",
     "text": [
      "2\n",
      "1\n"
     ]
    }
   ],
   "source": [
    "def f():\n",
    "    print(\"1\")\n",
    "print(\"2\")\n",
    "f()"
   ]
  },
  {
   "cell_type": "markdown",
   "id": "6fdcc105",
   "metadata": {
    "slideshow": {
     "slide_type": "subslide"
    }
   },
   "source": [
    "\n",
    "<a id='scope'></a>"
   ]
  },
  {
   "cell_type": "markdown",
   "id": "5c35ca91",
   "metadata": {
    "slideshow": {
     "slide_type": "subslide"
    }
   },
   "source": [
    "### Scope\n",
    "\n",
    "Notice that we named the input to the function `x` and we called the output\n",
    "`the_mean`.\n",
    "\n",
    "When we defined the function, the input was called `numbers` and the output\n",
    "`answer`… what gives?\n",
    "\n",
    "This is an example of a programming concept called\n",
    "[variable scope](http://python-textbok.readthedocs.io/en/1.0/Variables_and_Scope.html).\n",
    "\n"
   ]
  },
  {
   "cell_type": "markdown",
   "id": "4967d34a",
   "metadata": {
    "slideshow": {
     "slide_type": "subslide"
    }
   },
   "source": [
    "In Python, functions define their own scope for variables.\n",
    "\n",
    "In English, this means that regardless of what name we give an input variable (`x` in this example),\n",
    "the input will always be referred to as `numbers` *inside* the body of the `mean`\n",
    "function.\n",
    "\n",
    "It also means that although we called the output `answer` inside of the\n",
    "function `mean`, that this variable name was only valid inside of our\n",
    "function.\n",
    "\n"
   ]
  },
  {
   "cell_type": "markdown",
   "id": "eca8c25d",
   "metadata": {
    "slideshow": {
     "slide_type": "subslide"
    }
   },
   "source": [
    "To use the output of the function, we had to give it our own name (`the_mean`\n",
    "in this example).\n",
    "\n",
    "Another point to make here is that the intermediate variables we defined inside\n",
    "`mean` (`total` and `N`) are only defined inside of the `mean` function\n",
    "– we can’t access them from outside. We can verify this by trying to see what\n",
    "the value of `total` is:"
   ]
  },
  {
   "cell_type": "code",
   "execution_count": 6,
   "id": "cbfa9c91",
   "metadata": {
    "hide-output": false,
    "slideshow": {
     "slide_type": "subslide"
    }
   },
   "outputs": [
    {
     "ename": "NameError",
     "evalue": "name 'total' is not defined",
     "output_type": "error",
     "traceback": [
      "\u001b[0;31m---------------------------------------------------------------------------\u001b[0m",
      "\u001b[0;31mNameError\u001b[0m                                 Traceback (most recent call last)",
      "\u001b[0;32m<ipython-input-6-a13525c17821>\u001b[0m in \u001b[0;36m<module>\u001b[0;34m\u001b[0m\n\u001b[1;32m      6\u001b[0m \u001b[0;34m\u001b[0m\u001b[0m\n\u001b[1;32m      7\u001b[0m \u001b[0;31m# uncomment the line below and execute to see the error\u001b[0m\u001b[0;34m\u001b[0m\u001b[0;34m\u001b[0m\u001b[0;34m\u001b[0m\u001b[0m\n\u001b[0;32m----> 8\u001b[0;31m \u001b[0mtotal\u001b[0m\u001b[0;34m\u001b[0m\u001b[0;34m\u001b[0m\u001b[0m\n\u001b[0m",
      "\u001b[0;31mNameError\u001b[0m: name 'total' is not defined"
     ]
    }
   ],
   "source": [
    "def mean(numbers):\n",
    "    total = sum(numbers)\n",
    "    N = len(numbers)\n",
    "    answer = total / N\n",
    "    return answer # or directly return total / N\n",
    "\n",
    "# uncomment the line below and execute to see the error\n",
    "# total"
   ]
  },
  {
   "cell_type": "markdown",
   "id": "db1d8544",
   "metadata": {
    "slideshow": {
     "slide_type": "subslide"
    }
   },
   "source": [
    "This point can be taken even further:  the same name can be bound\n",
    "to variables inside of blocks of code and in the outer “scope”."
   ]
  },
  {
   "cell_type": "code",
   "execution_count": 7,
   "id": "f6c1eaec",
   "metadata": {
    "hide-output": false,
    "slideshow": {
     "slide_type": "subslide"
    }
   },
   "outputs": [
    {
     "name": "stdout",
     "output_type": "stream",
     "text": [
      "x = 4\n",
      "x = 5\n",
      "x = 4\n"
     ]
    }
   ],
   "source": [
    "x = 4\n",
    "print(f\"x = {x}\")\n",
    "def f():\n",
    "    x = 5 # a different \"x\"\n",
    "    print(f\"x = {x}\")\n",
    "f() # calls function\n",
    "print(f\"x = {x}\")"
   ]
  },
  {
   "cell_type": "markdown",
   "id": "0e05d8d7",
   "metadata": {
    "slideshow": {
     "slide_type": "subslide"
    }
   },
   "source": [
    "The final point we want to make about scope is that function inputs and output\n",
    "don’t have to be given a name outside the function."
   ]
  },
  {
   "cell_type": "code",
   "execution_count": 9,
   "id": "3864aed6",
   "metadata": {
    "hide-output": false,
    "slideshow": {
     "slide_type": "subslide"
    }
   },
   "outputs": [
    {
     "data": {
      "text/plain": [
       "20.0"
      ]
     },
     "execution_count": 9,
     "metadata": {},
     "output_type": "execute_result"
    }
   ],
   "source": [
    "mean([10, 20, 30])"
   ]
  },
  {
   "cell_type": "markdown",
   "id": "0a6032e6",
   "metadata": {
    "slideshow": {
     "slide_type": "subslide"
    }
   },
   "source": [
    "Notice that we didn’t name the input or the output, but the function was\n",
    "called successfully.\n",
    "\n",
    "Now, we’ll use our new knowledge to define a function which computes the output\n",
    "from a Cobb-Douglas production function with parameters $ z = 1 $ and\n",
    "$ \\alpha = 0.33 $ and takes inputs $ K $ and $ L $."
   ]
  },
  {
   "cell_type": "code",
   "execution_count": 10,
   "id": "5bb8530b",
   "metadata": {
    "hide-output": false,
    "slideshow": {
     "slide_type": "subslide"
    }
   },
   "outputs": [],
   "source": [
    "def cobb_douglas(K, L):\n",
    "\n",
    "    # Create alpha and z\n",
    "    z = 1\n",
    "    alpha = 0.33\n",
    "\n",
    "    return z * K**alpha * L**(1 - alpha)"
   ]
  },
  {
   "cell_type": "markdown",
   "id": "a773a9ab",
   "metadata": {
    "slideshow": {
     "slide_type": "subslide"
    }
   },
   "source": [
    "We can use this function as we did the mean function."
   ]
  },
  {
   "cell_type": "code",
   "execution_count": 11,
   "id": "9b332b1f",
   "metadata": {
    "hide-output": false,
    "slideshow": {
     "slide_type": "subslide"
    }
   },
   "outputs": [
    {
     "data": {
      "text/plain": [
       "0.6285066872609142"
      ]
     },
     "execution_count": 11,
     "metadata": {},
     "output_type": "execute_result"
    }
   ],
   "source": [
    "cobb_douglas(1.0, 0.5)"
   ]
  },
  {
   "cell_type": "markdown",
   "id": "d767b7fa",
   "metadata": {
    "slideshow": {
     "slide_type": "subslide"
    }
   },
   "source": [
    "### Re-using Functions\n",
    "\n",
    "Economists are often interested in this question: how much does output\n",
    "change if we modify our inputs?\n",
    "\n",
    "For example, take a production function $ Y_1 = F(K_1,L_1) $ which produces\n",
    "$ Y_1 $ units of the goods.\n",
    "\n"
   ]
  },
  {
   "cell_type": "markdown",
   "id": "0b2d8957",
   "metadata": {
    "slideshow": {
     "slide_type": "subslide"
    }
   },
   "source": [
    "If we then multiply the inputs each by $ \\gamma $, so that\n",
    "$ K_2 = \\gamma K_1 $ and $ L_2 = \\gamma L_1 $, then the output is\n",
    "\n",
    "$$\n",
    "Y_2 = F(K_2, L_2) = F(\\gamma K_1, \\gamma L_1)\n",
    "$$\n",
    "\n",
    "How does $ Y_1 $ compare to $ Y_2 $?\n",
    "\n",
    "Answering this question involves something called *returns to scale*.\n",
    "\n"
   ]
  },
  {
   "cell_type": "markdown",
   "id": "ef8c596a",
   "metadata": {
    "slideshow": {
     "slide_type": "subslide"
    }
   },
   "source": [
    "Returns to scale tells us whether our inputs are more or less productive as we\n",
    "have more of them.\n",
    "\n",
    "For example, imagine that you run a restaurant. How would you expect the amount\n",
    "of food you could produce would change if you could build an exact replica of\n",
    "your restaurant and kitchen and hire the same number of cooks and waiters? You\n",
    "would probably expect it to double.\n",
    "\n"
   ]
  },
  {
   "cell_type": "markdown",
   "id": "d8ec66d9",
   "metadata": {
    "slideshow": {
     "slide_type": "subslide"
    }
   },
   "source": [
    "If, for any $ K, L $, we multiply $ K, L $ by a value $ \\gamma $\n",
    "then\n",
    "\n",
    "- If $ \\frac{Y_2}{Y_1} < \\gamma $ then we say the production function has\n",
    "  decreasing returns to scale.  \n",
    "- If $ \\frac{Y_2}{Y_1} = \\gamma $ then we say the production function has\n",
    "  constant returns to scale.  \n",
    "- If $ \\frac{Y_2}{Y_1} > \\gamma $ then we say the production function has\n",
    "  increasing returns to scale.  \n",
    "\n",
    "\n",
    "Let’s try it and see what our function is!"
   ]
  },
  {
   "cell_type": "code",
   "execution_count": 12,
   "id": "3afcfb3d",
   "metadata": {
    "hide-output": false,
    "slideshow": {
     "slide_type": "subslide"
    }
   },
   "outputs": [
    {
     "name": "stdout",
     "output_type": "stream",
     "text": [
      "0.6285066872609142\n",
      "1.2570133745218284\n"
     ]
    }
   ],
   "source": [
    "y1 = cobb_douglas(1.0, 0.5)\n",
    "print(y1)\n",
    "y2 = cobb_douglas(2*1.0, 2*0.5)\n",
    "print(y2)"
   ]
  },
  {
   "cell_type": "markdown",
   "id": "957583ed",
   "metadata": {
    "slideshow": {
     "slide_type": "subslide"
    }
   },
   "source": [
    "How did $ Y_1 $ and $ Y_2 $ relate?"
   ]
  },
  {
   "cell_type": "code",
   "execution_count": 13,
   "id": "6306c42d",
   "metadata": {
    "hide-output": false,
    "slideshow": {
     "slide_type": "subslide"
    }
   },
   "outputs": [
    {
     "data": {
      "text/plain": [
       "2.0"
      ]
     },
     "execution_count": 13,
     "metadata": {},
     "output_type": "execute_result"
    }
   ],
   "source": [
    "y2 / y1"
   ]
  },
  {
   "cell_type": "markdown",
   "id": "f6132a1e",
   "metadata": {
    "slideshow": {
     "slide_type": "subslide"
    }
   },
   "source": [
    "$ Y_2 $ was exactly double $ Y_1 $!\n",
    "\n",
    "Let’s write a function that will compute the returns to scale for different\n",
    "values of $ K $ and $ L $.\n",
    "\n",
    "This is an example of how writing functions can allow us to re-use code\n",
    "in ways we might not originally anticipate. (You didn’t know we’d be\n",
    "writing a `returns_to_scale` function when we wrote `cobb_douglas`.)"
   ]
  },
  {
   "cell_type": "code",
   "execution_count": 14,
   "id": "af79a3c0",
   "metadata": {
    "hide-output": false,
    "slideshow": {
     "slide_type": "subslide"
    }
   },
   "outputs": [],
   "source": [
    "def returns_to_scale(K, L, gamma):\n",
    "    y1 = cobb_douglas(K, L)\n",
    "    y2 = cobb_douglas(gamma*K, gamma*L)\n",
    "    y_ratio = y2 / y1\n",
    "    return y_ratio / gamma"
   ]
  },
  {
   "cell_type": "code",
   "execution_count": 15,
   "id": "febe88a6",
   "metadata": {
    "hide-output": false,
    "slideshow": {
     "slide_type": "subslide"
    }
   },
   "outputs": [
    {
     "data": {
      "text/plain": [
       "1.0"
      ]
     },
     "execution_count": 15,
     "metadata": {},
     "output_type": "execute_result"
    }
   ],
   "source": [
    "returns_to_scale(1.0, 0.5, 2.0)"
   ]
  },
  {
   "cell_type": "markdown",
   "id": "8c939da9",
   "metadata": {
    "slideshow": {
     "slide_type": "subslide"
    }
   },
   "source": [
    "### Exercise\n",
    "\n",
    "See exercise 1 in the [exercise list](#ex2-4).\n",
    "\n",
    "It turns out that with a little bit of algebra, we can check that this will\n",
    "always hold for our [Cobb-Douglas example](#cobb-douglas-example) above.\n",
    "\n",
    "To show this, take an arbitrary $ K, L $ and multiply the inputs by an\n",
    "arbitrary $ \\gamma $.\n",
    "\n",
    "$$\n",
    "\\begin{aligned}\n",
    "    F(\\gamma K, \\gamma L) &= z (\\gamma K)^{\\alpha} (\\gamma L)^{1-\\alpha}\\\\\n",
    "    &=  z \\gamma^{\\alpha}\\gamma^{1-\\alpha} K^{\\alpha} L^{1-\\alpha}\\\\\n",
    "    &= \\gamma z K^{\\alpha} L^{1-\\alpha} = \\gamma F(K, L)\n",
    "\\end{aligned}\n",
    "$$\n",
    "\n"
   ]
  },
  {
   "cell_type": "markdown",
   "id": "9d06c63f",
   "metadata": {
    "slideshow": {
     "slide_type": "subslide"
    }
   },
   "source": [
    "For an example of a production function that is not CRS, look at a\n",
    "generalization of the Cobb-Douglas production function that has different\n",
    "“output elasticities” for the 2 inputs.\n",
    "\n",
    "$$\n",
    "Y = z K^{\\alpha_1} L^{\\alpha_2}\n",
    "$$\n",
    "\n",
    "Note that if $ \\alpha_2 = 1 - \\alpha_1 $, this is our Cobb-Douglas\n",
    "production function."
   ]
  },
  {
   "cell_type": "markdown",
   "id": "72850c8f",
   "metadata": {
    "slideshow": {
     "slide_type": "subslide"
    }
   },
   "source": [
    "### Exercise\n",
    "\n",
    "See exercise 2 in the [exercise list](#ex2-4).\n",
    "\n",
    "\n",
    "<a id='marginal-products'></a>"
   ]
  },
  {
   "cell_type": "markdown",
   "id": "1a021b35",
   "metadata": {
    "slideshow": {
     "slide_type": "subslide"
    }
   },
   "source": [
    "### Multiple Returns\n",
    "\n",
    "Another valuable element to analyze on production functions is how\n",
    "output changes as we change only one of the inputs. We will call this the\n",
    "marginal product.\n",
    "\n",
    "For example, compare the output using $ K, L $ units of inputs to that with\n",
    "an $ \\epsilon $ units of labor.\n",
    "\n"
   ]
  },
  {
   "cell_type": "markdown",
   "id": "78288bc2",
   "metadata": {
    "slideshow": {
     "slide_type": "subslide"
    }
   },
   "source": [
    "Then the marginal product of labor (MPL) is defined as\n",
    "\n",
    "$$\n",
    "\\frac{F(K, L + \\varepsilon) - F(K, L)}{\\varepsilon}\n",
    "$$\n",
    "\n",
    "This tells us how much additional output is created relative to the additional\n",
    "input. (Spoiler alert: This should look like the definition for a partial\n",
    "derivative!)\n",
    "\n"
   ]
  },
  {
   "cell_type": "markdown",
   "id": "89070190",
   "metadata": {
    "slideshow": {
     "slide_type": "subslide"
    }
   },
   "source": [
    "If the input can be divided into small units, then we can use calculus to take\n",
    "this limit, using the partial derivative of the production function relative to\n",
    "that input.\n",
    "\n",
    "In this case, we define the marginal product of labor (MPL) and marginal product\n",
    "of capital (MPK) as\n",
    "\n",
    "$$\n",
    "\\begin{aligned}\n",
    "MPL(K, L) &= \\frac{\\partial F(K, L)}{\\partial L}\\\\\n",
    "MPK(K, L) &= \\frac{\\partial F(K, L)}{\\partial K}\n",
    "\\end{aligned}\n",
    "$$\n",
    "\n"
   ]
  },
  {
   "cell_type": "markdown",
   "id": "d38ab2fa",
   "metadata": {
    "slideshow": {
     "slide_type": "subslide"
    }
   },
   "source": [
    "In the [Cobb-Douglas](#cobb-douglas-example) example above, this becomes\n",
    "\n",
    "$$\n",
    "\\begin{aligned}\n",
    "MPK(K, L) &= z  \\alpha \\left(\\frac{K}{L} \\right)^{\\alpha - 1}\\\\\n",
    "MPL(K, L) &= (1-\\alpha) z \\left(\\frac{K}{L} \\right)^{\\alpha}\\\\\n",
    "\\end{aligned}\n",
    "$$\n",
    "\n"
   ]
  },
  {
   "cell_type": "markdown",
   "id": "ba88662a",
   "metadata": {
    "slideshow": {
     "slide_type": "subslide"
    }
   },
   "source": [
    "Let’s test it out with Python! We’ll also see that we can actually return\n",
    "multiple things in a Python function.\n",
    "\n",
    "The syntax for a return statement with multiple items is return item1, item2, ….\n",
    "\n",
    "In this case, we’ll compute both the MPL and the MPK and then return both."
   ]
  },
  {
   "cell_type": "code",
   "execution_count": 16,
   "id": "ab98ea53",
   "metadata": {
    "hide-output": false,
    "slideshow": {
     "slide_type": "subslide"
    }
   },
   "outputs": [],
   "source": [
    "def marginal_products(K, L, epsilon):\n",
    "\n",
    "    mpl = (cobb_douglas(K, L + epsilon) - cobb_douglas(K, L)) / epsilon\n",
    "    mpk = (cobb_douglas(K + epsilon, L) - cobb_douglas(K, L)) / epsilon\n",
    "\n",
    "    return mpl, mpk"
   ]
  },
  {
   "cell_type": "code",
   "execution_count": 17,
   "id": "63917ba8",
   "metadata": {
    "hide-output": false,
    "slideshow": {
     "slide_type": "subslide"
    }
   },
   "outputs": [
    {
     "name": "stdout",
     "output_type": "stream",
     "text": [
      "(0.8421711708284096, 0.20740025904131265)\n"
     ]
    }
   ],
   "source": [
    "tup = marginal_products(1.0, 0.5,  1e-4)\n",
    "print(tup)"
   ]
  },
  {
   "cell_type": "markdown",
   "id": "782077d3",
   "metadata": {
    "slideshow": {
     "slide_type": "subslide"
    }
   },
   "source": [
    "Instead of using the tuple, these can be directly unpacked to variables."
   ]
  },
  {
   "cell_type": "code",
   "execution_count": 18,
   "id": "897341fa",
   "metadata": {
    "hide-output": false,
    "slideshow": {
     "slide_type": "subslide"
    }
   },
   "outputs": [
    {
     "name": "stdout",
     "output_type": "stream",
     "text": [
      "mpl = 0.8421711708284096, mpk = 0.20740025904131265\n"
     ]
    }
   ],
   "source": [
    "mpl, mpk = marginal_products(1.0, 0.5,  1e-4)\n",
    "print(f\"mpl = {mpl}, mpk = {mpk}\")"
   ]
  },
  {
   "cell_type": "markdown",
   "id": "ac67ed4a",
   "metadata": {
    "slideshow": {
     "slide_type": "subslide"
    }
   },
   "source": [
    "We can use this to calculate the marginal products for different `K`, fixing `L`\n",
    "using a comprehension."
   ]
  },
  {
   "cell_type": "code",
   "execution_count": 19,
   "id": "4731e8e4",
   "metadata": {
    "hide-output": false,
    "scrolled": true,
    "slideshow": {
     "slide_type": "subslide"
    }
   },
   "outputs": [
    {
     "data": {
      "text/plain": [
       "[(0.8421711708284096, 0.20740025904131265),\n",
       " (1.058620425367085, 0.13035463304111872),\n",
       " (1.2101811517950534, 0.09934539767386674)]"
      ]
     },
     "execution_count": 19,
     "metadata": {},
     "output_type": "execute_result"
    }
   ],
   "source": [
    "Ks = [1.0, 2.0, 3.0]\n",
    "[marginal_products(K, 0.5, 1e-4) for K in Ks] # create a tuple for each K"
   ]
  },
  {
   "cell_type": "code",
   "execution_count": 20,
   "id": "8c0bbd35",
   "metadata": {},
   "outputs": [],
   "source": [
    "cobb_douglas?"
   ]
  },
  {
   "cell_type": "markdown",
   "id": "d2f589a5",
   "metadata": {
    "slideshow": {
     "slide_type": "subslide"
    }
   },
   "source": [
    "### Documentation\n",
    "\n",
    "In a previous exercise, we asked you to find help for the `cobb_douglas` and\n",
    "`returns_to_scale` functions using `?`.\n",
    "\n",
    "It didn’t provide any useful information.\n",
    "\n",
    "To provide this type of help information, we need to\n",
    "add what Python programmers call a “docstring” to our functions.\n",
    "\n",
    "This is done by putting a string (not assigned to any variable name) as\n",
    "the first line of the *body* of the function (after the line with\n",
    "`def`).\n",
    "\n",
    "Below is a new version of the template we used to define functions."
   ]
  },
  {
   "cell_type": "code",
   "execution_count": null,
   "id": "99ac2e63",
   "metadata": {
    "hide-output": false,
    "slideshow": {
     "slide_type": "subslide"
    }
   },
   "outputs": [],
   "source": [
    "def function_name(inputs):\n",
    "    \"\"\"\n",
    "    Docstring\n",
    "    \"\"\"\n",
    "    # step 1\n",
    "    # step 2\n",
    "    # ...\n",
    "    return outputs"
   ]
  },
  {
   "cell_type": "markdown",
   "id": "f91836f5",
   "metadata": {
    "slideshow": {
     "slide_type": "subslide"
    }
   },
   "source": [
    "Let’s re-define our `cobb_douglas` function to include a docstring."
   ]
  },
  {
   "cell_type": "code",
   "execution_count": 21,
   "id": "bf45a214",
   "metadata": {
    "hide-output": false,
    "slideshow": {
     "slide_type": "subslide"
    }
   },
   "outputs": [],
   "source": [
    "def cobb_douglas(K, L):\n",
    "    \"\"\"\n",
    "    Computes the production F(K, L) for a Cobb-Douglas production function\n",
    "\n",
    "    Takes the form F(K, L) = z K^{\\alpha} L^{1 - \\alpha}\n",
    "\n",
    "    We restrict z = 1 and alpha = 0.33\n",
    "    \"\"\"\n",
    "    return 1.0 * K**(0.33) * L**(1.0 - 0.33)"
   ]
  },
  {
   "cell_type": "markdown",
   "id": "1e4ed1a0",
   "metadata": {
    "slideshow": {
     "slide_type": "subslide"
    }
   },
   "source": [
    "Now when we have Jupyter evaluate `cobb_douglas?`, our message is\n",
    "displayed (or use the Contextual Help window with Jupyterlab and `Ctrl-I` or `Cmd-I`)."
   ]
  },
  {
   "cell_type": "code",
   "execution_count": 22,
   "id": "e94c6a69",
   "metadata": {
    "hide-output": false,
    "slideshow": {
     "slide_type": "subslide"
    }
   },
   "outputs": [],
   "source": [
    "cobb_douglas?"
   ]
  },
  {
   "cell_type": "markdown",
   "id": "b15aa94a",
   "metadata": {
    "slideshow": {
     "slide_type": "subslide"
    }
   },
   "source": [
    "We recommend that you always include at least a very simple docstring for\n",
    "nontrivial functions.\n",
    "\n",
    "This is in the same spirit as adding comments to your code — it makes it easier\n",
    "for future readers/users (including yourself) to understand what the code does."
   ]
  },
  {
   "cell_type": "markdown",
   "id": "732ed67a",
   "metadata": {
    "slideshow": {
     "slide_type": "subslide"
    }
   },
   "source": [
    "### Exercise\n",
    "\n",
    "See exercise 3 in the [exercise list](#ex2-4)."
   ]
  },
  {
   "cell_type": "markdown",
   "id": "07067bd4",
   "metadata": {
    "slideshow": {
     "slide_type": "subslide"
    }
   },
   "source": [
    "### Default and Keyword Arguments\n",
    "\n",
    "Functions can have optional arguments.\n",
    "\n",
    "To accomplish this, we must these arguments a *default value* by saying\n",
    "`name=default_value` instead of just `name` as we list the arguments.\n",
    "\n",
    "To demonstrate this functionality, let’s now make $ z $ and $ \\alpha $\n",
    "arguments to our cobb_douglas function!"
   ]
  },
  {
   "cell_type": "code",
   "execution_count": 23,
   "id": "5db7b926",
   "metadata": {
    "hide-output": false,
    "slideshow": {
     "slide_type": "subslide"
    }
   },
   "outputs": [],
   "source": [
    "def cobb_douglas(K, L, alpha=0.33, z=1):\n",
    "    \"\"\"\n",
    "    Computes the production F(K, L) for a Cobb-Douglas production function\n",
    "\n",
    "    Takes the form F(K, L) = z K^{\\alpha} L^{1 - \\alpha}\n",
    "    \"\"\"\n",
    "    return z * K**(alpha) * L**(1.0 - alpha)"
   ]
  },
  {
   "cell_type": "markdown",
   "id": "e86592ce",
   "metadata": {
    "slideshow": {
     "slide_type": "subslide"
    }
   },
   "source": [
    "We can now call this function by passing in just K and L. Notice that it will\n",
    "produce same result as earlier because `alpha` and `z` are the same as earlier."
   ]
  },
  {
   "cell_type": "code",
   "execution_count": 24,
   "id": "413bb816",
   "metadata": {
    "hide-output": false,
    "slideshow": {
     "slide_type": "subslide"
    }
   },
   "outputs": [
    {
     "data": {
      "text/plain": [
       "0.6285066872609142"
      ]
     },
     "execution_count": 24,
     "metadata": {},
     "output_type": "execute_result"
    }
   ],
   "source": [
    "cobb_douglas(1.0, 0.5)"
   ]
  },
  {
   "cell_type": "markdown",
   "id": "9c44864d",
   "metadata": {
    "slideshow": {
     "slide_type": "subslide"
    }
   },
   "source": [
    "However, we can also set the other arguments of the function by passing\n",
    "more than just K/L."
   ]
  },
  {
   "cell_type": "code",
   "execution_count": 25,
   "id": "b89c292f",
   "metadata": {
    "hide-output": false,
    "slideshow": {
     "slide_type": "subslide"
    }
   },
   "outputs": [
    {
     "data": {
      "text/plain": [
       "1.0196485018554098"
      ]
     },
     "execution_count": 25,
     "metadata": {},
     "output_type": "execute_result"
    }
   ],
   "source": [
    "cobb_douglas(1.0, 0.5, 0.35, 1.6)"
   ]
  },
  {
   "cell_type": "markdown",
   "id": "332abd57",
   "metadata": {
    "slideshow": {
     "slide_type": "subslide"
    }
   },
   "source": [
    "In the example above, we used `alpha = 0.35`, `z = 1.6`.\n",
    "\n",
    "We can also refer to function arguments by their name, instead of only their\n",
    "position (order).\n",
    "\n",
    "To do this, we would write `func_name(arg=value)` for as many of the arguments\n",
    "as we want.\n",
    "\n",
    "Here’s how to do that with our `cobb_douglas` example."
   ]
  },
  {
   "cell_type": "code",
   "execution_count": 29,
   "id": "cf54b099",
   "metadata": {
    "hide-output": false,
    "slideshow": {
     "slide_type": "subslide"
    }
   },
   "outputs": [
    {
     "data": {
      "text/plain": [
       "0.9427600308913713"
      ]
     },
     "execution_count": 29,
     "metadata": {},
     "output_type": "execute_result"
    }
   ],
   "source": [
    "cobb_douglas(1.0, 0.5, z = 1.5)"
   ]
  },
  {
   "cell_type": "markdown",
   "id": "37b119a0",
   "metadata": {
    "slideshow": {
     "slide_type": "subslide"
    }
   },
   "source": [
    "### Exercise\n",
    "\n",
    "See exercise 4 in the [exercise list](#ex2-4).\n",
    "\n",
    "In terms of variable scope, the `z` name within the function is\n",
    "different from any other `z` in the outer scope.\n",
    "\n",
    "To be clear,"
   ]
  },
  {
   "cell_type": "code",
   "execution_count": 30,
   "id": "3d4080e3",
   "metadata": {
    "hide-output": false,
    "slideshow": {
     "slide_type": "subslide"
    }
   },
   "outputs": [
    {
     "data": {
      "text/plain": [
       "5"
      ]
     },
     "execution_count": 30,
     "metadata": {},
     "output_type": "execute_result"
    }
   ],
   "source": [
    "x = 5\n",
    "def f(x):\n",
    "    return x\n",
    "f(x) # \"coincidence\" that it has the same name"
   ]
  },
  {
   "cell_type": "markdown",
   "id": "a6100168",
   "metadata": {
    "slideshow": {
     "slide_type": "subslide"
    }
   },
   "source": [
    "This is also true with named function arguments, above."
   ]
  },
  {
   "cell_type": "code",
   "execution_count": 31,
   "id": "2c4892f0",
   "metadata": {
    "hide-output": false,
    "slideshow": {
     "slide_type": "subslide"
    }
   },
   "outputs": [
    {
     "data": {
      "text/plain": [
       "0.9427600308913713"
      ]
     },
     "execution_count": 31,
     "metadata": {},
     "output_type": "execute_result"
    }
   ],
   "source": [
    "z = 1.5\n",
    "cobb_douglas(1.0, 0.5, z = z) # no problem!"
   ]
  },
  {
   "cell_type": "markdown",
   "id": "03c3780e",
   "metadata": {
    "slideshow": {
     "slide_type": "subslide"
    }
   },
   "source": [
    "In that example, the `z` on the left hand side of `z = z` refers\n",
    "to the local variable name in the function whereas the `z` on the\n",
    "right hand side refers to the `z` in the outer scope."
   ]
  },
  {
   "cell_type": "markdown",
   "id": "fa6e5298",
   "metadata": {
    "slideshow": {
     "slide_type": "subslide"
    }
   },
   "source": [
    "### Aside: Methods\n",
    "\n",
    "As we learned earlier, all variables in Python have a type associated\n",
    "with them.\n",
    "\n",
    "Different types of variables have different functions or operations\n",
    "defined for them.\n",
    "\n",
    "For example, I can divide one number by another or make a string uppercase.\n",
    "\n",
    "It wouldn’t make sense to divide one string by another or make a number\n",
    "uppercase.\n",
    "\n"
   ]
  },
  {
   "cell_type": "markdown",
   "id": "2ef7d303",
   "metadata": {
    "slideshow": {
     "slide_type": "subslide"
    }
   },
   "source": [
    "When certain functionality is closely tied to the type of an object, it\n",
    "is often implemented as a special kind of function known as a **method**.\n",
    "\n",
    "For now, you only need to know two things about methods:\n",
    "\n",
    "1. We call them by doing `variable.method_name(other_arguments)`\n",
    "  instead of `function_name(variable, other_arguments)`.  \n",
    "1. A method is a function, even though we call it using a different\n",
    "  notation.  \n",
    "\n",
    "\n"
   ]
  },
  {
   "cell_type": "markdown",
   "id": "82dc2115",
   "metadata": {
    "slideshow": {
     "slide_type": "fragment"
    }
   },
   "source": [
    "When we introduced the core data types, we saw many methods defined on\n",
    "these types.\n",
    "\n",
    "Let’s revisit them for the `str`, or string type.\n",
    "\n",
    "Notice that we call each of these functions using the `dot` syntax\n",
    "described above."
   ]
  },
  {
   "cell_type": "code",
   "execution_count": 32,
   "id": "0a32eeeb",
   "metadata": {
    "hide-output": false,
    "slideshow": {
     "slide_type": "subslide"
    }
   },
   "outputs": [],
   "source": [
    "s = \"This is my handy string!\""
   ]
  },
  {
   "cell_type": "code",
   "execution_count": 33,
   "id": "cd60fe18",
   "metadata": {
    "hide-output": false,
    "slideshow": {
     "slide_type": "subslide"
    }
   },
   "outputs": [
    {
     "data": {
      "text/plain": [
       "'THIS IS MY HANDY STRING!'"
      ]
     },
     "execution_count": 33,
     "metadata": {},
     "output_type": "execute_result"
    }
   ],
   "source": [
    "s.upper()"
   ]
  },
  {
   "cell_type": "code",
   "execution_count": 34,
   "id": "f3903381",
   "metadata": {
    "hide-output": false,
    "slideshow": {
     "slide_type": "subslide"
    }
   },
   "outputs": [
    {
     "data": {
      "text/plain": [
       "'This Is My Handy String!'"
      ]
     },
     "execution_count": 34,
     "metadata": {},
     "output_type": "execute_result"
    }
   ],
   "source": [
    "s.title()"
   ]
  },
  {
   "cell_type": "markdown",
   "id": "94a1a9cc",
   "metadata": {
    "slideshow": {
     "slide_type": "slide"
    }
   },
   "source": [
    "## More on Scope (Optional)\n",
    "\n",
    "Keep in mind that with mathematical functions, the arguments are just dummy names\n",
    "that can be interchanged.\n",
    "\n",
    "That is, the following are identical.\n",
    "\n",
    "$$\n",
    "\\begin{split}\n",
    "    f(K, L) &= z\\, K^{\\alpha} L^{1-\\alpha}\n",
    "    \\\\\n",
    "    f(K_2, L_2) &= z\\, K_2^{\\alpha} L_2^{1-\\alpha}\n",
    "\\end{split}\n",
    "$$\n",
    "\n",
    "The same concept applies to Python functions, where the arguments are just\n",
    "placeholder names, and our `cobb_douglas` function is identical to"
   ]
  },
  {
   "cell_type": "code",
   "execution_count": 35,
   "id": "e556839b",
   "metadata": {
    "hide-output": false,
    "slideshow": {
     "slide_type": "subslide"
    }
   },
   "outputs": [
    {
     "data": {
      "text/plain": [
       "0.6285066872609142"
      ]
     },
     "execution_count": 35,
     "metadata": {},
     "output_type": "execute_result"
    }
   ],
   "source": [
    "def cobb_douglas2(K2, L2): # changed dummy variable names\n",
    "\n",
    "    # Create alpha and z\n",
    "    z = 1\n",
    "    alpha = 0.33\n",
    "\n",
    "    return z * K2**alpha * L2**(1 - alpha)\n",
    "\n",
    "cobb_douglas2(1.0, 0.5)"
   ]
  },
  {
   "cell_type": "markdown",
   "id": "a7089c03",
   "metadata": {
    "slideshow": {
     "slide_type": "subslide"
    }
   },
   "source": [
    "This is an appealing feature of functions for avoiding coding errors: names of variables\n",
    "within the function are localized and won’t clash with those on the outside (with\n",
    "more examples in [scope](#scope)).\n",
    "\n",
    "Importantly, when Python looks for variables\n",
    "matching a particular name, it begins in the most local scope.\n",
    "\n",
    "That is, note that having an `alpha` in the outer scope does not impact the local one."
   ]
  },
  {
   "cell_type": "code",
   "execution_count": 36,
   "id": "4b75b822",
   "metadata": {
    "hide-output": false,
    "slideshow": {
     "slide_type": "subslide"
    }
   },
   "outputs": [
    {
     "name": "stdout",
     "output_type": "stream",
     "text": [
      "0.5743491774985174\n",
      "Setting alpha, does the result change?\n",
      "0.5743491774985174\n"
     ]
    }
   ],
   "source": [
    "def cobb_douglas3(K, L, alpha): # added new argument\n",
    "\n",
    "    # Create alpha and z\n",
    "    z = 1\n",
    "\n",
    "    return z * K**alpha * L**(1 - alpha) # sees local argument alpha\n",
    "\n",
    "print(cobb_douglas3(1.0, 0.5, 0.2))\n",
    "print(\"Setting alpha, does the result change?\")\n",
    "alpha = 0.5 # in the outer scope\n",
    "print(cobb_douglas3(1.0, 0.5, 0.2))"
   ]
  },
  {
   "cell_type": "markdown",
   "id": "8c90ab65",
   "metadata": {
    "slideshow": {
     "slide_type": "subslide"
    }
   },
   "source": [
    "A crucial element of the above function is that the `alpha` variable\n",
    "was available in the local scope of the function.\n",
    "\n",
    "Consider the alternative where it is not. We have removed the `alpha`\n",
    "function parameter as well as the local definition of `alpha`."
   ]
  },
  {
   "cell_type": "code",
   "execution_count": 37,
   "id": "b358e21b",
   "metadata": {
    "hide-output": false,
    "slideshow": {
     "slide_type": "subslide"
    }
   },
   "outputs": [
    {
     "name": "stdout",
     "output_type": "stream",
     "text": [
      "alpha = 0.2 gives 0.5743491774985174\n",
      "alpha = 0.3 gives 0.6155722066724582\n"
     ]
    }
   ],
   "source": [
    "def cobb_douglas4(K, L): # added new argument\n",
    "\n",
    "    # Create alpha and z\n",
    "    z = 1\n",
    "\n",
    "    # there are no local alpha in scope!\n",
    "    return z * K**alpha * L**(1 - alpha)\n",
    "\n",
    "alpha = 0.2 # in the outer scope\n",
    "print(f\"alpha = {alpha} gives {cobb_douglas4(1.0, 0.5)}\")\n",
    "alpha = 0.3\n",
    "print(f\"alpha = {alpha} gives {cobb_douglas4(1.0, 0.5)}\")"
   ]
  },
  {
   "cell_type": "markdown",
   "id": "22bf49af",
   "metadata": {
    "slideshow": {
     "slide_type": "subslide"
    }
   },
   "source": [
    "The intuition of scoping does not apply only for the “global” vs. “function”\n",
    "naming of variables, but also for nesting.\n",
    "\n",
    "For example, we can define a version of `cobb_douglas` which\n",
    "is also missing a `z` in its inner-most scope, then put the function\n",
    "inside of another function."
   ]
  },
  {
   "cell_type": "code",
   "execution_count": 38,
   "id": "b5b40191",
   "metadata": {
    "hide-output": false,
    "slideshow": {
     "slide_type": "subslide"
    }
   },
   "outputs": [
    {
     "data": {
      "text/plain": [
       "[0.5743491774985174, 0.6155722066724582, 0.7071067811865476]"
      ]
     },
     "execution_count": 38,
     "metadata": {},
     "output_type": "execute_result"
    }
   ],
   "source": [
    "z = 1\n",
    "def output_given_alpha(alpha):\n",
    "    # Scoping logic:\n",
    "    # 1. local function name doesn't clash with global one\n",
    "    # 2. alpha comes from the function parameter\n",
    "    # 3. z comes from the outer global scope\n",
    "    def cobb_douglas(K, L):\n",
    "        return z * K**alpha * L**(1 - alpha)\n",
    "\n",
    "    # using this function\n",
    "    return cobb_douglas(1.0, 0.5)\n",
    "\n",
    "alpha = 100 # ignored\n",
    "alphas = [0.2, 0.3, 0.5]\n",
    "# comprehension variables also have local scope\n",
    "# and don't clash with the alpha = 100\n",
    "[output_given_alpha(alpha) for alpha in alphas]"
   ]
  },
  {
   "cell_type": "markdown",
   "id": "5eb43caa",
   "metadata": {
    "slideshow": {
     "slide_type": "slide"
    }
   },
   "source": [
    "## Exercises"
   ]
  },
  {
   "cell_type": "markdown",
   "id": "189ab7ec",
   "metadata": {
    "slideshow": {
     "slide_type": "skip"
    }
   },
   "source": [
    "### Exercise 1\n",
    "\n",
    "What happens if we try different inputs in our Cobb-Douglas production\n",
    "function?"
   ]
  },
  {
   "cell_type": "code",
   "execution_count": null,
   "id": "de988a23",
   "metadata": {
    "hide-output": false,
    "slideshow": {
     "slide_type": "skip"
    }
   },
   "outputs": [],
   "source": [
    "# Compute returns to scale with different values of `K` and `L` and `gamma`"
   ]
  },
  {
   "cell_type": "markdown",
   "id": "a415f6ec",
   "metadata": {
    "slideshow": {
     "slide_type": "skip"
    }
   },
   "source": [
    "([back to text](#dir2-4-1))"
   ]
  },
  {
   "cell_type": "markdown",
   "id": "80d9712e",
   "metadata": {
    "slideshow": {
     "slide_type": "skip"
    }
   },
   "source": [
    "### Exercise 2\n",
    "\n",
    "Define a function named `var` that takes a list (call it `x`) and\n",
    "computes the variance. This function should use the mean function that we\n",
    "defined earlier.\n",
    "\n",
    "$ \\text{variance} = \\frac{1}{N-1} \\sum_i (x_i - \\text{mean}(x))^2 $"
   ]
  },
  {
   "cell_type": "code",
   "execution_count": null,
   "id": "7744d879",
   "metadata": {
    "hide-output": false,
    "slideshow": {
     "slide_type": "skip"
    }
   },
   "outputs": [],
   "source": [
    "# Your code here."
   ]
  },
  {
   "cell_type": "markdown",
   "id": "79f71043",
   "metadata": {
    "slideshow": {
     "slide_type": "skip"
    }
   },
   "source": [
    "([back to text](#dir2-4-2))"
   ]
  },
  {
   "cell_type": "markdown",
   "id": "70f03293",
   "metadata": {
    "slideshow": {
     "slide_type": "skip"
    }
   },
   "source": [
    "### Exercise 3\n",
    "\n",
    "Redefine the `returns_to_scale` function and add a docstring.\n",
    "\n",
    "Confirm that it works by running the cell containing `returns_to_scale?` below.\n",
    "\n",
    "*Note*: You do not need to change the actual code in the function — just\n",
    "copy/paste and add a docstring in the correct line."
   ]
  },
  {
   "cell_type": "code",
   "execution_count": null,
   "id": "2d7efc47",
   "metadata": {
    "hide-output": false,
    "slideshow": {
     "slide_type": "skip"
    }
   },
   "outputs": [],
   "source": [
    "# re-define the `returns_to_scale` function here"
   ]
  },
  {
   "cell_type": "code",
   "execution_count": null,
   "id": "23dbffe0",
   "metadata": {
    "hide-output": false,
    "slideshow": {
     "slide_type": "skip"
    }
   },
   "outputs": [],
   "source": [
    "# test it here\n",
    "\n",
    "returns_to_scale?"
   ]
  },
  {
   "cell_type": "markdown",
   "id": "0772a3d9",
   "metadata": {
    "slideshow": {
     "slide_type": "skip"
    }
   },
   "source": [
    "([back to text](#dir2-4-3))"
   ]
  },
  {
   "cell_type": "markdown",
   "id": "e09cead5",
   "metadata": {
    "slideshow": {
     "slide_type": "skip"
    }
   },
   "source": [
    "### Exercise 4\n",
    "\n",
    "Experiment with the `sep` and `end` arguments to the `print` function.\n",
    "\n",
    "These can *only* be set by name."
   ]
  },
  {
   "cell_type": "code",
   "execution_count": null,
   "id": "a12b74e2",
   "metadata": {
    "hide-output": false,
    "slideshow": {
     "slide_type": "skip"
    }
   },
   "outputs": [],
   "source": [
    "# Your code here."
   ]
  },
  {
   "cell_type": "markdown",
   "id": "85ac38db",
   "metadata": {
    "slideshow": {
     "slide_type": "skip"
    }
   },
   "source": [
    "([back to text](#dir2-4-4))"
   ]
  }
 ],
 "metadata": {
  "celltoolbar": "Slideshow",
  "date": 1627429659.0406392,
  "filename": "functions.md",
  "kernelspec": {
   "display_name": "Python 3 (ipykernel)",
   "language": "python",
   "name": "python3"
  },
  "language_info": {
   "codemirror_mode": {
    "name": "ipython",
    "version": 3
   },
   "file_extension": ".py",
   "mimetype": "text/x-python",
   "name": "python",
   "nbconvert_exporter": "python",
   "pygments_lexer": "ipython3",
   "version": "3.9.7"
  },
  "latex_envs": {
   "LaTeX_envs_menu_present": true,
   "autoclose": false,
   "autocomplete": false,
   "bibliofile": "smolyak.bib",
   "cite_by": "apalike",
   "current_citInitial": 1,
   "eqLabelWithNumbers": true,
   "eqNumInitial": 1,
   "hotkeys": {
    "equation": "Ctrl-E",
    "itemize": "Ctrl-I"
   },
   "labels_anchors": false,
   "latex_user_defs": false,
   "report_style_numbering": true,
   "user_envs_cfg": true
  },
  "title": "Functions",
  "toc": {
   "base_numbering": 1,
   "nav_menu": {},
   "number_sections": true,
   "sideBar": false,
   "skip_h1_title": false,
   "title_cell": "Table of Contents",
   "title_sidebar": "Contents",
   "toc_cell": true,
   "toc_position": {
    "height": "48px",
    "left": "1735px",
    "top": "22px",
    "width": "160.042px"
   },
   "toc_section_display": false,
   "toc_window_display": true
  }
 },
 "nbformat": 4,
 "nbformat_minor": 5
}
