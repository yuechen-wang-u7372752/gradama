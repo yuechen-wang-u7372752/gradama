{
 "cells": [
  {
   "cell_type": "code",
   "execution_count": 18,
   "id": "8f37f98c",
   "metadata": {},
   "outputs": [],
   "source": [
    "import matplotlib.pyplot as plt"
   ]
  },
  {
   "cell_type": "markdown",
   "id": "02423637",
   "metadata": {
    "toc": true
   },
   "source": [
    "<h1>Table of Contents<span class=\"tocSkip\"></span></h1>\n",
    "<div class=\"toc\"><ul class=\"toc-item\"><li><span><a href=\"#Solow-Swan-Model\" data-toc-modified-id=\"Solow-Swan-Model-1\"><span class=\"toc-item-num\">1&nbsp;&nbsp;</span>Solow-Swan Model</a></span><ul class=\"toc-item\"><li><span><a href=\"#Model-equilibrium-description\" data-toc-modified-id=\"Model-equilibrium-description-1.1\"><span class=\"toc-item-num\">1.1&nbsp;&nbsp;</span>Model equilibrium description</a></span></li><li><span><a href=\"#Simulation-of-equilibrium-outcomes\" data-toc-modified-id=\"Simulation-of-equilibrium-outcomes-1.2\"><span class=\"toc-item-num\">1.2&nbsp;&nbsp;</span>Simulation of equilibrium outcomes</a></span></li></ul></li><li><span><a href=\"#More-exercises\" data-toc-modified-id=\"More-exercises-2\"><span class=\"toc-item-num\">2&nbsp;&nbsp;</span>More exercises</a></span></li></ul></div>"
   ]
  },
  {
   "cell_type": "markdown",
   "id": "bb7b5ba5",
   "metadata": {},
   "source": [
    "# Solow-Swan Model"
   ]
  },
  {
   "cell_type": "markdown",
   "id": "3c244c34",
   "metadata": {},
   "source": [
    "Time is assumed to be infinite but discrete: $t \\in \\{ 0, 1, 2, ... \\} \\equiv \\mathbb{N}$.\n",
    "\n",
    "The model assumes that people consume a constant fraction $0 < m < 1$ of their income flow $Y_{t}$ every period $t$:\n",
    "\n",
    "$$\n",
    "C_{t} = m Y_{t}.\n",
    "$$\n",
    "\n",
    "Income (or output) is generated from a production function $F$ that uses labor ($L_{t}$) and capital ($K_{t}$):\n",
    "\n",
    "$$\n",
    "Y_{t} = F(K_{t}, L_{t}) = AK_{t}^{\\alpha} L_{t}^{1-\\alpha},\n",
    "$$\n",
    "\n",
    "where $A > 0$ and $0 < \\alpha < 1$.\n",
    "\n",
    "Assume that capital is produced using this accumulation technology:\n",
    "\n",
    "$$\n",
    "      K_{t+1} = (1-\\delta)K_{t} + I_{t},\n",
    "$$\n",
    "where $0 < \\delta < 1$ and $I_{t}$ is new investment into capital goods.\n",
    "\n",
    "Labor supply:\n",
    "\n",
    "$$\n",
    "L_{t} = 1,\n",
    "$$\n",
    "\n",
    "where population size is 1.\n",
    "\n",
    "From national accounting identity:\n",
    "\n",
    "$$\n",
    "I_{t} = Y_{t} - C_{t}.\n",
    "$$"
   ]
  },
  {
   "cell_type": "markdown",
   "id": "eefa86f8",
   "metadata": {},
   "source": [
    "## Model equilibrium description"
   ]
  },
  {
   "cell_type": "markdown",
   "id": "66ae2bec",
   "metadata": {},
   "source": [
    "We can do a bit of algebra to simplify the system of five equations and five unknown variables above to one equation:"
   ]
  },
  {
   "cell_type": "markdown",
   "id": "0976750f",
   "metadata": {},
   "source": [
    "Rewrite consumption as:\n",
    "\n",
    "$$\n",
    "C_{t} = m AK_{t}^{\\alpha} L_{t}^{1-\\alpha} = m AK_{t}^{\\alpha}.\n",
    "$$"
   ]
  },
  {
   "cell_type": "markdown",
   "id": "98362743",
   "metadata": {},
   "source": [
    "Rewrite investment as \n",
    "\n",
    "$$\n",
    "I_{t} = (1-m)Y_{t} = (1-m)AK_{t}^{\\alpha}.\n",
    "$$"
   ]
  },
  {
   "cell_type": "markdown",
   "id": "c8923fcf",
   "metadata": {},
   "source": [
    "Using last equation, we have\n",
    "\n",
    "$$\n",
    "K_{t+1} = (1-\\delta)K_{t} + sAK_{t}^{\\alpha} \\equiv g(K_{t}),\n",
    "$$\n",
    "\n",
    "where $s = (1-m)$."
   ]
  },
  {
   "cell_type": "markdown",
   "id": "79e1a134",
   "metadata": {},
   "source": [
    "This describes a *dynamic equilibrium* of the model. It is a first-order difference equation in $K$."
   ]
  },
  {
   "cell_type": "markdown",
   "id": "c2c42a44",
   "metadata": {},
   "source": [
    "**Definition.** A *dynamic equilibrium* is a sequence of allocation outcomes $(K_{1}, K_{2},..., K_{t}, ...)$ that satisfies \n",
    "\n",
    "$$\n",
    "K_{t+1} = (1-\\delta)K_{t} + sAK_{t}^{\\alpha} \\equiv g(K_{t}),\n",
    "$$\n",
    "\n",
    "given an initial state $K_{0}$."
   ]
  },
  {
   "cell_type": "markdown",
   "id": "dfa698b1",
   "metadata": {},
   "source": [
    "## Simulation of equilibrium outcomes"
   ]
  },
  {
   "cell_type": "code",
   "execution_count": 6,
   "id": "17832ac9",
   "metadata": {},
   "outputs": [],
   "source": [
    "# Model parameters\n",
    "# =========================\n",
    "\n",
    "K0 = 0.1\n",
    "α = 0.33\n",
    "δ = 0.10\n",
    "A = 10.0\n",
    "s = 0.25\n",
    "L = 1.0"
   ]
  },
  {
   "cell_type": "code",
   "execution_count": 14,
   "id": "46385d39",
   "metadata": {},
   "outputs": [],
   "source": [
    "# Model primitive functions\n",
    "# =========================\n",
    "\n",
    "# Production function\n",
    "def F(K, L, A=1.0, α=0.33):\n",
    "    \"\"\"Cobb-Douglas production function\"\"\"\n",
    "    Y = A*(K**α)*(L**(1-α))\n",
    "    return Y\n",
    "\n",
    "# Equilibrium map/function g\n",
    "def g(K, L=1.0, A=1.0, α=0.33, δ=0.05, s=0.123):\n",
    "    K_next = (1-δ)*K + s*F(K, L, A=1.0, α=0.33)\n",
    "    return K_next"
   ]
  },
  {
   "cell_type": "code",
   "execution_count": 12,
   "id": "2d18d4c6",
   "metadata": {},
   "outputs": [
    {
     "data": {
      "text/plain": [
       "1.1431681486535354"
      ]
     },
     "execution_count": 12,
     "metadata": {},
     "output_type": "execute_result"
    }
   ],
   "source": [
    "# Example 1: Evaluate F at (K,L) default parameters\n",
    "F(1.5, 1)"
   ]
  },
  {
   "cell_type": "code",
   "execution_count": 13,
   "id": "46890b14",
   "metadata": {},
   "outputs": [
    {
     "data": {
      "text/plain": [
       "111.77487388973248"
      ]
     },
     "execution_count": 13,
     "metadata": {},
     "output_type": "execute_result"
    }
   ],
   "source": [
    "# Example 2: Evaluate F at (K,L) new parameters\n",
    "F(1.5, 1., A=101., α=0.25)"
   ]
  },
  {
   "cell_type": "code",
   "execution_count": 31,
   "id": "b4aa826a",
   "metadata": {
    "scrolled": false
   },
   "outputs": [],
   "source": [
    "# Simulating the equilibrium\n",
    "# ==========================================================\n",
    "\n",
    "# Length of time path to simulate\n",
    "T = 200\n",
    "\n",
    "# Initial condition K0\n",
    "K = K0\n",
    "\n",
    "# Storage (list) to save results each period\n",
    "K_path = []\n",
    "\n",
    "# Loop to recursively evaluate model equilibrium K --> g(K)\n",
    "for t in range(T):\n",
    "    # Record current observation K\n",
    "    K_path.append(K)\n",
    "    # Get next period observation\n",
    "    K_next = g(K)\n",
    "    #     print(t, K)\n",
    "    # Update initial K, repeat loop for next period\n",
    "    K = K_next"
   ]
  },
  {
   "cell_type": "code",
   "execution_count": 33,
   "id": "ba9e6625",
   "metadata": {},
   "outputs": [
    {
     "data": {
      "image/png": "[encoded data removed]",
      "text/plain": [
       "<Figure size 432x288 with 1 Axes>"
      ]
     },
     "metadata": {
      "needs_background": "light"
     },
     "output_type": "display_data"
    }
   ],
   "source": [
    "# Plot equilibrium time path of K\n",
    "# ==========================================================\n",
    "\n",
    "plt.figure()\n",
    "plt.plot(range(T), K_path, '--o')\n",
    "plt.xlabel(r\"Time, $t$\")\n",
    "plt.ylabel(r\"$K_{t}$\")\n",
    "plt.title(\"Equilibrium time path of model\")\n",
    "plt.show()"
   ]
  },
  {
   "cell_type": "markdown",
   "id": "2f82cbc7",
   "metadata": {},
   "source": [
    "# More exercises"
   ]
  },
  {
   "cell_type": "markdown",
   "id": "6324e55f",
   "metadata": {},
   "source": [
    "**Exercise 1.** Given the equilibrium simulation above, do the following:\n",
    "    \n",
    "1. Define functions for consumption and investment.\n",
    "\n",
    "2. Now plot the time path of consumption, investment and output/income.\n",
    "\n"
   ]
  },
  {
   "cell_type": "code",
   "execution_count": 34,
   "id": "2860dbf1",
   "metadata": {},
   "outputs": [],
   "source": [
    "# Your code here\n"
   ]
  },
  {
   "cell_type": "markdown",
   "id": "ca1382d6",
   "metadata": {},
   "source": [
    "*Your comment/discussion here*\n",
    "\n",
    "\n",
    "\n",
    "\n",
    "\n"
   ]
  },
  {
   "cell_type": "markdown",
   "id": "f6adcf67",
   "metadata": {},
   "source": [
    "**Exercise 2.** Given the equilibrium simulation above, do the following:\n",
    "    \n",
    "1. Plot the function $g$ in a diagram with $K_{t}$ and $K_{t+1}$ on the horizontal and vertical axes, respectively.\n",
    "\n",
    "2. Now plot (or superimpose) the time path of $K$ you had earlier onto this graph.\n",
    "\n",
    "Comment on what you see and what you can learn about the behavior of the model, in this example."
   ]
  },
  {
   "cell_type": "code",
   "execution_count": 34,
   "id": "a4ba7814",
   "metadata": {},
   "outputs": [],
   "source": [
    "# Your code here\n"
   ]
  },
  {
   "cell_type": "markdown",
   "id": "b38989d8",
   "metadata": {},
   "source": [
    "*Your comment/discussion here*\n",
    "\n",
    "\n",
    "\n",
    "\n",
    "\n"
   ]
  }
 ],
 "metadata": {
  "kernelspec": {
   "display_name": "Python 3 (ipykernel)",
   "language": "python",
   "name": "python3"
  },
  "language_info": {
   "codemirror_mode": {
    "name": "ipython",
    "version": 3
   },
   "file_extension": ".py",
   "mimetype": "text/x-python",
   "name": "python",
   "nbconvert_exporter": "python",
   "pygments_lexer": "ipython3",
   "version": "3.9.7"
  },
  "latex_envs": {
   "LaTeX_envs_menu_present": true,
   "autoclose": false,
   "autocomplete": true,
   "bibliofile": "biblio.bib",
   "cite_by": "apalike",
   "current_citInitial": 1,
   "eqLabelWithNumbers": true,
   "eqNumInitial": 1,
   "hotkeys": {
    "equation": "Ctrl-E",
    "itemize": "Ctrl-I"
   },
   "labels_anchors": false,
   "latex_user_defs": false,
   "report_style_numbering": false,
   "user_envs_cfg": false
  },
  "toc": {
   "base_numbering": 1,
   "nav_menu": {},
   "number_sections": true,
   "sideBar": true,
   "skip_h1_title": false,
   "title_cell": "Table of Contents",
   "title_sidebar": "Contents",
   "toc_cell": true,
   "toc_position": {},
   "toc_section_display": true,
   "toc_window_display": true
  }
 },
 "nbformat": 4,
 "nbformat_minor": 5
}
