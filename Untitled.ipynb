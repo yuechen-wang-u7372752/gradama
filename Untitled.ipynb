{
 "cells": [
  {
   "cell_type": "code",
   "execution_count": 7,
   "id": "401f2e84",
   "metadata": {},
   "outputs": [],
   "source": [
    "# Tell notebook to render MATPLOTLIB figures inline (inside Notebook)\n",
    "%matplotlib inline\n",
    "# Import numeric library\n",
    "import numpy as np\n",
    "# Import MATPLOTLIB plotting tools\n",
    "import matplotlib.pyplot as plt\n",
    "# Interactive widgets - works only on your machine (not on Azure cloud)\n",
    "from ipywidgets import interact, fixed"
   ]
  },
  {
   "cell_type": "code",
   "execution_count": 9,
   "id": "0f1a5d52",
   "metadata": {},
   "outputs": [],
   "source": [
    "def show_dynamics(dictionary, yss=None, n_columns=2):\n",
    "    \"\"\"Plot a collection of data arrays with labels already \n",
    "    defined in the dictionary keys\n",
    "    \n",
    "    Parameters\n",
    "    ----------\n",
    "    dictionary: dict\n",
    "        Contains \"key\" and \"item\" for each data array\n",
    "        \n",
    "    yss: array-like (default: None)\n",
    "        List of steady-state value from each corresponding \"item\"\n",
    "        \n",
    "    n_columns: int (default: 2)\n",
    "        Number of columns to plot figure panels\n",
    "    \"\"\"\n",
    "    # Auto set number of rows in subplots\n",
    "    n_rows = (len(dictionary) // n_columns) + (len(dictionary) % n_columns)\n",
    "    # Instantiate figure and axes objects\n",
    "    fig, axes = plt.subplots(n_rows,n_columns, \n",
    "                             figsize=(15, 6), \n",
    "                             facecolor='w', edgecolor='k')\n",
    "    # Adjust spacing between subplots\n",
    "    fig.subplots_adjust(hspace = 0.5, wspace=.25)\n",
    "    # Flatten out axes object for looping over below\n",
    "    axes = axes.ravel()  \n",
    "    # Loop over each data array \"y\" indexed by \"key\" and plot\n",
    "    if yss!= None:\n",
    "        # Convert dict values into Python list yss\n",
    "        yss = list(yss.values())\n",
    "        \n",
    "    for panel, (key, y) in enumerate(dictionary.items()): \n",
    "        # x-axis variable\n",
    "        # --------------------\n",
    "        x = np.arange(len(y))\n",
    "        \n",
    "        # y-axis variable(s)\n",
    "        # --------------------\n",
    "        # Steady state path\n",
    "        if yss != None:\n",
    "            ys = np.tile(yss[panel], len(y))\n",
    "            axes[panel].plot(x, ys, color=\"red\", lw=0.5, alpha=0.5)\n",
    "        # Dynamic path \n",
    "        axes[panel].plot(x, y, lw=2, marker='o')\n",
    "        axes[panel].set_title(key)\n",
    "        axes[panel].set_xlabel(\"Date, $t$\")\n",
    "    plt.show()"
   ]
  },
  {
   "cell_type": "code",
   "execution_count": 12,
   "id": "cdfb1a92",
   "metadata": {},
   "outputs": [],
   "source": [
    "def growth(x0, g = 0.02, T=200):\n",
    "    # Empty lists for storage\n",
    "    lgtech = []\n",
    "    tech = []\n",
    "    # Initial state - kickoff path\n",
    "    x = x0\n",
    "    # Tech growth generation\n",
    "    for t in range(T):\n",
    "        xnext = (1+g)*x\n",
    "        tech.append( x )\n",
    "        lgtech.append( np.log(x) )\n",
    "        x = xnext\n",
    "    # Store results in a Python dictionary\n",
    "    trajectory = {\n",
    "        \"x\":tech,\n",
    "        \"ln(x)\":lgtech\n",
    "    }\n",
    "    return trajectory"
   ]
  },
  {
   "cell_type": "code",
   "execution_count": 13,
   "id": "9e3b4be5",
   "metadata": {},
   "outputs": [],
   "source": [
    "x0 = 10\n",
    "xpath = growth(x0, g=0.02)"
   ]
  },
  {
   "cell_type": "code",
   "execution_count": 14,
   "id": "2f8e57cd",
   "metadata": {},
   "outputs": [
    {
     "data": {
      "image/png": "[encoded data removed]",
      "text/plain": [
       "<Figure size 1080x432 with 2 Axes>"
      ]
     },
     "metadata": {},
     "output_type": "display_data"
    }
   ],
   "source": [
    "show_dynamics(xpath)"
   ]
  },
  {
   "cell_type": "code",
   "execution_count": null,
   "id": "05e575bd",
   "metadata": {},
   "outputs": [],
   "source": []
  }
 ],
 "metadata": {
  "kernelspec": {
   "display_name": "Python 3 (ipykernel)",
   "language": "python",
   "name": "python3"
  },
  "language_info": {
   "codemirror_mode": {
    "name": "ipython",
    "version": 3
   },
   "file_extension": ".py",
   "mimetype": "text/x-python",
   "name": "python",
   "nbconvert_exporter": "python",
   "pygments_lexer": "ipython3",
   "version": "3.9.7"
  }
 },
 "nbformat": 4,
 "nbformat_minor": 5
}
