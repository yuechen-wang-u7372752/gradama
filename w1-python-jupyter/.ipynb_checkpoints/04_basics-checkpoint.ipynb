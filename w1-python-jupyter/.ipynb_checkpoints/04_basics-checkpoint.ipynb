{
 "cells": [
  {
   "cell_type": "markdown",
   "id": "24791368",
   "metadata": {
    "slideshow": {
     "slide_type": "skip"
    },
    "toc": true
   },
   "source": [
    "<h1>Table of Contents<span class=\"tocSkip\"></span></h1>\n",
    "<div class=\"toc\"><ul class=\"toc-item\"><li><span><a href=\"#First-Steps\" data-toc-modified-id=\"First-Steps-1\"><span class=\"toc-item-num\">1&nbsp;&nbsp;</span>First Steps</a></span><ul class=\"toc-item\"><li><span><a href=\"#Variable-Assignment\" data-toc-modified-id=\"Variable-Assignment-1.1\"><span class=\"toc-item-num\">1.1&nbsp;&nbsp;</span>Variable Assignment</a></span></li><li><span><a href=\"#Exercise\" data-toc-modified-id=\"Exercise-1.2\"><span class=\"toc-item-num\">1.2&nbsp;&nbsp;</span>Exercise</a></span></li><li><span><a href=\"#Code-Comments\" data-toc-modified-id=\"Code-Comments-1.3\"><span class=\"toc-item-num\">1.3&nbsp;&nbsp;</span>Code Comments</a></span></li></ul></li><li><span><a href=\"#Functions\" data-toc-modified-id=\"Functions-2\"><span class=\"toc-item-num\">2&nbsp;&nbsp;</span>Functions</a></span><ul class=\"toc-item\"><li><span><a href=\"#Getting-Help\" data-toc-modified-id=\"Getting-Help-2.1\"><span class=\"toc-item-num\">2.1&nbsp;&nbsp;</span>Getting Help</a></span></li><li><span><a href=\"#Exercise\" data-toc-modified-id=\"Exercise-2.2\"><span class=\"toc-item-num\">2.2&nbsp;&nbsp;</span>Exercise</a></span></li></ul></li><li><span><a href=\"#Objects-and-Types\" data-toc-modified-id=\"Objects-and-Types-3\"><span class=\"toc-item-num\">3&nbsp;&nbsp;</span>Objects and Types</a></span></li><li><span><a href=\"#Modules\" data-toc-modified-id=\"Modules-4\"><span class=\"toc-item-num\">4&nbsp;&nbsp;</span>Modules</a></span></li><li><span><a href=\"#Exercise\" data-toc-modified-id=\"Exercise-5\"><span class=\"toc-item-num\">5&nbsp;&nbsp;</span>Exercise</a></span><ul class=\"toc-item\"><li><span><a href=\"#Module-Aliases\" data-toc-modified-id=\"Module-Aliases-5.1\"><span class=\"toc-item-num\">5.1&nbsp;&nbsp;</span>Module Aliases</a></span></li><li><span><a href=\"#Exercise\" data-toc-modified-id=\"Exercise-5.2\"><span class=\"toc-item-num\">5.2&nbsp;&nbsp;</span>Exercise</a></span></li></ul></li><li><span><a href=\"#Good-Code-Habits\" data-toc-modified-id=\"Good-Code-Habits-6\"><span class=\"toc-item-num\">6&nbsp;&nbsp;</span>Good Code Habits</a></span></li><li><span><a href=\"#Numbers\" data-toc-modified-id=\"Numbers-7\"><span class=\"toc-item-num\">7&nbsp;&nbsp;</span>Numbers</a></span></li><li><span><a href=\"#Exercise\" data-toc-modified-id=\"Exercise-8\"><span class=\"toc-item-num\">8&nbsp;&nbsp;</span>Exercise</a></span><ul class=\"toc-item\"><li><span><a href=\"#Python-as-a-Calculator\" data-toc-modified-id=\"Python-as-a-Calculator-8.1\"><span class=\"toc-item-num\">8.1&nbsp;&nbsp;</span>Python as a Calculator</a></span></li><li><span><a href=\"#Exercise\" data-toc-modified-id=\"Exercise-8.2\"><span class=\"toc-item-num\">8.2&nbsp;&nbsp;</span>Exercise</a></span></li><li><span><a href=\"#Other-Math-Functions\" data-toc-modified-id=\"Other-Math-Functions-8.3\"><span class=\"toc-item-num\">8.3&nbsp;&nbsp;</span>Other Math Functions</a></span></li><li><span><a href=\"#Exercise\" data-toc-modified-id=\"Exercise-8.4\"><span class=\"toc-item-num\">8.4&nbsp;&nbsp;</span>Exercise</a></span><ul class=\"toc-item\"><li><span><a href=\"#Floor/Modulus-Division-Operators\" data-toc-modified-id=\"Floor/Modulus-Division-Operators-8.4.1\"><span class=\"toc-item-num\">8.4.1&nbsp;&nbsp;</span>Floor/Modulus Division Operators</a></span></li></ul></li></ul></li><li><span><a href=\"#Strings\" data-toc-modified-id=\"Strings-9\"><span class=\"toc-item-num\">9&nbsp;&nbsp;</span>Strings</a></span></li><li><span><a href=\"#Exercise\" data-toc-modified-id=\"Exercise-10\"><span class=\"toc-item-num\">10&nbsp;&nbsp;</span>Exercise</a></span><ul class=\"toc-item\"><li><span><a href=\"#String-Operations\" data-toc-modified-id=\"String-Operations-10.1\"><span class=\"toc-item-num\">10.1&nbsp;&nbsp;</span>String Operations</a></span></li><li><span><a href=\"#Exercise\" data-toc-modified-id=\"Exercise-10.2\"><span class=\"toc-item-num\">10.2&nbsp;&nbsp;</span>Exercise</a></span></li><li><span><a href=\"#String-Methods\" data-toc-modified-id=\"String-Methods-10.3\"><span class=\"toc-item-num\">10.3&nbsp;&nbsp;</span>String Methods</a></span></li><li><span><a href=\"#Exercise\" data-toc-modified-id=\"Exercise-10.4\"><span class=\"toc-item-num\">10.4&nbsp;&nbsp;</span>Exercise</a></span></li><li><span><a href=\"#Exercise\" data-toc-modified-id=\"Exercise-10.5\"><span class=\"toc-item-num\">10.5&nbsp;&nbsp;</span>Exercise</a></span></li><li><span><a href=\"#String-Formatting\" data-toc-modified-id=\"String-Formatting-10.6\"><span class=\"toc-item-num\">10.6&nbsp;&nbsp;</span>String Formatting</a></span></li><li><span><a href=\"#Exercise\" data-toc-modified-id=\"Exercise-10.7\"><span class=\"toc-item-num\">10.7&nbsp;&nbsp;</span>Exercise</a></span></li><li><span><a href=\"#Exercise\" data-toc-modified-id=\"Exercise-10.8\"><span class=\"toc-item-num\">10.8&nbsp;&nbsp;</span>Exercise</a></span></li><li><span><a href=\"#Exercise\" data-toc-modified-id=\"Exercise-10.9\"><span class=\"toc-item-num\">10.9&nbsp;&nbsp;</span>Exercise</a></span></li></ul></li><li><span><a href=\"#Booleans\" data-toc-modified-id=\"Booleans-11\"><span class=\"toc-item-num\">11&nbsp;&nbsp;</span>Booleans</a></span><ul class=\"toc-item\"><li><span><a href=\"#Comparison-Operators\" data-toc-modified-id=\"Comparison-Operators-11.1\"><span class=\"toc-item-num\">11.1&nbsp;&nbsp;</span>Comparison Operators</a></span></li><li><span><a href=\"#Negation\" data-toc-modified-id=\"Negation-11.2\"><span class=\"toc-item-num\">11.2&nbsp;&nbsp;</span>Negation</a></span></li><li><span><a href=\"#Multiple-Comparisons-(and/or)\" data-toc-modified-id=\"Multiple-Comparisons-(and/or)-11.3\"><span class=\"toc-item-num\">11.3&nbsp;&nbsp;</span>Multiple Comparisons (and/or)</a></span></li><li><span><a href=\"#Exercise\" data-toc-modified-id=\"Exercise-11.4\"><span class=\"toc-item-num\">11.4&nbsp;&nbsp;</span>Exercise</a></span></li><li><span><a href=\"#all-and-any\" data-toc-modified-id=\"all-and-any-11.5\"><span class=\"toc-item-num\">11.5&nbsp;&nbsp;</span><code>all</code> and <code>any</code></a></span></li><li><span><a href=\"#Exercise\" data-toc-modified-id=\"Exercise-11.6\"><span class=\"toc-item-num\">11.6&nbsp;&nbsp;</span>Exercise</a></span></li></ul></li><li><span><a href=\"#Exercises\" data-toc-modified-id=\"Exercises-12\"><span class=\"toc-item-num\">12&nbsp;&nbsp;</span>Exercises</a></span><ul class=\"toc-item\"><li><span><a href=\"#Exercise-1\" data-toc-modified-id=\"Exercise-1-12.1\"><span class=\"toc-item-num\">12.1&nbsp;&nbsp;</span>Exercise 1</a></span></li><li><span><a href=\"#Exercise-2\" data-toc-modified-id=\"Exercise-2-12.2\"><span class=\"toc-item-num\">12.2&nbsp;&nbsp;</span>Exercise 2</a></span></li><li><span><a href=\"#Exercise-3\" data-toc-modified-id=\"Exercise-3-12.3\"><span class=\"toc-item-num\">12.3&nbsp;&nbsp;</span>Exercise 3</a></span></li><li><span><a href=\"#Exercise-4\" data-toc-modified-id=\"Exercise-4-12.4\"><span class=\"toc-item-num\">12.4&nbsp;&nbsp;</span>Exercise 4</a></span></li><li><span><a href=\"#Exercise-5\" data-toc-modified-id=\"Exercise-5-12.5\"><span class=\"toc-item-num\">12.5&nbsp;&nbsp;</span>Exercise 5</a></span></li><li><span><a href=\"#Exercise-6\" data-toc-modified-id=\"Exercise-6-12.6\"><span class=\"toc-item-num\">12.6&nbsp;&nbsp;</span>Exercise 6</a></span></li><li><span><a href=\"#Exercise-7\" data-toc-modified-id=\"Exercise-7-12.7\"><span class=\"toc-item-num\">12.7&nbsp;&nbsp;</span>Exercise 7</a></span></li><li><span><a href=\"#Exercise-8\" data-toc-modified-id=\"Exercise-8-12.8\"><span class=\"toc-item-num\">12.8&nbsp;&nbsp;</span>Exercise 8</a></span></li><li><span><a href=\"#Exercise-9\" data-toc-modified-id=\"Exercise-9-12.9\"><span class=\"toc-item-num\">12.9&nbsp;&nbsp;</span>Exercise 9</a></span></li><li><span><a href=\"#Exercise-10\" data-toc-modified-id=\"Exercise-10-12.10\"><span class=\"toc-item-num\">12.10&nbsp;&nbsp;</span>Exercise 10</a></span></li><li><span><a href=\"#Exercise-11\" data-toc-modified-id=\"Exercise-11-12.11\"><span class=\"toc-item-num\">12.11&nbsp;&nbsp;</span>Exercise 11</a></span></li><li><span><a href=\"#Exercise-12\" data-toc-modified-id=\"Exercise-12-12.12\"><span class=\"toc-item-num\">12.12&nbsp;&nbsp;</span>Exercise 12</a></span></li><li><span><a href=\"#Exercise-13\" data-toc-modified-id=\"Exercise-13-12.13\"><span class=\"toc-item-num\">12.13&nbsp;&nbsp;</span>Exercise 13</a></span></li><li><span><a href=\"#Exercise-14\" data-toc-modified-id=\"Exercise-14-12.14\"><span class=\"toc-item-num\">12.14&nbsp;&nbsp;</span>Exercise 14</a></span></li><li><span><a href=\"#Exercise-15\" data-toc-modified-id=\"Exercise-15-12.15\"><span class=\"toc-item-num\">12.15&nbsp;&nbsp;</span>Exercise 15</a></span></li><li><span><a href=\"#Exercise-16\" data-toc-modified-id=\"Exercise-16-12.16\"><span class=\"toc-item-num\">12.16&nbsp;&nbsp;</span>Exercise 16</a></span></li></ul></li></ul></div>"
   ]
  },
  {
   "cell_type": "markdown",
   "id": "496f7c3a",
   "metadata": {
    "slideshow": {
     "slide_type": "slide"
    }
   },
   "source": [
    "# Basics\n",
    "\n",
    "**Prerequisites**\n",
    "\n",
    "- [Getting Started](https://datascience.quantecon.org/../introduction/getting_started.html)  \n",
    "\n",
    "Source: QuantEcon Datascience Lecture Series"
   ]
  },
  {
   "cell_type": "markdown",
   "id": "c59b4f4a",
   "metadata": {
    "slideshow": {
     "slide_type": "subslide"
    }
   },
   "source": [
    "**Outcomes**\n",
    "\n",
    "- Programming concepts  \n",
    "  - Understand variable assignment  \n",
    "  - Know what a function is and how to figure out what it does  \n",
    "  - Be able to use tab completion  \n",
    "  "
   ]
  },
  {
   "cell_type": "markdown",
   "id": "56037ba5",
   "metadata": {
    "slideshow": {
     "slide_type": "subslide"
    }
   },
   "source": [
    "- Numbers in Python  \n",
    "  - Understand how Python represents numbers  \n",
    "  - Know the distinction between `int` and `float`  \n",
    "  - Be familiar with various binary operators for numbers  \n",
    "  - Introduction to the `math` library  "
   ]
  },
  {
   "cell_type": "markdown",
   "id": "fdbc750d",
   "metadata": {
    "slideshow": {
     "slide_type": "subslide"
    }
   },
   "source": [
    "- Text (strings) in Python  \n",
    "  - Understand what a string is and when it is useful  \n",
    "  - Learn some of the methods associated with strings  \n",
    "  - Combining strings and output  \n",
    "- True and False (booleans) in Python  \n",
    "  - Understand what a boolean is  \n",
    "  - Become familiar with all binary operators that return booleans"
   ]
  },
  {
   "cell_type": "markdown",
   "id": "19169de5",
   "metadata": {
    "slideshow": {
     "slide_type": "slide"
    }
   },
   "source": [
    "## First Steps\n",
    "\n",
    "We are ready to begin writing code!\n",
    "\n",
    "In this section, we will teach you some basic concepts of programming\n",
    "and where to search for help."
   ]
  },
  {
   "cell_type": "markdown",
   "id": "1f7286a3",
   "metadata": {
    "slideshow": {
     "slide_type": "subslide"
    }
   },
   "source": [
    "### Variable Assignment\n",
    "\n",
    "The first thing we will learn is the idea of *variable assignment*.\n",
    "\n",
    "Variable assignment associates a value to a variable.\n",
    "\n",
    "Below, we assign the value “Hello World” to the variable `x`"
   ]
  },
  {
   "cell_type": "code",
   "execution_count": null,
   "id": "74b69819",
   "metadata": {
    "hide-output": false,
    "slideshow": {
     "slide_type": "subslide"
    }
   },
   "outputs": [],
   "source": [
    "x = \"Hello World\"\n",
    "print(x)"
   ]
  },
  {
   "cell_type": "markdown",
   "id": "2e172852",
   "metadata": {
    "slideshow": {
     "slide_type": "subslide"
    }
   },
   "source": [
    "Once we have assigned a value to a variable, Python will remember this\n",
    "variable as long as the *current* session of Python is still running.\n",
    "\n",
    "Notice how writing `x` into the prompt below outputs the value\n",
    "“Hello World”."
   ]
  },
  {
   "cell_type": "code",
   "execution_count": null,
   "id": "4df12630",
   "metadata": {
    "hide-output": false,
    "slideshow": {
     "slide_type": "subslide"
    }
   },
   "outputs": [],
   "source": [
    "x"
   ]
  },
  {
   "cell_type": "markdown",
   "id": "ef177db4",
   "metadata": {
    "slideshow": {
     "slide_type": "subslide"
    }
   },
   "source": [
    "However, Python returns an error if we ask it about variables that have not yet\n",
    "been created."
   ]
  },
  {
   "cell_type": "code",
   "execution_count": null,
   "id": "c30c81a4",
   "metadata": {
    "hide-output": false,
    "slideshow": {
     "slide_type": "subslide"
    }
   },
   "outputs": [],
   "source": [
    "# uncomment (delete the # and the space) the line below and run\n",
    "y"
   ]
  },
  {
   "cell_type": "markdown",
   "id": "1aad70a8",
   "metadata": {
    "slideshow": {
     "slide_type": "subslide"
    }
   },
   "source": [
    "It is also useful to understand the order in which operations happen.\n",
    "\n",
    "First, the right side of the equal sign is computed.\n",
    "\n",
    "Then, that computed value is stored as the variable to the left of the\n",
    "equal sign."
   ]
  },
  {
   "cell_type": "markdown",
   "id": "53b5f4e8",
   "metadata": {
    "slideshow": {
     "slide_type": "subslide"
    }
   },
   "source": [
    "### Exercise\n",
    "\n",
    "See exercise 1 in the [exercise list](#ex).\n",
    "\n",
    "Keep in mind that the variable binds a name to something stored in memory.\n",
    "\n",
    "The name can even be bound to a value of a completely different type."
   ]
  },
  {
   "cell_type": "code",
   "execution_count": null,
   "id": "00a3a7d8",
   "metadata": {
    "hide-output": false,
    "scrolled": true,
    "slideshow": {
     "slide_type": "subslide"
    }
   },
   "outputs": [],
   "source": [
    "x = 2\n",
    "print(x)\n",
    "x = \"something else\"\n",
    "print(x)"
   ]
  },
  {
   "cell_type": "markdown",
   "id": "ec48fbad",
   "metadata": {
    "slideshow": {
     "slide_type": "subslide"
    }
   },
   "source": [
    "### Code Comments\n",
    "\n",
    "Comments are short notes that you leave for yourself and for others who read your\n",
    "code.\n",
    "\n",
    "They should be used to explain what the code does.\n",
    "\n",
    "A comment is made with the `#`. Python ignores everything in a line that follows a `#`.\n",
    "\n",
    "Let’s practice making some comments."
   ]
  },
  {
   "cell_type": "code",
   "execution_count": null,
   "id": "b72368cd",
   "metadata": {
    "hide-output": false,
    "slideshow": {
     "slide_type": "subslide"
    }
   },
   "outputs": [],
   "source": [
    "i = 1  # Assign the value 1 to variable i\n",
    "j = 2  # Assign the value 2 to variable j\n",
    "\n",
    "# We add i and j below this line\n",
    "i + j"
   ]
  },
  {
   "cell_type": "markdown",
   "id": "bf7f7366",
   "metadata": {
    "slideshow": {
     "slide_type": "slide"
    }
   },
   "source": [
    "## Functions\n",
    "\n",
    "Functions are processes that take an input (or inputs) and produce an output.\n",
    "\n",
    "If we had a function called `f` that took two arguments `x` and\n",
    "`y`, we would write `f(x, y)` to use the function.\n",
    "\n",
    "For example, the function `print` simply prints whatever it is given.\n",
    "Recall the variable we created called `x`."
   ]
  },
  {
   "cell_type": "code",
   "execution_count": null,
   "id": "42a2fa4e",
   "metadata": {
    "hide-output": false,
    "slideshow": {
     "slide_type": "subslide"
    }
   },
   "outputs": [],
   "source": [
    "print(x)"
   ]
  },
  {
   "cell_type": "markdown",
   "id": "005dd365",
   "metadata": {
    "slideshow": {
     "slide_type": "subslide"
    }
   },
   "source": [
    "### Getting Help\n",
    "\n",
    "We can figure out what a function does by asking for help.\n",
    "\n",
    "In Jupyter notebooks, this is done by placing a `?` after the function\n",
    "name (without using parenthesis) and evaluating the cell."
   ]
  },
  {
   "cell_type": "markdown",
   "id": "5b83ec27",
   "metadata": {
    "slideshow": {
     "slide_type": "subslide"
    }
   },
   "source": [
    "For example, we can ask for help on the print function by writing\n",
    "`print?`.\n",
    "\n",
    "Depending on how you launched Jupyter, this will either launch\n",
    "\n",
    "- JupyterLab: display the help in text below the cell.  \n",
    "- Classic Jupyter Notebooks: display a new panel at the bottom of your\n",
    "  screen.  You can exit this panel by hitting the escape key or clicking the x at\n",
    "  the top right of the panel.  "
   ]
  },
  {
   "cell_type": "code",
   "execution_count": null,
   "id": "7ea41f33",
   "metadata": {
    "hide-output": false,
    "slideshow": {
     "slide_type": "subslide"
    }
   },
   "outputs": [],
   "source": [
    "#print? # remove the comment and <Shift-Enter>"
   ]
  },
  {
   "cell_type": "markdown",
   "id": "e5dc4ccf",
   "metadata": {
    "slideshow": {
     "slide_type": "subslide"
    }
   },
   "source": [
    "### Exercise\n",
    "\n",
    "See exercise 2 in the [exercise list](#ex).\n",
    "\n",
    "JupyterLab also has a “Contextual Help” (previously called “Inspector”) window.  To use,\n",
    "\n",
    "- Go to the Commands and choose Contextual Help (or Inspector), or select `<Ctrl-I>` (`<Cmd-I>` for OSX users).  \n",
    "- Drag the new inspector pain to dock in the screen next to your code.  \n",
    "- Then, type `print` or any other function\n",
    "  into a cell and see the help.  "
   ]
  },
  {
   "cell_type": "code",
   "execution_count": null,
   "id": "8b5e4816",
   "metadata": {
    "hide-output": false,
    "slideshow": {
     "slide_type": "subslide"
    }
   },
   "outputs": [],
   "source": [
    "#len? # remove the comment and <Shift-Enter>"
   ]
  },
  {
   "cell_type": "markdown",
   "id": "d14df9e1",
   "metadata": {
    "slideshow": {
     "slide_type": "subslide"
    }
   },
   "source": [
    "We will learn much more about functions, including how to write our own, in a\n",
    "future lecture."
   ]
  },
  {
   "cell_type": "markdown",
   "id": "cb24d3ce",
   "metadata": {
    "slideshow": {
     "slide_type": "slide"
    }
   },
   "source": [
    "## Objects and Types\n",
    "\n",
    "Everything in Python is an *object*.\n",
    "\n",
    "Objects are “things” that contain 1) data and 2) functions that can operate on\n",
    "the data."
   ]
  },
  {
   "cell_type": "markdown",
   "id": "96173403",
   "metadata": {
    "slideshow": {
     "slide_type": "subslide"
    }
   },
   "source": [
    "Sometimes we refer to the functions inside an object as *methods*.\n",
    "\n",
    "We can investigate what data is inside an object and which methods\n",
    "it supports by typing `.` after that particular variable, then\n",
    "hitting `TAB`.\n",
    "\n"
   ]
  },
  {
   "cell_type": "markdown",
   "id": "563cde47",
   "metadata": {
    "slideshow": {
     "slide_type": "subslide"
    }
   },
   "source": [
    "It should then list data and method names to the right of the\n",
    "variable name like this:\n",
    "\n",
    "![https://datascience.quantecon.org/_static/introspection.png](https://datascience.quantecon.org/_static/introspection.png)\n",
    "\n",
    "  \n"
   ]
  },
  {
   "cell_type": "markdown",
   "id": "15c9389b",
   "metadata": {
    "slideshow": {
     "slide_type": "subslide"
    }
   },
   "source": [
    "You can scroll through this list by using the up and down arrows.\n",
    "\n",
    "We often refer to this as “tab completion” or “introspection”.\n",
    "\n",
    "Let’s do this together below. Keep going down until you find the method\n",
    "`split`."
   ]
  },
  {
   "cell_type": "code",
   "execution_count": null,
   "id": "1e0e1f33",
   "metadata": {
    "hide-output": false,
    "slideshow": {
     "slide_type": "subslide"
    }
   },
   "outputs": [],
   "source": [
    "# Type a period after `x` and then press TAB.\n",
    "x = \"Hello World\""
   ]
  },
  {
   "cell_type": "markdown",
   "id": "d9de4c0c",
   "metadata": {
    "slideshow": {
     "slide_type": "subslide"
    }
   },
   "source": [
    "Once you have found the method `split`, you can use the method by adding\n",
    "parenthesis after it.\n",
    "\n",
    "Let’s call the `split` method, which doesn’t have any other required\n",
    "parameters. (Quiz: how would we check that?)"
   ]
  },
  {
   "cell_type": "code",
   "execution_count": null,
   "id": "059fdbad",
   "metadata": {
    "hide-output": false,
    "slideshow": {
     "slide_type": "subslide"
    }
   },
   "outputs": [],
   "source": [
    "x.split()"
   ]
  },
  {
   "cell_type": "markdown",
   "id": "50903904",
   "metadata": {
    "slideshow": {
     "slide_type": "subslide"
    }
   },
   "source": [
    "We often want to identify what kind of object some value is–\n",
    "called its “type”.\n",
    "\n",
    "A “type” is an abstraction which defines a set of behavior for any\n",
    "“instance” of that type i.e. `2.0` and `3.0` are instances\n",
    "of `float`, where `float` has a set of particular common behaviors."
   ]
  },
  {
   "cell_type": "markdown",
   "id": "4e1afd14",
   "metadata": {
    "slideshow": {
     "slide_type": "subslide"
    }
   },
   "source": [
    "In particular, the type determines:\n",
    "\n",
    "- the available data for any “instance” of the type (where each\n",
    "  instance may have different values of the data).  \n",
    "- the methods that can be applied on the object and its data.  \n",
    "\n",
    "\n",
    "We can figure this out by using the `type` function.\n",
    "\n",
    "The `type` function takes a single argument and outputs the type of\n",
    "that argument."
   ]
  },
  {
   "cell_type": "code",
   "execution_count": null,
   "id": "b384166a",
   "metadata": {
    "hide-output": false,
    "slideshow": {
     "slide_type": "subslide"
    }
   },
   "outputs": [],
   "source": [
    "type(3)"
   ]
  },
  {
   "cell_type": "code",
   "execution_count": null,
   "id": "43eff77e",
   "metadata": {
    "hide-output": false,
    "slideshow": {
     "slide_type": "subslide"
    }
   },
   "outputs": [],
   "source": [
    "type(\"Hello World\")"
   ]
  },
  {
   "cell_type": "code",
   "execution_count": null,
   "id": "e30bc88d",
   "metadata": {
    "hide-output": false,
    "slideshow": {
     "slide_type": "subslide"
    }
   },
   "outputs": [],
   "source": [
    "type([1, 2, 3])"
   ]
  },
  {
   "cell_type": "markdown",
   "id": "d2227174",
   "metadata": {
    "slideshow": {
     "slide_type": "subslide"
    }
   },
   "source": [
    "We will learn more about each of these types (and others!) and how to use them\n",
    "soon, so stay tuned!\n",
    "\n",
    "\n",
    "<a id='modules'></a>"
   ]
  },
  {
   "cell_type": "markdown",
   "id": "e386df8a",
   "metadata": {
    "slideshow": {
     "slide_type": "slide"
    }
   },
   "source": [
    "## Modules\n",
    "\n",
    "Python takes a modular approach to tools.\n",
    "\n",
    "By this we mean that sets of related tools are bundled together into *packages*.\n",
    "(You may also hear the term modules to describe the same thing.)\n",
    "\n",
    "\n",
    "\n"
   ]
  },
  {
   "cell_type": "markdown",
   "id": "ae53ba5c",
   "metadata": {
    "slideshow": {
     "slide_type": "subslide"
    }
   },
   "source": [
    "For example:\n",
    "\n",
    "- `pandas` is a package that implements the tools necessary to do\n",
    "  scalable data analysis.  \n",
    "- `matplotlib` is a package that implements visualization tools.  \n",
    "- `requests` and `urllib` are packages that allow Python to\n",
    "  interface with the internet.  \n",
    "\n",
    "\n",
    "As we move further into the class, being able to\n",
    "access these packages will become very important."
   ]
  },
  {
   "cell_type": "markdown",
   "id": "7f98b77c",
   "metadata": {
    "hide-output": false,
    "slideshow": {
     "slide_type": "subslide"
    }
   },
   "source": [
    "We can bring a package’s functionality into our current Python session\n",
    "by typing\n",
    "\n",
    "``import package``"
   ]
  },
  {
   "cell_type": "markdown",
   "id": "628df06e",
   "metadata": {
    "slideshow": {
     "slide_type": "subslide"
    }
   },
   "source": [
    "Once we have done this, any function or object from that package can\n",
    "be accessed by using `package.name`.\n",
    "\n",
    "Here’s an example."
   ]
  },
  {
   "cell_type": "code",
   "execution_count": null,
   "id": "95a1ac3a",
   "metadata": {
    "hide-output": false,
    "slideshow": {
     "slide_type": "subslide"
    }
   },
   "outputs": [],
   "source": [
    "import sys   # for dealing with your computer's system\n",
    "sys.version  # information about the Python version in use"
   ]
  },
  {
   "cell_type": "markdown",
   "id": "551e0dc3",
   "metadata": {
    "slideshow": {
     "slide_type": "slide"
    }
   },
   "source": [
    "## Exercise\n",
    "\n",
    "See exercise 3 in the [exercise list](#ex)."
   ]
  },
  {
   "cell_type": "markdown",
   "id": "2b60c4f8",
   "metadata": {
    "slideshow": {
     "slide_type": "subslide"
    }
   },
   "source": [
    "### Module Aliases\n",
    "\n",
    "Some packages have long names (see `matplotlib`, for example) which\n",
    "makes accessing the package functionality somewhat inconvenient.\n",
    "\n",
    "To ease this burden, Python allows us to give aliases or “nicknames” to packages.\n"
   ]
  },
  {
   "cell_type": "markdown",
   "id": "e31e6089",
   "metadata": {
    "hide-output": false,
    "slideshow": {
     "slide_type": "subslide"
    }
   },
   "source": [
    "For example we can write:\n",
    "\n",
    "``import package as p``"
   ]
  },
  {
   "cell_type": "markdown",
   "id": "f94700ff",
   "metadata": {
    "slideshow": {
     "slide_type": "subslide"
    }
   },
   "source": [
    "This statement allows us to access the packages functionality as\n",
    "`p.function_name` rather than `package.function_name`.\n",
    "\n",
    "Some common aliases for packages are\n",
    "\n",
    "- `import pandas as pd`  \n",
    "- `import numpy as np`  \n",
    "- `import matplotlib as mpl`  \n",
    "- `import datetime as dt`  "
   ]
  },
  {
   "cell_type": "markdown",
   "id": "1091c501",
   "metadata": {
    "slideshow": {
     "slide_type": "subslide"
    }
   },
   "source": [
    "While you *can* choose any name for an alias, we suggest that you stick\n",
    "to the common ones.\n",
    "\n",
    "You will learn what these common ones are over time."
   ]
  },
  {
   "cell_type": "markdown",
   "id": "c9dffe77",
   "metadata": {
    "slideshow": {
     "slide_type": "subslide"
    }
   },
   "source": [
    "### Exercise\n",
    "\n",
    "See exercise 4 in the [exercise list](#ex)."
   ]
  },
  {
   "cell_type": "markdown",
   "id": "45258088",
   "metadata": {
    "slideshow": {
     "slide_type": "slide"
    }
   },
   "source": [
    "## Good Code Habits\n",
    "\n",
    "A common saying in the software engineering world is:\n",
    "\n",
    "> Always code as if the guy who ends up maintaining your code will be\n",
    "a violent psychopath who knows where you live. Code for readability.\n",
    "\n",
    "\n",
    "Most important feature of your code\n",
    "after correctness ... \n",
    "\n",
    "is readability.\n",
    "\n"
   ]
  },
  {
   "cell_type": "markdown",
   "id": "2141627d",
   "metadata": {
    "slideshow": {
     "slide_type": "subslide"
    }
   },
   "source": [
    "We encourage you to do **everything** in your power to make your code as readable as possible.\n",
    "\n",
    "Here are some suggestions for how to do so:\n",
    "\n",
    "- Comment frequently. Leaving short notes not only will help others who\n",
    "  use your code, but will also help you interpret your code\n",
    "  after some time has passed.  \n",
    "- **Anytime** you use a comma, place a space immediately afterwards.  \n",
    "- Whitespace is your friend. Don’t write line after line of code – use\n",
    "  blank lines to break it up.  \n",
    "- Don’t let your lines run too long. Some people reading your code will\n",
    "  be on a laptop, so you want to ensure that they don’t need to scroll horizontally\n",
    "  and right to read your code. We recommend no more than 80 characters per line.  "
   ]
  },
  {
   "cell_type": "markdown",
   "id": "1b07e925",
   "metadata": {
    "slideshow": {
     "slide_type": "slide"
    }
   },
   "source": [
    "## Numbers\n",
    "\n",
    "Python has two types of numbers.\n",
    "\n",
    "1. Integer (`int`): These can only take the values of the integers\n",
    "  i.e. $ \\{\\dots, -2, -1, 0, 1, 2, \\dots\\} $  \n",
    "1. Floating Point Number (`float`): Think of these as any real number\n",
    "  such as $ 1.0 $, $ 3.1415 $, or $ -100.022358923223 $…  \n",
    "\n",
    "\n"
   ]
  },
  {
   "cell_type": "markdown",
   "id": "9976de9d",
   "metadata": {
    "slideshow": {
     "slide_type": "subslide"
    }
   },
   "source": [
    "The easiest way to differentiate these types of numbers is to find a decimal place\n",
    "after the number.\n",
    "\n",
    "A float will have a decimal place, but an integer will not.\n",
    "\n",
    "Below, we assign integers to the variables `xi` and `zi` and assign\n",
    "floating point numbers to the variables `xf` and `zf`."
   ]
  },
  {
   "cell_type": "code",
   "execution_count": null,
   "id": "882b5bc3",
   "metadata": {
    "hide-output": false,
    "slideshow": {
     "slide_type": "subslide"
    }
   },
   "outputs": [],
   "source": [
    "xi = 1\n",
    "xf = 1.0\n",
    "zi = 123\n",
    "zf = 1230.5  # Notice -- There are no commas!\n",
    "zf2 = 1_230.5  # If needed, we use `_` to separate numbers for readability"
   ]
  },
  {
   "cell_type": "markdown",
   "id": "91031325",
   "metadata": {
    "slideshow": {
     "slide_type": "slide"
    }
   },
   "source": [
    "## Exercise\n",
    "\n",
    "See exercise 5 in the [exercise list](#ex)."
   ]
  },
  {
   "cell_type": "markdown",
   "id": "0f12eb09",
   "metadata": {
    "slideshow": {
     "slide_type": "subslide"
    }
   },
   "source": [
    "### Python as a Calculator\n",
    "\n",
    "You can use Python to perform mathematical calculations."
   ]
  },
  {
   "cell_type": "code",
   "execution_count": null,
   "id": "5e738b31",
   "metadata": {
    "hide-output": false,
    "slideshow": {
     "slide_type": "subslide"
    }
   },
   "outputs": [],
   "source": [
    "a = 4\n",
    "b = 2\n",
    "\n",
    "print(\"a + b is\", a + b)\n",
    "print(\"a - b is\", a - b)\n",
    "print(\"a * b is\", a * b)\n",
    "print(\"a / b is\", a / b)\n",
    "print(\"a ** b is\", a**b)\n",
    "print(\"a ^ b is\", a^b)"
   ]
  },
  {
   "cell_type": "markdown",
   "id": "44adc6b5",
   "metadata": {
    "slideshow": {
     "slide_type": "subslide"
    }
   },
   "source": [
    "You likely could have guessed all except the last two.\n",
    "\n",
    "Python uses `**`, not `^`, for exponentiation (raising a number\n",
    "to a power)!\n",
    "\n",
    "Notice also that above `+`, `-` and `**` all returned an integer\n",
    "type, but `/` converted the result to a float.\n",
    "\n",
    "When possible, operations between integers return an integer type.\n",
    "\n",
    "All operations involving a float will result in a float."
   ]
  },
  {
   "cell_type": "code",
   "execution_count": null,
   "id": "051b0277",
   "metadata": {
    "hide-output": false,
    "slideshow": {
     "slide_type": "subslide"
    }
   },
   "outputs": [],
   "source": [
    "a = 4\n",
    "b = 2.0\n",
    "\n",
    "print(\"a + b is\", a + b)\n",
    "print(\"a - b is\", a - b)\n",
    "print(\"a * b is\", a * b)\n",
    "print(\"a / b is\", a / b)\n",
    "print(\"a ** b is\", a**b)"
   ]
  },
  {
   "cell_type": "markdown",
   "id": "06d164d7",
   "metadata": {
    "slideshow": {
     "slide_type": "subslide"
    }
   },
   "source": [
    "We can also chain together operations.\n",
    "\n",
    "When doing this, Python follows the standard [order of operations](https://en.wikipedia.org/wiki/Order_of_operations) — parenthesis, exponents,\n",
    "multiplication and division, followed by addition and subtraction.\n",
    "\n",
    "For example,"
   ]
  },
  {
   "cell_type": "code",
   "execution_count": null,
   "id": "d5fc2be8",
   "metadata": {
    "hide-output": false,
    "slideshow": {
     "slide_type": "subslide"
    }
   },
   "outputs": [],
   "source": [
    "x = 2.0\n",
    "y = 3.0\n",
    "z1 = x + y * x\n",
    "z2 = (x + y) * x"
   ]
  },
  {
   "cell_type": "markdown",
   "id": "84eedbe1",
   "metadata": {
    "slideshow": {
     "slide_type": "subslide"
    }
   },
   "source": [
    "What do you think `z1` is?\n",
    "\n",
    "How about `z2`?"
   ]
  },
  {
   "cell_type": "markdown",
   "id": "757e528d",
   "metadata": {
    "slideshow": {
     "slide_type": "subslide"
    }
   },
   "source": [
    "### Exercise\n",
    "\n",
    "See exercise 6 in the [exercise list](#ex)."
   ]
  },
  {
   "cell_type": "markdown",
   "id": "d33e36a2",
   "metadata": {
    "slideshow": {
     "slide_type": "subslide"
    }
   },
   "source": [
    "### Other Math Functions\n",
    "\n",
    "We often want to use other math functions on our numbers. Let’s try to\n",
    "calculate sin(2.5)."
   ]
  },
  {
   "cell_type": "code",
   "execution_count": null,
   "id": "981b58dd",
   "metadata": {
    "hide-output": false,
    "slideshow": {
     "slide_type": "subslide"
    }
   },
   "outputs": [],
   "source": [
    "# Aeeecham moment ...\n",
    "sin(2.5)"
   ]
  },
  {
   "cell_type": "markdown",
   "id": "af21fb8e",
   "metadata": {
    "slideshow": {
     "slide_type": "subslide"
    }
   },
   "source": [
    "As seen above, Python complains that `sin` isn’t defined.\n",
    "\n",
    "The problem here is that the `sin` function – as well as many other\n",
    "standard math functions – are contained in the `math` package.\n",
    "\n",
    "We must begin by importing the math package."
   ]
  },
  {
   "cell_type": "code",
   "execution_count": null,
   "id": "dfdad48e",
   "metadata": {
    "hide-output": false,
    "slideshow": {
     "slide_type": "subslide"
    }
   },
   "outputs": [],
   "source": [
    "import math"
   ]
  },
  {
   "cell_type": "markdown",
   "id": "ea549e76",
   "metadata": {
    "slideshow": {
     "slide_type": "subslide"
    }
   },
   "source": [
    "Now, we can use `math.[TAB]` to see what functions are available to us."
   ]
  },
  {
   "cell_type": "code",
   "execution_count": null,
   "id": "87275ffd",
   "metadata": {
    "hide-output": false,
    "slideshow": {
     "slide_type": "subslide"
    }
   },
   "outputs": [],
   "source": [
    "# uncomment, add a period (`.`) and pres TAB\n",
    "# math"
   ]
  },
  {
   "cell_type": "code",
   "execution_count": null,
   "id": "43514371",
   "metadata": {
    "hide-output": false,
    "slideshow": {
     "slide_type": "subslide"
    }
   },
   "outputs": [],
   "source": [
    "# found math.sin!\n",
    "math.sin(math.pi/2.0)"
   ]
  },
  {
   "cell_type": "markdown",
   "id": "dd693f9b",
   "metadata": {
    "slideshow": {
     "slide_type": "subslide"
    }
   },
   "source": [
    "### Exercise\n",
    "\n",
    "See exercise 7 in the [exercise list](#ex)."
   ]
  },
  {
   "cell_type": "markdown",
   "id": "e25cad61",
   "metadata": {
    "slideshow": {
     "slide_type": "subslide"
    }
   },
   "source": [
    "#### Floor/Modulus Division Operators\n",
    "\n",
    "You are less likely to run into the following operators, but understanding\n",
    "that they exist is useful.\n",
    "\n",
    "For two numbers assigned to the variables `x` and `y`,\n",
    "\n",
    "- Floor division: `x // y`  \n",
    "- Modulo division: `x % y`  "
   ]
  },
  {
   "cell_type": "markdown",
   "id": "4ac16aff",
   "metadata": {
    "slideshow": {
     "slide_type": "subslide"
    }
   },
   "source": [
    "Remember when you first learned how to do division and you were asked to talk about the quotient\n",
    "and the remainder?\n",
    "\n",
    "That’s what these operators correspond to ..."
   ]
  },
  {
   "cell_type": "markdown",
   "id": "e8e6b7db",
   "metadata": {
    "slideshow": {
     "slide_type": "subslide"
    }
   },
   "source": [
    "Floor division returns the number of times the divisor goes into the dividend (the quotient)\n",
    "and modulus division returns the remainder.\n",
    "\n",
    "An example would be 37 divided by 7:\n",
    "\n",
    "- Floor division would return 5 (7 * 5 = 35)  \n",
    "- Modulo division would return 2 (2 + 35 = 37)  \n",
    "\n",
    "\n",
    "Try it!"
   ]
  },
  {
   "cell_type": "code",
   "execution_count": null,
   "id": "54035a71",
   "metadata": {
    "hide-output": false,
    "slideshow": {
     "slide_type": "subslide"
    }
   },
   "outputs": [],
   "source": [
    "# Floor division\n",
    "37 // 7"
   ]
  },
  {
   "cell_type": "code",
   "execution_count": null,
   "id": "bc4b9924",
   "metadata": {
    "hide-output": false,
    "slideshow": {
     "slide_type": "subslide"
    }
   },
   "outputs": [],
   "source": [
    "# Modulo division\n",
    "37 % 7"
   ]
  },
  {
   "cell_type": "markdown",
   "id": "4b5287c8",
   "metadata": {
    "slideshow": {
     "slide_type": "slide"
    }
   },
   "source": [
    "## Strings\n",
    "\n",
    "Textual information is stored in a data type called a string.\n",
    "\n",
    "To denote that you would like something to be stored as a string, you place it\n",
    "inside of quotation marks.\n",
    "\n",
    "For example,"
   ]
  },
  {
   "cell_type": "code",
   "execution_count": null,
   "id": "56b4cc54",
   "metadata": {
    "hide-output": false,
    "slideshow": {
     "slide_type": "subslide"
    }
   },
   "outputs": [],
   "source": [
    "\"this is a string\"  # Notice the quotation marks\n",
    "'this is a string'  # Notice the quotation marks\n",
    "this is not a string  # No quotation marks"
   ]
  },
  {
   "cell_type": "markdown",
   "id": "bb150875",
   "metadata": {
    "slideshow": {
     "slide_type": "subslide"
    }
   },
   "source": [
    "You can use either `\"` or `'` to create a string. Just make sure\n",
    "that you start and end the string with the same one!\n",
    "\n",
    "Notice that if we ask Python to tell us the type of a string, it abbreviates\n",
    "its answer to `str`."
   ]
  },
  {
   "cell_type": "code",
   "execution_count": null,
   "id": "9b3a2c12",
   "metadata": {
    "hide-output": false,
    "slideshow": {
     "slide_type": "subslide"
    }
   },
   "outputs": [],
   "source": [
    "type(\"this is a string\")"
   ]
  },
  {
   "cell_type": "markdown",
   "id": "3aadea00",
   "metadata": {
    "slideshow": {
     "slide_type": "slide"
    }
   },
   "source": [
    "## Exercise\n",
    "\n",
    "See exercise 8 in the [exercise list](#ex)."
   ]
  },
  {
   "cell_type": "markdown",
   "id": "0c89420f",
   "metadata": {
    "slideshow": {
     "slide_type": "subslide"
    }
   },
   "source": [
    "### String Operations\n",
    "\n",
    "Some of the arithmetic operators we saw in the numbers lecture also work\n",
    "on strings:\n",
    "\n",
    "- Put two strings together: `x + y`.  \n",
    "- Repeat the string `x` a total of `n` times: `n * x` (or `x * n`).  "
   ]
  },
  {
   "cell_type": "code",
   "execution_count": null,
   "id": "1dffd196",
   "metadata": {
    "hide-output": false,
    "slideshow": {
     "slide_type": "subslide"
    }
   },
   "outputs": [],
   "source": [
    "x = \"Hello\"\n",
    "y = \"World\""
   ]
  },
  {
   "cell_type": "code",
   "execution_count": null,
   "id": "be32c56a",
   "metadata": {
    "hide-output": false,
    "slideshow": {
     "slide_type": "subslide"
    }
   },
   "outputs": [],
   "source": [
    "x + \" \" + y"
   ]
  },
  {
   "cell_type": "code",
   "execution_count": null,
   "id": "9f294102",
   "metadata": {
    "hide-output": false,
    "slideshow": {
     "slide_type": "subslide"
    }
   },
   "outputs": [],
   "source": [
    "3 * x"
   ]
  },
  {
   "cell_type": "markdown",
   "id": "9b8ed32d",
   "metadata": {
    "slideshow": {
     "slide_type": "subslide"
    }
   },
   "source": [
    "What happens if we try `*` with two strings, or `-` or `/`?\n",
    "\n",
    "The best way to find out is to try it!"
   ]
  },
  {
   "cell_type": "code",
   "execution_count": null,
   "id": "38683e50",
   "metadata": {
    "hide-output": false,
    "slideshow": {
     "slide_type": "subslide"
    }
   },
   "outputs": [],
   "source": [
    "a = \"1\"\n",
    "b = \"2\"\n",
    "a * b"
   ]
  },
  {
   "cell_type": "code",
   "execution_count": null,
   "id": "e77a38f2",
   "metadata": {
    "hide-output": false,
    "slideshow": {
     "slide_type": "subslide"
    }
   },
   "outputs": [],
   "source": [
    "a - b"
   ]
  },
  {
   "cell_type": "markdown",
   "id": "b45e0f81",
   "metadata": {
    "slideshow": {
     "slide_type": "skip"
    }
   },
   "source": [
    "### Exercise\n",
    "\n",
    "See exercise 9 in the [exercise list](#ex)."
   ]
  },
  {
   "cell_type": "markdown",
   "id": "cac9e05e",
   "metadata": {
    "slideshow": {
     "slide_type": "subslide"
    }
   },
   "source": [
    "### String Methods\n",
    "\n",
    "We can use many *methods* to manipulate strings.\n",
    "\n",
    "We will not be able to cover all of them here, but let’s take a look at\n",
    "some of the most useful ones."
   ]
  },
  {
   "cell_type": "code",
   "execution_count": null,
   "id": "c00d1882",
   "metadata": {
    "hide-output": false,
    "slideshow": {
     "slide_type": "subslide"
    }
   },
   "outputs": [],
   "source": [
    "x"
   ]
  },
  {
   "cell_type": "code",
   "execution_count": null,
   "id": "70e2e0d3",
   "metadata": {
    "hide-output": false,
    "slideshow": {
     "slide_type": "subslide"
    }
   },
   "outputs": [],
   "source": [
    "x.lower()  # Makes all letters lower case"
   ]
  },
  {
   "cell_type": "code",
   "execution_count": null,
   "id": "0c6550ab",
   "metadata": {
    "hide-output": false,
    "slideshow": {
     "slide_type": "subslide"
    }
   },
   "outputs": [],
   "source": [
    "x.upper()  # Makes all letters upper case"
   ]
  },
  {
   "cell_type": "code",
   "execution_count": null,
   "id": "ce11eeca",
   "metadata": {
    "hide-output": false,
    "slideshow": {
     "slide_type": "subslide"
    }
   },
   "outputs": [],
   "source": [
    "x.count(\"l\")  # Counts number of a particular string"
   ]
  },
  {
   "cell_type": "code",
   "execution_count": null,
   "id": "ec5c8dbd",
   "metadata": {
    "hide-output": false,
    "slideshow": {
     "slide_type": "subslide"
    }
   },
   "outputs": [],
   "source": [
    "x.count(\"ll\")"
   ]
  },
  {
   "cell_type": "markdown",
   "id": "4b991da8",
   "metadata": {
    "slideshow": {
     "slide_type": "skip"
    }
   },
   "source": [
    "### Exercise\n",
    "\n",
    "See exercise 10 in the [exercise list](#ex)."
   ]
  },
  {
   "cell_type": "markdown",
   "id": "857a5543",
   "metadata": {
    "slideshow": {
     "slide_type": "skip"
    }
   },
   "source": [
    "### Exercise\n",
    "\n",
    "See exercise 11 in the [exercise list](#ex)."
   ]
  },
  {
   "cell_type": "markdown",
   "id": "bf2feb26",
   "metadata": {
    "slideshow": {
     "slide_type": "subslide"
    }
   },
   "source": [
    "### String Formatting\n",
    "\n",
    "Sometimes we’d like to reuse some portion of a string repeatedly, but\n",
    "still make some relatively small changes at each usage.\n",
    "\n",
    "We can do this with *string formatting*, which done by using `{}` as a\n",
    "*placeholder* where we’d like to change the string, with a variable name\n",
    "or expression.\n",
    "\n",
    "Let’s look at an example."
   ]
  },
  {
   "cell_type": "code",
   "execution_count": null,
   "id": "cfa6718d",
   "metadata": {
    "hide-output": false,
    "slideshow": {
     "slide_type": "subslide"
    }
   },
   "outputs": [],
   "source": [
    "country = \"Vietnam\"\n",
    "GDP = 223.9\n",
    "year = 2017\n",
    "my_string = f\"{country} had ${GDP} billion GDP in {year}\"\n",
    "print(my_string)"
   ]
  },
  {
   "cell_type": "markdown",
   "id": "e3b07c6c",
   "metadata": {
    "slideshow": {
     "slide_type": "subslide"
    }
   },
   "source": [
    "Rather than just substituting a variable name, you can use a calculation\n",
    "or expression."
   ]
  },
  {
   "cell_type": "code",
   "execution_count": null,
   "id": "43ad5584",
   "metadata": {
    "hide-output": false,
    "slideshow": {
     "slide_type": "subslide"
    }
   },
   "outputs": [],
   "source": [
    "print(f\"{5}**2 = {5**2}\")"
   ]
  },
  {
   "cell_type": "markdown",
   "id": "22751d59",
   "metadata": {
    "slideshow": {
     "slide_type": "subslide"
    }
   },
   "source": [
    "Or, using our previous example"
   ]
  },
  {
   "cell_type": "code",
   "execution_count": null,
   "id": "b64710cf",
   "metadata": {
    "hide-output": false,
    "slideshow": {
     "slide_type": "subslide"
    }
   },
   "outputs": [],
   "source": [
    "my_string = f\"{country} had ${GDP * 1_000_000} GDP in {year}\"\n",
    "print(my_string)"
   ]
  },
  {
   "cell_type": "markdown",
   "id": "4bd65cc6",
   "metadata": {
    "slideshow": {
     "slide_type": "subslide"
    }
   },
   "source": [
    "In these cases, the `f` in front of the string causes Python interpolate\n",
    "any valid expression within the `{}` braces."
   ]
  },
  {
   "cell_type": "markdown",
   "id": "a8803908",
   "metadata": {
    "slideshow": {
     "slide_type": "subslide"
    }
   },
   "source": [
    "### Exercise\n",
    "\n",
    "See exercise 12 in the [exercise list](#ex).\n",
    "\n",
    "Alternatively, to reuse a formatted string, you can call the `format` method (noting that you do **not** put `f` in front)."
   ]
  },
  {
   "cell_type": "code",
   "execution_count": null,
   "id": "b8fdc06e",
   "metadata": {
    "hide-output": false,
    "slideshow": {
     "slide_type": "subslide"
    }
   },
   "outputs": [],
   "source": [
    "gdp_string = \"{country} had ${GDP} billion in {year}\"\n",
    "\n",
    "gdp_string.format(country = \"Vietnam\", GDP = 223.9, year = 2017)"
   ]
  },
  {
   "cell_type": "markdown",
   "id": "bdd0a43d",
   "metadata": {
    "slideshow": {
     "slide_type": "skip"
    }
   },
   "source": [
    "### Exercise\n",
    "\n",
    "See exercise 13 in the [exercise list](#ex)."
   ]
  },
  {
   "cell_type": "markdown",
   "id": "583dd745",
   "metadata": {
    "slideshow": {
     "slide_type": "skip"
    }
   },
   "source": [
    "### Exercise\n",
    "\n",
    "See exercise 14 in the [exercise list](#ex).\n",
    "\n",
    "For more information on what you can do with string formatting (there is *a lot*\n",
    "that can be done…), see the [official Python documentation](https://docs.python.org/3.6/library/string.html) on the subject."
   ]
  },
  {
   "cell_type": "markdown",
   "id": "22f8e9c5",
   "metadata": {
    "slideshow": {
     "slide_type": "slide"
    }
   },
   "source": [
    "## Booleans\n",
    "\n",
    "A boolean is a type that denotes true or false.\n",
    "\n",
    "As you will soon see in the [control flow chapter](https://datascience.quantecon.org/control_flow.html), using\n",
    "boolean values allows you to perform or skip operations depending on whether or\n",
    "not a condition is met.\n",
    "\n",
    "Let’s start by creating some booleans and looking at them."
   ]
  },
  {
   "cell_type": "code",
   "execution_count": null,
   "id": "ec144461",
   "metadata": {
    "hide-output": false,
    "slideshow": {
     "slide_type": "subslide"
    }
   },
   "outputs": [],
   "source": [
    "x = True\n",
    "y = False\n",
    "\n",
    "type(x)"
   ]
  },
  {
   "cell_type": "code",
   "execution_count": null,
   "id": "6346b504",
   "metadata": {
    "hide-output": false,
    "slideshow": {
     "slide_type": "subslide"
    }
   },
   "outputs": [],
   "source": [
    "x"
   ]
  },
  {
   "cell_type": "code",
   "execution_count": null,
   "id": "23460c58",
   "metadata": {
    "hide-output": false,
    "slideshow": {
     "slide_type": "subslide"
    }
   },
   "outputs": [],
   "source": [
    "y"
   ]
  },
  {
   "cell_type": "markdown",
   "id": "dce9cb48",
   "metadata": {
    "slideshow": {
     "slide_type": "subslide"
    }
   },
   "source": [
    "### Comparison Operators\n",
    "\n",
    "Rather than directly write `True` or `False`, you will usually\n",
    "create booleans by making a comparison.\n",
    "\n",
    "For example, you might want to evaluate whether the price of a particular asset\n",
    "is greater than or less than some price.\n",
    "\n",
    "For two variables `x` and `y`, we can do the following comparisons:\n",
    "\n",
    "- Greater than: `x > y`  \n",
    "- Less than: `x < y`  \n",
    "- Equal to: `==`  \n",
    "- Greater than or equal to: `x >= y`  \n",
    "- Less than or equal to: `x <= y`  \n",
    "\n",
    "\n",
    "We demonstrate these below."
   ]
  },
  {
   "cell_type": "code",
   "execution_count": null,
   "id": "14742412",
   "metadata": {
    "hide-output": false,
    "slideshow": {
     "slide_type": "subslide"
    }
   },
   "outputs": [],
   "source": [
    "a = 4\n",
    "b = 2\n",
    "\n",
    "print(\"a > b\", \"is\", a > b)\n",
    "print(\"a < b\", \"is\", a < b)\n",
    "print(\"a == b\", \"is\", a == b)\n",
    "print(\"a >= b\", \"is\", a >= b)\n",
    "print(\"a <= b\", \"is\", a <= b)"
   ]
  },
  {
   "cell_type": "markdown",
   "id": "fa395aca",
   "metadata": {
    "slideshow": {
     "slide_type": "subslide"
    }
   },
   "source": [
    "### Negation\n",
    "\n",
    "Occasionally, determining whether a statement is\n",
    "“not true” or “not false” is more convenient than simply “true” or “false”.\n",
    "\n",
    "This is known as *negating* a statement.\n",
    "\n",
    "In Python, we can negate a boolean using the word `not`."
   ]
  },
  {
   "cell_type": "code",
   "execution_count": null,
   "id": "61f58d75",
   "metadata": {
    "hide-output": false,
    "slideshow": {
     "slide_type": "subslide"
    }
   },
   "outputs": [],
   "source": [
    "not False"
   ]
  },
  {
   "cell_type": "code",
   "execution_count": null,
   "id": "4d8db635",
   "metadata": {
    "hide-output": false,
    "slideshow": {
     "slide_type": "subslide"
    }
   },
   "outputs": [],
   "source": [
    "not True"
   ]
  },
  {
   "cell_type": "markdown",
   "id": "a060073e",
   "metadata": {
    "slideshow": {
     "slide_type": "subslide"
    }
   },
   "source": [
    "### Multiple Comparisons (and/or)\n",
    "\n",
    "Sometimes we need to evaluate multiple comparisons at once.\n",
    "\n",
    "This is done by using the words `and` and `or`.\n",
    "\n",
    "However, these are the “mathematical” *and*s and *or*s – so they\n",
    "don’t carry the same meaning as you’d use them in colloquial English.\n",
    "\n",
    "- `a and b` is true only when **both** `a` and `b` are true.  \n",
    "- `a or b` is true whenever at least one of `a` or `b` is true.  \n",
    "\n",
    "\n",
    "For example\n",
    "\n",
    "- The statement “I will accept the new job if the salary is higher\n",
    "  *and* I receive more vacation days” means that you would only accept\n",
    "  the new job if you both receive a higher salary and are given more\n",
    "  vacation days.  \n",
    "- The statement “I will accept the new job if the salary is higher *or*\n",
    "  I receive more vacation days” means that you would accept the job if\n",
    "  (1) they raised your salary, (2) you are given more vacation days, or\n",
    "  (3) they raise your salary and give you more vacation days.  \n",
    "\n",
    "\n",
    "Let’s see some examples."
   ]
  },
  {
   "cell_type": "code",
   "execution_count": null,
   "id": "b0d72634",
   "metadata": {
    "hide-output": false,
    "slideshow": {
     "slide_type": "subslide"
    }
   },
   "outputs": [],
   "source": [
    "True and False"
   ]
  },
  {
   "cell_type": "code",
   "execution_count": null,
   "id": "cf1350b4",
   "metadata": {
    "hide-output": false,
    "slideshow": {
     "slide_type": "subslide"
    }
   },
   "outputs": [],
   "source": [
    "True and True"
   ]
  },
  {
   "cell_type": "code",
   "execution_count": null,
   "id": "63bf7367",
   "metadata": {
    "hide-output": false,
    "slideshow": {
     "slide_type": "subslide"
    }
   },
   "outputs": [],
   "source": [
    "True or False"
   ]
  },
  {
   "cell_type": "code",
   "execution_count": null,
   "id": "aa69ad9f",
   "metadata": {
    "hide-output": false,
    "slideshow": {
     "slide_type": "subslide"
    }
   },
   "outputs": [],
   "source": [
    "False or False"
   ]
  },
  {
   "cell_type": "code",
   "execution_count": null,
   "id": "21151563",
   "metadata": {
    "hide-output": false,
    "slideshow": {
     "slide_type": "subslide"
    }
   },
   "outputs": [],
   "source": [
    "# Can chain multiple comparisons together.\n",
    "True and (False or True)"
   ]
  },
  {
   "cell_type": "markdown",
   "id": "08c66a0c",
   "metadata": {
    "slideshow": {
     "slide_type": "skip"
    }
   },
   "source": [
    "### Exercise\n",
    "\n",
    "See exercise 15 in the [exercise list](#ex)."
   ]
  },
  {
   "cell_type": "markdown",
   "id": "bb2720ca",
   "metadata": {
    "slideshow": {
     "slide_type": "subslide"
    }
   },
   "source": [
    "### `all` and `any`\n",
    "\n",
    "We have seen how we can use the words `and` and `or` to process two booleans\n",
    "at a time.\n",
    "\n",
    "The functions `all` and `any` allow us to process an unlimited number of\n",
    "booleans at once.\n",
    "\n",
    "`all(bools)` will return `True` if and only if all the booleans in `bools`\n",
    "is `True` and returns `False` otherwise.\n",
    "\n",
    "`any(bools)` returns `True` whenever one or more of `bools` is `True`.\n",
    "\n",
    "The exercise below will give you a chance to practice."
   ]
  },
  {
   "cell_type": "markdown",
   "id": "b46208d3",
   "metadata": {
    "slideshow": {
     "slide_type": "skip"
    }
   },
   "source": [
    "### Exercise\n",
    "\n",
    "See exercise 16 in the [exercise list](#ex).\n",
    "\n",
    "\n",
    "<a id='ex'></a>"
   ]
  },
  {
   "cell_type": "markdown",
   "id": "73c6cf87",
   "metadata": {
    "slideshow": {
     "slide_type": "skip"
    }
   },
   "source": [
    "## Exercises"
   ]
  },
  {
   "cell_type": "markdown",
   "id": "f0cd41a1",
   "metadata": {
    "slideshow": {
     "slide_type": "skip"
    }
   },
   "source": [
    "### Exercise 1\n",
    "\n",
    "What do you think the value of `z` is after running the code below?"
   ]
  },
  {
   "cell_type": "code",
   "execution_count": null,
   "id": "7875e826",
   "metadata": {
    "hide-output": false,
    "slideshow": {
     "slide_type": "skip"
    }
   },
   "outputs": [],
   "source": [
    "z = 3\n",
    "z = z + 4\n",
    "print(\"z is\", z)"
   ]
  },
  {
   "cell_type": "markdown",
   "id": "fe0a48f4",
   "metadata": {
    "slideshow": {
     "slide_type": "skip"
    }
   },
   "source": [
    "([back to text](#dir1))"
   ]
  },
  {
   "cell_type": "markdown",
   "id": "911101bc",
   "metadata": {
    "slideshow": {
     "slide_type": "skip"
    }
   },
   "source": [
    "### Exercise 2\n",
    "\n",
    "Read about out what the `len` function does (by writing len?).\n",
    "\n",
    "What will it produce if we give it the variable `x`?\n",
    "\n",
    "Check whether you were right by running the code `len(x)`.\n",
    "\n",
    "([back to text](#dir2))"
   ]
  },
  {
   "cell_type": "markdown",
   "id": "16bcd69f",
   "metadata": {
    "slideshow": {
     "slide_type": "skip"
    }
   },
   "source": [
    "### Exercise 3\n",
    "\n",
    "We can use our introspection skills to investigate a package’s contents.\n",
    "\n",
    "In the cell below, use tab completion to find a function from the `time`\n",
    "module that will display the **local** time.\n",
    "\n",
    "Use `time.FUNC_NAME?` (where `FUNC_NAME` is replaced with the\n",
    "function you found) to see information about that function and\n",
    "then call the function.\n",
    "\n",
    "Look for something to do with the word `local`"
   ]
  },
  {
   "cell_type": "code",
   "execution_count": null,
   "id": "ae5e5270",
   "metadata": {
    "hide-output": false,
    "slideshow": {
     "slide_type": "skip"
    }
   },
   "outputs": [],
   "source": [
    "import time\n",
    "# your code here -- notice the comment!"
   ]
  },
  {
   "cell_type": "markdown",
   "id": "db75d98a",
   "metadata": {
    "slideshow": {
     "slide_type": "skip"
    }
   },
   "source": [
    "([back to text](#dir3))"
   ]
  },
  {
   "cell_type": "markdown",
   "id": "e79031dc",
   "metadata": {
    "slideshow": {
     "slide_type": "skip"
    }
   },
   "source": [
    "### Exercise 4\n",
    "\n",
    "Try running `import time as t` in the cell below, then see if you can\n",
    "call the function you identified above.\n",
    "\n",
    "Does it work?\n",
    "\n",
    "([back to text](#dir4))"
   ]
  },
  {
   "cell_type": "markdown",
   "id": "14c89495",
   "metadata": {
    "slideshow": {
     "slide_type": "skip"
    }
   },
   "source": [
    "### Exercise 5\n",
    "\n",
    "Create the following variables:\n",
    "\n",
    "- `D`: A floating point number with the value 10,000  \n",
    "- `r`: A floating point number with value 0.025  \n",
    "- `T`: An integer with value 30  \n",
    "\n",
    "\n",
    "We will use them in a later exercise."
   ]
  },
  {
   "cell_type": "code",
   "execution_count": null,
   "id": "0d78e1a3",
   "metadata": {
    "hide-output": false,
    "slideshow": {
     "slide_type": "skip"
    }
   },
   "outputs": [],
   "source": [
    "# your code here!"
   ]
  },
  {
   "cell_type": "markdown",
   "id": "2f333434",
   "metadata": {
    "slideshow": {
     "slide_type": "skip"
    }
   },
   "source": [
    "([back to text](#dir5))"
   ]
  },
  {
   "cell_type": "markdown",
   "id": "86e147ef",
   "metadata": {
    "slideshow": {
     "slide_type": "skip"
    }
   },
   "source": [
    "### Exercise 6\n",
    "\n",
    "Remember the variables we created earlier?\n",
    "\n",
    "Let’s compute the present discounted value of a payment ($ D $) made\n",
    "in $ T $ years assuming an interest rate of 2.5%. Save this value to\n",
    "a new variable called `PDV` and print your output.\n",
    "\n",
    "The formula is\n",
    "\n",
    "$$\n",
    "\\text{PDV} = \\frac{D}{(1 + r)^T}\n",
    "$$"
   ]
  },
  {
   "cell_type": "code",
   "execution_count": null,
   "id": "f708addf",
   "metadata": {
    "hide-output": false,
    "slideshow": {
     "slide_type": "skip"
    }
   },
   "outputs": [],
   "source": [
    "# your code here"
   ]
  },
  {
   "cell_type": "markdown",
   "id": "6af797af",
   "metadata": {
    "slideshow": {
     "slide_type": "skip"
    }
   },
   "source": [
    "([back to text](#dir6))"
   ]
  },
  {
   "cell_type": "markdown",
   "id": "dc10481a",
   "metadata": {
    "slideshow": {
     "slide_type": "skip"
    }
   },
   "source": [
    "### Exercise 7\n",
    "\n",
    "Verify the “trick” where the percent difference ($ \\frac{x - y}{x} $)\n",
    "between two numbers close to 1 can be well approximated by the difference\n",
    "between the log of the two numbers ($ \\log(x) - \\log(y) $).\n",
    "\n",
    "Use the numbers `x` and `y` below.\n",
    "\n",
    "you will want to use the\n",
    "`math.log` function"
   ]
  },
  {
   "cell_type": "code",
   "execution_count": null,
   "id": "6f21c894",
   "metadata": {
    "hide-output": false,
    "slideshow": {
     "slide_type": "skip"
    }
   },
   "outputs": [],
   "source": [
    "x = 1.05\n",
    "y = 1.02"
   ]
  },
  {
   "cell_type": "markdown",
   "id": "7df0efd1",
   "metadata": {
    "slideshow": {
     "slide_type": "skip"
    }
   },
   "source": [
    "([back to text](#dir7))"
   ]
  },
  {
   "cell_type": "markdown",
   "id": "ae1aa413",
   "metadata": {
    "slideshow": {
     "slide_type": "skip"
    }
   },
   "source": [
    "### Exercise 8\n",
    "\n",
    "The code below is invalid Python code"
   ]
  },
  {
   "cell_type": "code",
   "execution_count": null,
   "id": "e7146e1e",
   "metadata": {
    "hide-output": false,
    "slideshow": {
     "slide_type": "skip"
    }
   },
   "outputs": [],
   "source": [
    "x = 'What's wrong with this string'"
   ]
  },
  {
   "cell_type": "markdown",
   "id": "1bd5503c",
   "metadata": {
    "slideshow": {
     "slide_type": "skip"
    }
   },
   "source": [
    "Can you fix it?\n",
    "\n",
    "Try creating a code cell below and testing things out until you\n",
    "find a solution.\n",
    "\n",
    "([back to text](#dir8))"
   ]
  },
  {
   "cell_type": "markdown",
   "id": "f5ea65c3",
   "metadata": {
    "slideshow": {
     "slide_type": "skip"
    }
   },
   "source": [
    "### Exercise 9\n",
    "\n",
    "Using the variables `x` and `y`, how could you create the sentence\n",
    "`Hello World`?\n",
    "\n",
    "Think about how to represent a space as a string.\n",
    "\n",
    "([back to text](#dir9))"
   ]
  },
  {
   "cell_type": "markdown",
   "id": "c97be554",
   "metadata": {
    "slideshow": {
     "slide_type": "skip"
    }
   },
   "source": [
    "### Exercise 10\n",
    "\n",
    "One of our favorite (and most frequently used) string methods is\n",
    "`replace`.\n",
    "\n",
    "It substitutes all occurrences of a particular pattern with a different pattern.\n",
    "\n",
    "For the variable `test` below, use the `replace` method to change the\n",
    "`c` to a `d`.\n",
    "\n",
    "Type `test.replace?` to get some help for how to use the method\n",
    "replace."
   ]
  },
  {
   "cell_type": "code",
   "execution_count": null,
   "id": "a5eefc16",
   "metadata": {
    "hide-output": false,
    "slideshow": {
     "slide_type": "skip"
    }
   },
   "outputs": [],
   "source": [
    "test = \"abc\""
   ]
  },
  {
   "cell_type": "markdown",
   "id": "75a09df3",
   "metadata": {
    "slideshow": {
     "slide_type": "skip"
    }
   },
   "source": [
    "([back to text](#dir10))"
   ]
  },
  {
   "cell_type": "markdown",
   "id": "8b86e447",
   "metadata": {
    "slideshow": {
     "slide_type": "skip"
    }
   },
   "source": [
    "### Exercise 11\n",
    "\n",
    "Suppose you are working with price data and encounter the value\n",
    "`\"\\$6.50\"`.\n",
    "\n",
    "We recognize this as being a number representing the quantity “six dollars and fifty cents.”\n",
    "\n",
    "However, Python interprets the value as the string\n",
    "`\"\\$6.50\"`. (Quiz: why is this a problem? Think about the examples above.)\n",
    "\n",
    "In this exercise, your task is to convert the variable `price` below\n",
    "into a number.\n",
    "\n",
    "Once the string is in a suitable format, you can call write\n",
    "`float(clean_price)` to make it a number."
   ]
  },
  {
   "cell_type": "code",
   "execution_count": null,
   "id": "4655406e",
   "metadata": {
    "hide-output": false,
    "slideshow": {
     "slide_type": "skip"
    }
   },
   "outputs": [],
   "source": [
    "price = \"$6.50\""
   ]
  },
  {
   "cell_type": "markdown",
   "id": "4e4c4967",
   "metadata": {
    "slideshow": {
     "slide_type": "skip"
    }
   },
   "source": [
    "([back to text](#dir11))"
   ]
  },
  {
   "cell_type": "markdown",
   "id": "7cabc33d",
   "metadata": {
    "slideshow": {
     "slide_type": "skip"
    }
   },
   "source": [
    "### Exercise 12\n",
    "\n",
    "Lookup a country in [World Bank database](https://data.worldbank.org), and\n",
    "format a string showing the growth rate of GDP over the last 2 years.\n",
    "\n",
    "([back to text](#dir12))"
   ]
  },
  {
   "cell_type": "markdown",
   "id": "0ce7c353",
   "metadata": {
    "slideshow": {
     "slide_type": "skip"
    }
   },
   "source": [
    "### Exercise 13\n",
    "\n",
    "Instead of hard-coding the values above, try to use the `country`, `GDP` and\n",
    "`year` variables you previously defined.\n",
    "\n",
    "([back to text](#dir13))"
   ]
  },
  {
   "cell_type": "markdown",
   "id": "a2ee3bc1",
   "metadata": {
    "slideshow": {
     "slide_type": "skip"
    }
   },
   "source": [
    "### Exercise 14\n",
    "\n",
    "Create a new string and use formatting to produce each of the following\n",
    "statements\n",
    "\n",
    "- “The 1st quarter revenue was 110M”  \n",
    "- “The 2nd quarter revenue was 95M”  \n",
    "- “The 3rd quarter revenue was 100M”  \n",
    "- “The 4th quarter revenue was 130M”  \n",
    "\n",
    "\n",
    "([back to text](#dir14))"
   ]
  },
  {
   "cell_type": "markdown",
   "id": "cfc58b23",
   "metadata": {
    "slideshow": {
     "slide_type": "skip"
    }
   },
   "source": [
    "### Exercise 15\n",
    "\n",
    "Without typing the commands, determine whether the following statements are\n",
    "true or false.\n",
    "\n",
    "Once you have evaluated whether the command is `True` or `False`, run the\n",
    "code in Python."
   ]
  },
  {
   "cell_type": "code",
   "execution_count": null,
   "id": "20c6e441",
   "metadata": {
    "hide-output": false,
    "slideshow": {
     "slide_type": "skip"
    }
   },
   "outputs": [],
   "source": [
    "x = 2\n",
    "y = 2\n",
    "z = 4\n",
    "\n",
    "# Statement 1\n",
    "x > z\n",
    "\n",
    "# Statement 1\n",
    "x == y\n",
    "\n",
    "# Statement 3\n",
    "(x < y) and (x > y)\n",
    "\n",
    "# Statement 4\n",
    "(x < y) or (x > y)\n",
    "\n",
    "# Statement 5\n",
    "(x <= y) and (x >= y)\n",
    "\n",
    "# Statement 6\n",
    "True and ((x < z) or (x < y))"
   ]
  },
  {
   "cell_type": "code",
   "execution_count": null,
   "id": "118f7b94",
   "metadata": {
    "hide-output": false,
    "slideshow": {
     "slide_type": "skip"
    }
   },
   "outputs": [],
   "source": [
    "# code here!"
   ]
  },
  {
   "cell_type": "markdown",
   "id": "edbe1fde",
   "metadata": {
    "slideshow": {
     "slide_type": "skip"
    }
   },
   "source": [
    "([back to text](#dir15))"
   ]
  },
  {
   "cell_type": "markdown",
   "id": "81f63f54",
   "metadata": {
    "slideshow": {
     "slide_type": "skip"
    }
   },
   "source": [
    "### Exercise 16\n",
    "\n",
    "For each of the code cells below, think carefully about what you expect to\n",
    "be returned *before* evaluating the cell.\n",
    "\n",
    "Then evaluate the cell to check your intuitions.\n",
    "\n",
    "NOTE: For now, do not worry about what the `[` and `]` mean – they\n",
    "allow us to create lists which we will learn about in an upcoming lecture."
   ]
  },
  {
   "cell_type": "code",
   "execution_count": null,
   "id": "e28c12d7",
   "metadata": {
    "hide-output": false,
    "slideshow": {
     "slide_type": "skip"
    }
   },
   "outputs": [],
   "source": [
    "all([True, True, True])"
   ]
  },
  {
   "cell_type": "code",
   "execution_count": null,
   "id": "4aed7b77",
   "metadata": {
    "hide-output": false,
    "slideshow": {
     "slide_type": "skip"
    }
   },
   "outputs": [],
   "source": [
    "all([False, True, False])"
   ]
  },
  {
   "cell_type": "code",
   "execution_count": null,
   "id": "d035a0f4",
   "metadata": {
    "hide-output": false,
    "slideshow": {
     "slide_type": "skip"
    }
   },
   "outputs": [],
   "source": [
    "all([False, False, False])"
   ]
  },
  {
   "cell_type": "code",
   "execution_count": null,
   "id": "c38b8342",
   "metadata": {
    "hide-output": false,
    "slideshow": {
     "slide_type": "skip"
    }
   },
   "outputs": [],
   "source": [
    "any([True, True, True])"
   ]
  },
  {
   "cell_type": "code",
   "execution_count": null,
   "id": "2ae6884c",
   "metadata": {
    "hide-output": false,
    "slideshow": {
     "slide_type": "skip"
    }
   },
   "outputs": [],
   "source": [
    "any([False, True, False])"
   ]
  },
  {
   "cell_type": "code",
   "execution_count": null,
   "id": "71debca8",
   "metadata": {
    "hide-output": false,
    "slideshow": {
     "slide_type": "skip"
    }
   },
   "outputs": [],
   "source": [
    "any([False, False, False])"
   ]
  },
  {
   "cell_type": "markdown",
   "id": "c885d882",
   "metadata": {
    "slideshow": {
     "slide_type": "skip"
    }
   },
   "source": [
    "([back to text](#dir16))"
   ]
  }
 ],
 "metadata": {
  "celltoolbar": "Slideshow",
  "date": 1627429658.4879563,
  "filename": "basics.md",
  "kernelspec": {
   "display_name": "Python 3 (ipykernel)",
   "language": "python",
   "name": "python3"
  },
  "language_info": {
   "codemirror_mode": {
    "name": "ipython",
    "version": 3
   },
   "file_extension": ".py",
   "mimetype": "text/x-python",
   "name": "python",
   "nbconvert_exporter": "python",
   "pygments_lexer": "ipython3",
   "version": "3.9.7"
  },
  "latex_envs": {
   "LaTeX_envs_menu_present": true,
   "autoclose": false,
   "autocomplete": false,
   "bibliofile": "smolyak.bib",
   "cite_by": "apalike",
   "current_citInitial": 1,
   "eqLabelWithNumbers": true,
   "eqNumInitial": 1,
   "hotkeys": {
    "equation": "Ctrl-E",
    "itemize": "Ctrl-I"
   },
   "labels_anchors": false,
   "latex_user_defs": false,
   "report_style_numbering": true,
   "user_envs_cfg": true
  },
  "title": "Basics",
  "toc": {
   "base_numbering": 1,
   "nav_menu": {},
   "number_sections": true,
   "sideBar": false,
   "skip_h1_title": true,
   "title_cell": "Table of Contents",
   "title_sidebar": "Contents",
   "toc_cell": true,
   "toc_position": {
    "height": "110px",
    "left": "1255px",
    "top": "21px",
    "width": "163px"
   },
   "toc_section_display": false,
   "toc_window_display": true
  }
 },
 "nbformat": 4,
 "nbformat_minor": 5
}
